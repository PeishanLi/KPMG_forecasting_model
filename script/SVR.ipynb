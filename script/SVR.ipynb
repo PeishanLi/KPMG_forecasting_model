{
 "cells": [
  {
   "cell_type": "code",
   "execution_count": 1,
   "metadata": {},
   "outputs": [],
   "source": [
    "# KPMG Forecasting Project\n",
    "# Support Vector Regression\n",
    "# Author: Taotao Jiang\n",
    "# Date: June 21, 2021"
   ]
  },
  {
   "cell_type": "code",
   "execution_count": 2,
   "metadata": {
    "scrolled": true
   },
   "outputs": [],
   "source": [
    "import pandas as pd\n",
    "import numpy as np\n",
    "from sklearn.model_selection import TimeSeriesSplit\n",
    "from sklearn.svm import SVR\n",
    "from sklearn.metrics import mean_squared_error, mean_absolute_error\n",
    "from sklearn.preprocessing import StandardScaler\n",
    "df = pd.read_csv('C:/Users/jtt/Desktop/KPMG/data_michelle.csv')\n",
    "df['date'] = df[['year','quarter']].apply(lambda x : '{}q{}'.format(x[0],x[1]), axis=1)\n",
    "df.drop(['year','quarter'], inplace=True, axis=1, errors='ignore')\n",
    "df['date'] = pd.to_datetime(df['date'], infer_datetime_format=True)\n",
    "df = df.set_index('date')"
   ]
  },
  {
   "cell_type": "code",
   "execution_count": 3,
   "metadata": {},
   "outputs": [],
   "source": [
    "def clean_dataset(df):\n",
    "    assert isinstance(df, pd.DataFrame), \"df needs to be a pd.DataFrame\"\n",
    "    df.dropna(inplace=True)\n",
    "    indices_to_keep = ~df.isin([np.nan, np.inf, -np.inf]).any(1)\n",
    "    return df[indices_to_keep].astype(np.float64)\n",
    "df = clean_dataset(df)\n",
    "\n",
    "def mean_absolute_percentage_error(y_true, y_pred): \n",
    "    y_true, y_pred = np.array(y_true), np.array(y_pred)\n",
    "    return np.mean(np.abs((y_true - y_pred) / y_true)) * 100"
   ]
  },
  {
   "cell_type": "code",
   "execution_count": 4,
   "metadata": {},
   "outputs": [],
   "source": [
    "split = 0.3\n",
    "y = df.dv\n",
    "x = df.drop(['dv'], axis=1)\n",
    "i = int(len(x)*(1-split))\n",
    "x_train = x.iloc[:i]\n",
    "y_train = y.iloc[:i]\n",
    "x_test = x.iloc[i:]\n",
    "y_test = y.iloc[i:]\n",
    "# Z-score the features\n",
    "scaler = StandardScaler()\n",
    "scaler.fit(x_train)\n",
    "x_train_scaled = scaler.transform(x_train)\n",
    "x_test_scaled = scaler.transform(x_test)"
   ]
  },
  {
   "cell_type": "code",
   "execution_count": 5,
   "metadata": {},
   "outputs": [
    {
     "name": "stdout",
     "output_type": "stream",
     "text": [
      "Mean_absolute_percentage_error of linear SVR is 608.522449819207\n",
      "The mean squared error of linear SVR is 0.7083673179914985\n",
      "The mean absoluate error of linear SVR is 0.3930673536789827\n",
      "Mean_absolute_percentage_error of Poly SVR is 541.0399631348165\n",
      "The mean squared error of Poly SVR is 17.19491618639979\n",
      "The mean absoluate error of Poly SVR is 1.223691556781063\n",
      "Mean_absolute_percentage_error of RBF SVR is 196.81399496024147\n",
      "The mean squared error of RBF SVR is 0.09201762189586334\n",
      "The mean absoluate error of RBF SVR is 0.19905414193432144\n"
     ]
    }
   ],
   "source": [
    "# linear kernel\n",
    "linear_svr = SVR(kernel='linear')\n",
    "linear_svr.fit(x_train_scaled, y_train)\n",
    "linear_svr_y_predict = linear_svr.predict(x_test_scaled)\n",
    " \n",
    "# Poly kernel\n",
    "poly_svr = SVR(kernel='poly')\n",
    "poly_svr.fit(x_train_scaled, y_train)\n",
    "poly_svr_y_predict = poly_svr.predict(x_test_scaled)\n",
    " \n",
    "# rbf kernel\n",
    "rbf_svr = SVR(kernel='rbf')\n",
    "rbf_svr.fit(x_train_scaled, y_train)\n",
    "rbf_svr_y_predict = rbf_svr.predict(x_test_scaled)\n",
    "\n",
    "print ('Mean_absolute_percentage_error of linear SVR is', mean_absolute_percentage_error(y_test, linear_svr_y_predict))\n",
    "print ('The mean squared error of linear SVR is', mean_squared_error(y_test, linear_svr_y_predict))\n",
    "print ('The mean absoluate error of linear SVR is', mean_absolute_error(y_test, linear_svr_y_predict))\n",
    "\n",
    "print ('Mean_absolute_percentage_error of Poly SVR is', mean_absolute_percentage_error(y_test, poly_svr_y_predict))\n",
    "print ('The mean squared error of Poly SVR is', mean_squared_error(y_test, poly_svr_y_predict))\n",
    "print ('The mean absoluate error of Poly SVR is', mean_absolute_error(y_test, poly_svr_y_predict))\n",
    "\n",
    "print ('Mean_absolute_percentage_error of RBF SVR is', mean_absolute_percentage_error(y_test, rbf_svr_y_predict))\n",
    "print ('The mean squared error of RBF SVR is', mean_squared_error(y_test, rbf_svr_y_predict))\n",
    "print ('The mean absoluate error of RBF SVR is', mean_absolute_error(y_test, rbf_svr_y_predict))    "
   ]
  },
  {
   "cell_type": "raw",
   "metadata": {},
   "source": [
    "Non-linear Support Vector Regression (Kernel=rbf) has the highest accuracy score in each metric."
   ]
  }
 ],
 "metadata": {
  "kernelspec": {
   "display_name": "Python 3",
   "language": "python",
   "name": "python3"
  },
  "language_info": {
   "codemirror_mode": {
    "name": "ipython",
    "version": 3
   },
   "file_extension": ".py",
   "mimetype": "text/x-python",
   "name": "python",
   "nbconvert_exporter": "python",
   "pygments_lexer": "ipython3",
   "version": "3.7.6"
  }
 },
 "nbformat": 4,
 "nbformat_minor": 4
}
