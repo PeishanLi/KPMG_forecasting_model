{
 "cells": [
  {
   "cell_type": "code",
   "execution_count": 1,
   "metadata": {},
   "outputs": [],
   "source": [
    "# KPMG Forecasting Project\n",
    "# feature regularization\n",
    "# Author: Kushal Wijesundara\n",
    "# Date: June 8, 2021"
   ]
  },
  {
   "cell_type": "code",
   "execution_count": 2,
   "metadata": {},
   "outputs": [],
   "source": [
    "import pandas as pd\n",
    "import numpy as np\n",
    "from sklearn.model_selection import TimeSeriesSplit\n",
    "from sklearn.linear_model import LassoCV, RidgeCV\n",
    "from sklearn.metrics import mean_squared_error\n",
    "df = pd.read_csv('data.csv')\n",
    "df['date'] = df[['year','quarter']].apply(lambda x : '{}q{}'.format(x[0],x[1]), axis=1)\n",
    "df.drop(['year','quarter'], inplace=True, axis=1, errors='ignore')\n",
    "df['date'] = pd.to_datetime(df['date'], infer_datetime_format=True)\n",
    "df = df.set_index('date')"
   ]
  },
  {
   "cell_type": "code",
   "execution_count": 3,
   "metadata": {},
   "outputs": [],
   "source": [
    "split = 0.3\n",
    "y = df.dropna().dv\n",
    "x = df.dropna().drop(['dv'], axis=1)\n",
    "i = int(len(x)*(1-split))\n",
    "x_train = x.iloc[:i]\n",
    "y_train = y.iloc[:i]\n",
    "x_test = x.iloc[i:]\n",
    "y_test = y.iloc[i:]\n",
    "tscv = TimeSeriesSplit(3)"
   ]
  },
  {
   "cell_type": "code",
   "execution_count": 4,
   "metadata": {},
   "outputs": [
    {
     "name": "stdout",
     "output_type": "stream",
     "text": [
      "Best model-Ridge:\n",
      "alpha = 0.004 \n",
      "MSE = 0.05662948148935373\n",
      "   Features  Coef Estimate\n",
      "0  bus_conf       2.734312\n",
      "1  con_cred      -0.959195\n",
      "2       cpi       5.795022\n",
      "3   con_exp       0.702647\n",
      "4       ppi       0.119571\n",
      "5       vix      -0.202275\n",
      "6       inv       2.012037\n",
      "7       ppe      -2.229474\n"
     ]
    }
   ],
   "source": [
    "ridge = RidgeCV(alphas=(0.004, 10),cv=tscv)\n",
    "results = ridge.fit(x_train, y_train)\n",
    "print(\"Best model-Ridge:\\nalpha = {} \".format(ridge.alpha_))\n",
    "ridge_coef = pd.DataFrame()\n",
    "ridge_coef[\"Features\"]= x_train.columns\n",
    "ridge_coef['Coef Estimate'] = pd.Series(ridge.coef_)\n",
    "y_pred = ridge.predict(x_test)\n",
    "mse = mean_squared_error(y_test, y_pred)\n",
    "print(f'MSE = {mse}')\n",
    "print(ridge_coef)"
   ]
  },
  {
   "cell_type": "code",
   "execution_count": 5,
   "metadata": {},
   "outputs": [
    {
     "name": "stdout",
     "output_type": "stream",
     "text": [
      "Best model-Lasso:\n",
      "alpha = 0.00021 \n",
      "MSE = 0.05865737639384063\n",
      "   Features  Coef Estimate\n",
      "0  bus_conf       1.315978\n",
      "1  con_cred      -0.000000\n",
      "2       cpi      10.826085\n",
      "3   con_exp       0.000000\n",
      "4       ppi       0.114138\n",
      "5       vix      -0.197485\n",
      "6       inv       1.577048\n",
      "7       ppe      -2.076553\n"
     ]
    }
   ],
   "source": [
    "lasso = LassoCV(alphas=(0.00001, 0.00021),cv=tscv)\n",
    "results = lasso.fit(x_train, y_train)\n",
    "print(\"Best model-Lasso:\\nalpha = {} \".format(lasso.alpha_))\n",
    "lasso_coef = pd.DataFrame()\n",
    "lasso_coef[\"Features\"]= x_train.columns\n",
    "lasso_coef['Coef Estimate'] = pd.Series(lasso.coef_)\n",
    "y_pred = lasso.predict(x_test)\n",
    "mse = mean_squared_error(y_test, y_pred)\n",
    "print(f'MSE = {mse}')\n",
    "print(lasso_coef)"
   ]
  }
 ],
 "metadata": {
  "kernelspec": {
   "display_name": "Python 3",
   "language": "python",
   "name": "python3"
  },
  "language_info": {
   "codemirror_mode": {
    "name": "ipython",
    "version": 3
   },
   "file_extension": ".py",
   "mimetype": "text/x-python",
   "name": "python",
   "nbconvert_exporter": "python",
   "pygments_lexer": "ipython3",
   "version": "3.7.1"
  }
 },
 "nbformat": 4,
 "nbformat_minor": 2
}
