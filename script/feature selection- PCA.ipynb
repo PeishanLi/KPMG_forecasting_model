{
 "cells": [
  {
   "cell_type": "code",
   "execution_count": 1,
   "metadata": {},
   "outputs": [],
   "source": [
    "# KPMG Forecasting Project\n",
    "# feature selection- PCA\n",
    "# Author: Taotao Jiang\n",
    "# Date: June 9, 2021"
   ]
  },
  {
   "cell_type": "code",
   "execution_count": 2,
   "metadata": {
    "scrolled": true
   },
   "outputs": [],
   "source": [
    "import pandas as pd\n",
    "import numpy as np\n",
    "from sklearn.model_selection import TimeSeriesSplit\n",
    "from sklearn.linear_model import LinearRegression\n",
    "from sklearn.metrics import mean_squared_error\n",
    "from sklearn.decomposition import PCA\n",
    "from sklearn.preprocessing import StandardScaler\n",
    "df = pd.read_csv('C:/Users/jtt/Desktop/KPMG/data.csv')\n",
    "df['date'] = df[['year','quarter']].apply(lambda x : '{}q{}'.format(x[0],x[1]), axis=1)\n",
    "df.drop(['year','quarter'], inplace=True, axis=1, errors='ignore')\n",
    "df['date'] = pd.to_datetime(df['date'], infer_datetime_format=True)\n",
    "df = df.set_index('date')"
   ]
  },
  {
   "cell_type": "code",
   "execution_count": 3,
   "metadata": {},
   "outputs": [
    {
     "data": {
      "text/plain": [
       "array([0.30178762, 0.20362477, 0.14622582, 0.1175854 , 0.08929466,\n",
       "       0.06804988, 0.0411827 ])"
      ]
     },
     "execution_count": 3,
     "metadata": {},
     "output_type": "execute_result"
    }
   ],
   "source": [
    "split = 0.3\n",
    "y = df.dropna().dv\n",
    "x = df.dropna().drop(['dv'], axis=1)\n",
    "i = int(len(x)*(1-split))\n",
    "x_train = x.iloc[:i]\n",
    "y_train = y.iloc[:i]\n",
    "x_test = x.iloc[i:]\n",
    "y_test = y.iloc[i:]\n",
    "# Z-score the features\n",
    "scaler = StandardScaler()\n",
    "scaler.fit(x_train)\n",
    "x_train_scaled = scaler.transform(x_train)\n",
    "x_test_scaled = scaler.transform(x_test)\n",
    "pca = PCA(n_components = 0.95)\n",
    "pca.fit(x_train_scaled)\n",
    "x_train_reduced = pca.transform(x_train_scaled)\n",
    "x_test_reduced = pca.transform(x_test_scaled)\n",
    "pca.explained_variance_ratio_"
   ]
  },
  {
   "cell_type": "code",
   "execution_count": 4,
   "metadata": {},
   "outputs": [
    {
     "name": "stdout",
     "output_type": "stream",
     "text": [
      "MSE = 0.060744038047818506\n",
      "PCA_MSE = 0.060741454114100375\n"
     ]
    }
   ],
   "source": [
    "# original regression\n",
    "lr = LinearRegression().fit(x_train,y_train)\n",
    "y_pred = lr.predict(x_test)\n",
    "mse = mean_squared_error(y_test, y_pred)\n",
    "print(f'MSE = {mse}')\n",
    "# pca + regression\n",
    "lr_pca = LinearRegression().fit(x_train_reduced,y_train)\n",
    "y_pred_pca = lr_pca.predict(x_test_reduced)\n",
    "mse = mean_squared_error(y_test, y_pred_pca)\n",
    "print(f'PCA_MSE = {mse}')"
   ]
  },
  {
   "cell_type": "markdown",
   "metadata": {},
   "source": [
    "After PCA, \n",
    "\n",
    "1) the features are reduced to 7, only 1 less than the original dataset<br> \n",
    "2) the mse metric almost the same<br> \n",
    "3) PCA doesn't reflect the meaning of orignial variables\n",
    "\n",
    "Thus, PCA is not appropriate in this case.  "
   ]
  }
 ],
 "metadata": {
  "kernelspec": {
   "display_name": "Python 3",
   "language": "python",
   "name": "python3"
  },
  "language_info": {
   "codemirror_mode": {
    "name": "ipython",
    "version": 3
   },
   "file_extension": ".py",
   "mimetype": "text/x-python",
   "name": "python",
   "nbconvert_exporter": "python",
   "pygments_lexer": "ipython3",
   "version": "3.7.6"
  }
 },
 "nbformat": 4,
 "nbformat_minor": 4
}
