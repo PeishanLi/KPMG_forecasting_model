{
 "cells": [
  {
   "cell_type": "code",
   "execution_count": 1,
   "metadata": {},
   "outputs": [],
   "source": [
    "# KPMG Forecasting Project\n",
    "# LT Model\n",
    "# Author: Kushal Wijesundara"
   ]
  },
  {
   "cell_type": "code",
   "execution_count": 2,
   "metadata": {
    "id": "Rgw7PL1nkV75"
   },
   "outputs": [],
   "source": [
    "import numpy as np\n",
    "import pandas as pd\n",
    "import datetime\n",
    "import itertools\n",
    "import matplotlib.pyplot as plt\n",
    "import matplotlib.pylab as pylab\n",
    "from sklearn.model_selection import train_test_split\n",
    "from sklearn.metrics import mean_absolute_error, make_scorer\n",
    "from sklearn.ensemble import RandomForestRegressor\n",
    "from statsmodels.tsa.seasonal import seasonal_decompose\n",
    "import xgboost as xgb\n",
    "from xgboost import plot_importance, plot_tree\n",
    "from xgboost import XGBRegressor\n",
    "from sktime.forecasting.compose import TransformedTargetForecaster\n",
    "from sktime.transformers.single_series.detrend import Deseasonalizer\n",
    "from sktime.forecasting.model_selection import temporal_train_test_split\n",
    "from sktime.forecasting.compose import ReducedRegressionForecaster\n",
    "from sklearn import preprocessing\n",
    "from sktime.forecasting.model_selection import SlidingWindowSplitter\n",
    "from sktime.forecasting.model_selection import ForecastingGridSearchCV\n",
    "import warnings\n",
    "warnings.filterwarnings(\"ignore\")  \n",
    "#require stable sktime version 0.4.3 "
   ]
  },
  {
   "cell_type": "markdown",
   "metadata": {},
   "source": [
    "### Data preprocessing\n"
   ]
  },
  {
   "cell_type": "code",
   "execution_count": 3,
   "metadata": {},
   "outputs": [],
   "source": [
    "# load data check relevant feature properties for LT model regression routines\n",
    "df = pd.read_csv('mth_data_michelle.csv').sort_values('date')\n",
    "df = df.set_index('date')\n",
    "df = df[[col for col in df if col not in ['stock_idx_dv']] + ['stock_idx_dv']]\n",
    "df.rename(columns={'stock_idx_dv':'EPS_10YR'}, inplace=True)\n",
    "cln = [l[0] for l in list(filter(lambda x:x[1]>2,[(col,(df.groupby((df[col]!= 0).cumsum()).cumcount()).max()) \n",
    " for col in df.columns]))]\n",
    "df = df.drop(cln, axis = 1)\n",
    "df = df.dropna(thresh=df.shape[0]*0.5,how='all',axis=1)\n",
    "df = df.dropna()\n",
    "df = df.apply(lambda x: [y if y <= 0.8 else 0 for y in x])\n",
    "df['EPS_10YR'].replace(to_replace=0, value=np.nan, inplace=True)\n",
    "df['EPS_10YR'].interpolate(inplace=True)\n",
    "\n",
    "# take 1/3 of ts data feature selection and avoid leakage to test\n",
    "df_reg = df[:int(0.3*len(df))]\n",
    "split_reg = 0.1\n",
    "y = df_reg.dropna().EPS_10YR\n",
    "x = df_reg.dropna().drop(['EPS_10YR'], axis=1)\n",
    "i = int(len(x)*(1-split_reg))\n",
    "x_train = x.iloc[:i]\n",
    "y_train = y.iloc[:i]\n",
    "x_test = x.iloc[i:]\n",
    "y_test = y.iloc[i:]"
   ]
  },
  {
   "cell_type": "markdown",
   "metadata": {},
   "source": [
    "### Feature Selection"
   ]
  },
  {
   "cell_type": "code",
   "execution_count": 4,
   "metadata": {},
   "outputs": [],
   "source": [
    "# xgb feature importance model\n",
    "xgb_model = XGBRegressor(\n",
    "        objective = 'reg:squarederror',\n",
    "        colsample_bytree = 0.5,\n",
    "        learning_rate = 0.01,\n",
    "        max_depth = 10,\n",
    "        min_child_weight = 3,\n",
    "        n_estimators = 200,\n",
    "        subsample = 0.5)\n",
    "xgb_model.fit(x_train, y_train, \n",
    "              eval_set=[(x_train, y_train), (x_test, y_test)], \n",
    "              early_stopping_rounds=50,verbose=False)\n",
    "feature_importance = xgb_model.get_booster().get_score(importance_type='weight')\n",
    "feature_importance = df[[*feature_importance]]\n",
    "\n",
    "# data for LT model\n",
    "df = pd.merge(feature_importance, df.EPS_10YR, how='outer', on='date')\n",
    "df.index = pd.to_datetime(df.index)\n",
    "colist = list(df.columns.values)\n",
    "df = df.dropna()"
   ]
  },
  {
   "cell_type": "markdown",
   "metadata": {},
   "source": [
    "### LT parameter selection - Model Demonstration"
   ]
  },
  {
   "cell_type": "code",
   "execution_count": 6,
   "metadata": {
    "id": "p6LrfDYVPsOg"
   },
   "outputs": [],
   "source": [
    "# define window (72 months) for long-term (18 months) prediction.  \n",
    "# split date defines the test data start year\n",
    "\n",
    "window = 72\n",
    "steps = 18\n",
    "split_date = \"2018-03-01\""
   ]
  },
  {
   "cell_type": "markdown",
   "metadata": {},
   "source": [
    "### Regression strategy"
   ]
  },
  {
   "cell_type": "code",
   "execution_count": 7,
   "metadata": {
    "id": "BsxPBzKf56jl"
   },
   "outputs": [],
   "source": [
    "# define pipelined forecaster with deseasonalizer and regression strategy\n",
    "\n",
    "# ReducedRegressionForecaster class in python object oriented programming utilize recursive reduction algorithm for forecasting. \n",
    "# First rolling window approach is used to transform the target series into panel data\n",
    "# For the recursive reduction strategy, a single estimator is fit for a one-step-ahead forecasting horizon \n",
    "# and call iteratively to predict multiple steps ahead (reference \n",
    "# https://github.com/alan-turing-institute/sktime/blob/v0.5.2/sktime/forecasting/compose/_reduce.py#L484-L510)\n",
    "\n",
    "# The class TransformedTargetForecaster works as a Meta-estimator for forecasting transformed time series\n",
    "# (reference https://github.com/alan-turing-institute/sktime/blob/v0.4.2/sktime/forecasting/compose/_pipeline.py#L19-L197)\n",
    "\n",
    "def target_forecast(val,var):\n",
    "    reg_model = RandomForestRegressor(n_estimators=2*steps, max_depth=steps, random_state=2)\n",
    "    pred = TransformedTargetForecaster([(\"1\", Deseasonalizer(sp=len(fh), model=\"additive\")),(\"2\",ReducedRegressionForecaster(reg_model, \n",
    "                    strategy=\"recursive\",window_length=window))])\n",
    "    return pred"
   ]
  },
  {
   "cell_type": "code",
   "execution_count": 8,
   "metadata": {
    "id": "Gi5rUlKUdmi4"
   },
   "outputs": [],
   "source": [
    "split = len(df.loc[split_date:])/len(df)\n",
    "train, test = temporal_train_test_split(df.squeeze(), test_size=split)\n",
    "def get_gscv(train):\n",
    "    cv = SlidingWindowSplitter(\n",
    "        initial_window=int(len(train)),\n",
    "        start_with_window=True,\n",
    "    )\n",
    "    param_grid = {\n",
    "        \"n_estimators\": [0.5*steps, steps, 2*steps],\n",
    "        \"max_depth\": [0.5*steps, steps, 2*steps],\n",
    "    }\n",
    "    gscv = ForecastingGridSearchCV(target_forecast, cv=cv, param_grid=param_grid, scoring=MetricFunctionWrapper(mean_absolute_error))\n",
    "    return gscv"
   ]
  },
  {
   "cell_type": "markdown",
   "metadata": {},
   "source": [
    "### Model train and prediction"
   ]
  },
  {
   "cell_type": "code",
   "execution_count": 9,
   "metadata": {
    "id": "MC8mW6IHBUNM"
   },
   "outputs": [],
   "source": [
    "# train model and predict target forecasts\n",
    "forecasts = []\n",
    "for index, col in df.iteritems():\n",
    "    col.index = col.index.to_period('M') \n",
    "    train, test = temporal_train_test_split(col, test_size=split)\n",
    "    fh = list(range(1,1+steps))\n",
    "    var = {'param':'avg'}\n",
    "    avg = [.5] \n",
    "    for val in avg:\n",
    "        pred = target_forecast(val,var)\n",
    "        fh = fh\n",
    "        pred.fit(train)\n",
    "        pred = pred.predict(fh)\n",
    "        forecasts.append(pred)\n",
    "forecasts = pd.concat([pd.DataFrame(forecasts).T])\n",
    "forecasts = forecasts.rename(columns=dict(zip(forecasts.columns,colist)))\n",
    "forecasts.rename(columns={'EPS_10YR':'EPS_10YR_fore'}, inplace=True)\n",
    "forecasts = forecasts.reset_index()\n",
    "forecasts = forecasts.rename(columns={'index':'date'})\n",
    "forecasts = forecasts.set_index('date')\n",
    "\n",
    "# cross-sectional regression\n",
    "y_ = forecasts.EPS_10YR_fore.values\n",
    "x_ = forecasts.drop(forecasts.iloc[:, np.r_[1, 2:]], axis = 1).assign(constant=1).values\n",
    "i = steps\n",
    "reg = []\n",
    "for n in range(i,len(forecasts)):\n",
    "    y = y_[(n - i):n]\n",
    "    X = x_[(n - i):n]\n",
    "    reg.append(np.linalg.inv(X.T.dot(X)).dot(X.T).dot(y).dot(x_[n, :]))\n",
    "y_reg=pd.concat([pd.DataFrame(reg, columns=['EPS_10YR_reg'])])\n",
    "# Ensemble\n",
    "fore_results = forecasts[['EPS_10YR_fore']].reset_index()\n",
    "reg_results = fore_results.merge(y_reg, left_index=True, right_index=True)\n",
    "reg_results = reg_results.set_index('date')\n",
    "reg_results = reg_results[['EPS_10YR_reg']]\n",
    "ensemble = pd.merge(forecasts,reg_results, how='outer', on='date').reset_index()\n",
    "ensemble = ensemble.assign(EPS_10YR_pred = ensemble.loc[:, [\"EPS_10YR_fore\", \"EPS_10YR_reg\"]].mean(axis=1)).set_index('date')\n",
    "LT_pred_results = ensemble[['EPS_10YR_pred']]\n",
    "result = pd.merge(df.EPS_10YR,LT_pred_results, how='outer', on='date')\n",
    "results = result.dropna()"
   ]
  },
  {
   "cell_type": "code",
   "execution_count": 10,
   "metadata": {},
   "outputs": [
    {
     "data": {
      "text/plain": [
       "0.028584519117901646"
      ]
     },
     "execution_count": 10,
     "metadata": {},
     "output_type": "execute_result"
    }
   ],
   "source": [
    "# Error metric\n",
    "results['MAPE'] = ((results.EPS_10YR-results.EPS_10YR_pred).abs()\n",
    "                 .div(results.EPS_10YR)\n",
    "                 .cumsum()\n",
    "                 /np.arange(1,len(results)+1)\n",
    "             )\n",
    "abs(results[\"MAPE\"].mean())"
   ]
  },
  {
   "cell_type": "code",
   "execution_count": 11,
   "metadata": {},
   "outputs": [
    {
     "data": {
      "image/png": "[encoded data removed]",
      "text/plain": [
       "<Figure size 720x432 with 1 Axes>"
      ]
     },
     "metadata": {
      "needs_background": "light"
     },
     "output_type": "display_data"
    }
   ],
   "source": [
    "plt.figure(figsize=(10,6))\n",
    "ax1 = df.EPS_10YR.plot(color='blue',label='Actual', linestyle=\"-\",marker='o', markersize=2.5, linewidth=1)\n",
    "ax2 = LT_pred_results.EPS_10YR_pred.plot(color='orange', label='Forecast', marker='o', markersize=2.5, linewidth=1)\n",
    "ax1.set_ylabel('EPS-10YR(Modified EPS)')\n",
    "ax1.set_xlabel('Year(Monthly data)')\n",
    "ax1.set_xlim([datetime.date(2010,12,1), datetime.date(2019,9,1)])\n",
    "ax1.set_ylim([-0.8, 0.5])\n",
    "plt.title('EPS Actual Vs Forecast')\n",
    "plt.axvline(pd.Timestamp(split_date),color=\"grey\", linestyle=\":\", label = 'Train-Test Split')\n",
    "plt.axvspan(pd.Timestamp(split_date), pd.Timestamp(window), alpha=0.1, color='grey')\n",
    "plt.legend()\n",
    "plt.show()"
   ]
  },
  {
   "cell_type": "markdown",
   "metadata": {},
   "source": [
    "### Future forecast"
   ]
  },
  {
   "cell_type": "code",
   "execution_count": 12,
   "metadata": {},
   "outputs": [
    {
     "name": "stdout",
     "output_type": "stream",
     "text": [
      "      index         0\n",
      "0   2021-02  0.011545\n",
      "1   2021-03  0.005772\n",
      "2   2021-04  0.116887\n",
      "3   2021-05  0.123902\n",
      "4   2021-06  0.152234\n",
      "5   2021-07  0.200317\n",
      "6   2021-08  0.201698\n",
      "7   2021-09  0.192255\n",
      "8   2021-10  0.174326\n",
      "9   2021-11  0.145408\n",
      "10  2021-12  0.123970\n",
      "11  2022-01  0.160815\n",
      "12  2022-02  0.116770\n",
      "13  2022-03  0.099805\n",
      "14  2022-04  0.030770\n",
      "15  2022-05  0.031838\n",
      "16  2022-06  0.033794\n",
      "17  2022-07  0.024869\n"
     ]
    }
   ],
   "source": [
    "#(Proof) LT model only uses past data for future forecasts.\n",
    "df.index = pd.to_datetime(df.index).to_period('M')\n",
    "split = len(df.loc[split_date:])/len(df)\n",
    "train, test = temporal_train_test_split(df.iloc[:,-1], test_size=split)\n",
    "future_forecasts = []\n",
    "fh = list(range(1,1+steps))\n",
    "var = {'param':'avg'}\n",
    "avg = [.5] \n",
    "for val in avg:\n",
    "    pred = target_forecast(val,var)\n",
    "    fh = list(range(2*steps,3*steps))\n",
    "    pred.fit(train)\n",
    "    pred = pred.predict(fh)\n",
    "    future_forecasts.append(pred)\n",
    "f_forecasts = pd.concat([pd.DataFrame(future_forecasts)])\n",
    "print(f_forecasts.T.reset_index())"
   ]
  },
  {
   "cell_type": "markdown",
   "metadata": {},
   "source": [
    "### Data Generation for Sector-Specific Models (to combine with ST model)"
   ]
  },
  {
   "cell_type": "code",
   "execution_count": 13,
   "metadata": {},
   "outputs": [],
   "source": [
    "# The entire data set with required exogenous variables span from 1990-2021 for the LT model\n",
    "# Sector-specific models require LT model results from the year 2003, which translates to 45 % train and 55 % test.\n",
    "# Having 45% train and 55% test is extremely unreliable. Therefore similar to short term model, \n",
    "# LT model adopted predicting from a cutoff point to cutoff+horizon. The time before cutoff point, \n",
    "# is the initial/lookback period, which is the training set. By translating the cutoff point from 2003-09-01\n",
    "# by 18 months (i.e. 2003-09-01,2005-02-01,..) We obtained the required data (save to csv) and combined it to use 4\n",
    "# for ensemble modeling."
   ]
  },
  {
   "cell_type": "code",
   "execution_count": 14,
   "metadata": {},
   "outputs": [],
   "source": [
    "cutoff_point = \"2003-09-01\"\n",
    "cutoff = len(df.loc[cutoff_point:])/len(df)\n",
    "forecasts = []\n",
    "for index, col in df.iteritems():\n",
    "    #col.index = col.index.to_period('M') \n",
    "    train, test = temporal_train_test_split(col, test_size=cutoff)\n",
    "    fh = list(range(1,1+steps))\n",
    "    var = {'param':'avg'}\n",
    "    avg = [.5] \n",
    "    for val in avg:\n",
    "        pred = target_forecast(val,var)\n",
    "        fh = fh\n",
    "        pred.fit(train)\n",
    "        pred = pred.predict(fh)\n",
    "        forecasts.append(pred)\n",
    "forecasts = pd.concat([pd.DataFrame(forecasts).T])\n",
    "forecasts = forecasts.rename(columns=dict(zip(forecasts.columns,colist)))\n",
    "forecasts.rename(columns={'EPS_10YR':'EPS_10YR_fore'}, inplace=True)\n",
    "forecasts = forecasts.reset_index()\n",
    "forecasts = forecasts.rename(columns={'index':'date'})\n",
    "forecasts = forecasts.set_index('date')\n",
    "y_ = forecasts.EPS_10YR_fore.values\n",
    "x_ = forecasts[['vix']].assign(constant=1).values\n",
    "i = steps\n",
    "reg = []\n",
    "for n in range(i,len(forecasts)):\n",
    "    y = y_[(n - i):n]\n",
    "    X = x_[(n - i):n]\n",
    "    reg.append(np.linalg.inv(X.T.dot(X)).dot(X.T).dot(y).dot(x_[n, :]))\n",
    "y_reg=pd.concat([pd.DataFrame(reg, columns=['EPS_10YR_reg'])])\n",
    "fore_results = forecasts[['EPS_10YR_fore']].reset_index()\n",
    "reg_results = fore_results.merge(y_reg, left_index=True, right_index=True)\n",
    "reg_results = reg_results.set_index('date')\n",
    "reg_results = reg_results[['EPS_10YR_reg']]\n",
    "ensemble = pd.merge(forecasts,reg_results, how='outer', on='date').reset_index()\n",
    "ensemble = ensemble.assign(EPS_10YR_pred = ensemble.loc[:, [\"EPS_10YR_fore\", \"EPS_10YR_reg\"]].mean(axis=1)).set_index('date')\n",
    "LT_pred_results = ensemble[['EPS_10YR_pred']]\n",
    "result = pd.merge(df.EPS_10YR,LT_pred_results, how='outer', on='date')\n",
    "results = result.dropna()"
   ]
  },
  {
   "cell_type": "code",
   "execution_count": 15,
   "metadata": {},
   "outputs": [],
   "source": [
    "results.to_csv('LTsec1.csv')"
   ]
  }
 ],
 "metadata": {
  "colab": {
   "collapsed_sections": [],
   "name": "RandomForest_new_EPS-10YR.ipynb",
   "provenance": []
  },
  "kernelspec": {
   "display_name": "Python 3",
   "language": "python",
   "name": "python3"
  },
  "language_info": {
   "codemirror_mode": {
    "name": "ipython",
    "version": 3
   },
   "file_extension": ".py",
   "mimetype": "text/x-python",
   "name": "python",
   "nbconvert_exporter": "python",
   "pygments_lexer": "ipython3",
   "version": "3.8.5"
  }
 },
 "nbformat": 4,
 "nbformat_minor": 1
}
