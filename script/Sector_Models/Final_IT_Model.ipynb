{
  "nbformat": 4,
  "nbformat_minor": 0,
  "metadata": {
    "kernelspec": {
      "display_name": "Python 3",
      "language": "python",
      "name": "python3"
    },
    "language_info": {
      "codemirror_mode": {
        "name": "ipython",
        "version": 3
      },
      "file_extension": ".py",
      "mimetype": "text/x-python",
      "name": "python",
      "nbconvert_exporter": "python",
      "pygments_lexer": "ipython3",
      "version": "3.8.5"
    },
    "colab": {
      "name": "Final IT Model.ipynb",
      "provenance": [],
      "collapsed_sections": []
    }
  },
  "cells": [
    {
      "cell_type": "markdown",
      "metadata": {
        "id": "si4Hcm4hj2zu"
      },
      "source": [
        "# IT Industry"
      ]
    },
    {
      "cell_type": "markdown",
      "metadata": {
        "id": "PI4jfop1j5Hr"
      },
      "source": [
        "Import libraries"
      ]
    },
    {
      "cell_type": "code",
      "metadata": {
        "colab": {
          "base_uri": "https://localhost:8080/"
        },
        "id": "FHBNge4AjaUZ",
        "outputId": "9bb15bb8-76fd-4088-ddf6-54b78708da77"
      },
      "source": [
        "%pip install quandl"
      ],
      "execution_count": null,
      "outputs": [
        {
          "output_type": "stream",
          "name": "stdout",
          "text": [
            "Collecting quandl\n",
            "  Downloading Quandl-3.6.1-py2.py3-none-any.whl (26 kB)\n",
            "Requirement already satisfied: more-itertools in /usr/local/lib/python3.7/dist-packages (from quandl) (8.8.0)\n",
            "Requirement already satisfied: six in /usr/local/lib/python3.7/dist-packages (from quandl) (1.15.0)\n",
            "Collecting inflection>=0.3.1\n",
            "  Downloading inflection-0.5.1-py2.py3-none-any.whl (9.5 kB)\n",
            "Requirement already satisfied: numpy>=1.8 in /usr/local/lib/python3.7/dist-packages (from quandl) (1.19.5)\n",
            "Requirement already satisfied: pandas>=0.14 in /usr/local/lib/python3.7/dist-packages (from quandl) (1.1.5)\n",
            "Requirement already satisfied: python-dateutil in /usr/local/lib/python3.7/dist-packages (from quandl) (2.8.2)\n",
            "Requirement already satisfied: requests>=2.7.0 in /usr/local/lib/python3.7/dist-packages (from quandl) (2.23.0)\n",
            "Requirement already satisfied: pytz>=2017.2 in /usr/local/lib/python3.7/dist-packages (from pandas>=0.14->quandl) (2018.9)\n",
            "Requirement already satisfied: urllib3!=1.25.0,!=1.25.1,<1.26,>=1.21.1 in /usr/local/lib/python3.7/dist-packages (from requests>=2.7.0->quandl) (1.24.3)\n",
            "Requirement already satisfied: chardet<4,>=3.0.2 in /usr/local/lib/python3.7/dist-packages (from requests>=2.7.0->quandl) (3.0.4)\n",
            "Requirement already satisfied: certifi>=2017.4.17 in /usr/local/lib/python3.7/dist-packages (from requests>=2.7.0->quandl) (2021.5.30)\n",
            "Requirement already satisfied: idna<3,>=2.5 in /usr/local/lib/python3.7/dist-packages (from requests>=2.7.0->quandl) (2.10)\n",
            "Installing collected packages: inflection, quandl\n",
            "Successfully installed inflection-0.5.1 quandl-3.6.1\n"
          ]
        }
      ]
    },
    {
      "cell_type": "code",
      "metadata": {
        "id": "_3nntdQXcKS1"
      },
      "source": [
        "import warnings\n",
        "warnings.filterwarnings('ignore')\n",
        "import numpy as np\n",
        "import pandas as pd\n",
        "import matplotlib.pyplot as plt\n",
        "import seaborn as sns\n",
        "import numpy as np\n",
        "import quandl"
      ],
      "execution_count": null,
      "outputs": []
    },
    {
      "cell_type": "code",
      "metadata": {
        "colab": {
          "base_uri": "https://localhost:8080/"
        },
        "id": "OL0YG5zmggtz",
        "outputId": "ed17df1d-4fa4-4710-a5f0-e8387366639f"
      },
      "source": [
        "%pip install pmdarima"
      ],
      "execution_count": null,
      "outputs": [
        {
          "output_type": "stream",
          "name": "stdout",
          "text": [
            "Collecting pmdarima\n",
            "  Downloading pmdarima-1.8.2-cp37-cp37m-manylinux1_x86_64.whl (1.5 MB)\n",
            "\u001b[K     |████████████████████████████████| 1.5 MB 5.1 MB/s \n",
            "\u001b[?25hRequirement already satisfied: scipy>=1.3.2 in /usr/local/lib/python3.7/dist-packages (from pmdarima) (1.4.1)\n",
            "Collecting statsmodels!=0.12.0,>=0.11\n",
            "  Downloading statsmodels-0.12.2-cp37-cp37m-manylinux1_x86_64.whl (9.5 MB)\n",
            "\u001b[K     |████████████████████████████████| 9.5 MB 25.3 MB/s \n",
            "\u001b[?25hRequirement already satisfied: joblib>=0.11 in /usr/local/lib/python3.7/dist-packages (from pmdarima) (1.0.1)\n",
            "Requirement already satisfied: numpy~=1.19.0 in /usr/local/lib/python3.7/dist-packages (from pmdarima) (1.19.5)\n",
            "Requirement already satisfied: Cython!=0.29.18,>=0.29 in /usr/local/lib/python3.7/dist-packages (from pmdarima) (0.29.24)\n",
            "Requirement already satisfied: pandas>=0.19 in /usr/local/lib/python3.7/dist-packages (from pmdarima) (1.1.5)\n",
            "Requirement already satisfied: scikit-learn>=0.22 in /usr/local/lib/python3.7/dist-packages (from pmdarima) (0.22.2.post1)\n",
            "Requirement already satisfied: urllib3 in /usr/local/lib/python3.7/dist-packages (from pmdarima) (1.24.3)\n",
            "Requirement already satisfied: setuptools!=50.0.0,>=38.6.0 in /usr/local/lib/python3.7/dist-packages (from pmdarima) (57.4.0)\n",
            "Requirement already satisfied: pytz>=2017.2 in /usr/local/lib/python3.7/dist-packages (from pandas>=0.19->pmdarima) (2018.9)\n",
            "Requirement already satisfied: python-dateutil>=2.7.3 in /usr/local/lib/python3.7/dist-packages (from pandas>=0.19->pmdarima) (2.8.2)\n",
            "Requirement already satisfied: six>=1.5 in /usr/local/lib/python3.7/dist-packages (from python-dateutil>=2.7.3->pandas>=0.19->pmdarima) (1.15.0)\n",
            "Requirement already satisfied: patsy>=0.5 in /usr/local/lib/python3.7/dist-packages (from statsmodels!=0.12.0,>=0.11->pmdarima) (0.5.1)\n",
            "Installing collected packages: statsmodels, pmdarima\n",
            "  Attempting uninstall: statsmodels\n",
            "    Found existing installation: statsmodels 0.10.2\n",
            "    Uninstalling statsmodels-0.10.2:\n",
            "      Successfully uninstalled statsmodels-0.10.2\n",
            "Successfully installed pmdarima-1.8.2 statsmodels-0.12.2\n"
          ]
        }
      ]
    },
    {
      "cell_type": "code",
      "metadata": {
        "id": "ZmMwOetmcKS6"
      },
      "source": [
        "from pmdarima.arima import auto_arima\n",
        "from statsmodels.tsa.stattools import acf\n",
        "from statsmodels.tsa.arima_model import ARIMA\n",
        "from statsmodels.tsa.statespace.sarimax import SARIMAX\n",
        "from statsmodels.tsa.statespace.varmax import VARMAX\n",
        "import pmdarima as pm\n",
        "from pmdarima.arima import ADFTest\n",
        "from statsmodels.graphics.tsaplots import plot_acf, plot_pacf\n",
        "from statsmodels.tsa.seasonal import seasonal_decompose\n",
        "from sklearn.metrics import mean_absolute_error as mae\n",
        "#from sklearn.metrics import mean_absolute_percentage_error as mape, \n",
        "from functools import reduce\n",
        "from dateutil.relativedelta import relativedelta"
      ],
      "execution_count": null,
      "outputs": []
    },
    {
      "cell_type": "markdown",
      "metadata": {
        "id": "uq64W1Zjj9dj"
      },
      "source": [
        "## Target Variable"
      ]
    },
    {
      "cell_type": "code",
      "metadata": {
        "colab": {
          "base_uri": "https://localhost:8080/"
        },
        "id": "KSnbwQ41gTY1",
        "outputId": "a37dc8bf-5d42-4e60-c965-1e32d03a55d9"
      },
      "source": [
        "from google.colab import drive\n",
        "drive.mount('/content/drive')"
      ],
      "execution_count": null,
      "outputs": [
        {
          "output_type": "stream",
          "name": "stdout",
          "text": [
            "Mounted at /content/drive\n"
          ]
        }
      ]
    },
    {
      "cell_type": "markdown",
      "metadata": {
        "id": "nL6cJUDFkaDq"
      },
      "source": [
        "Load PE ratio data from Capital IQ"
      ]
    },
    {
      "cell_type": "code",
      "metadata": {
        "colab": {
          "base_uri": "https://localhost:8080/",
          "height": 235
        },
        "id": "6VkjHeDSkDia",
        "outputId": "6005180b-a661-4ee1-9f1a-d75915e0fd12"
      },
      "source": [
        "pe_df=pd.read_excel('/content/drive/MyDrive/Colab Notebooks/KPMG summer project/ITdata/IT_PE_daily_normalized.xlsx')\n",
        "pe_df=pe_df.rename(columns={'Dates': 'Date'})\n",
        "pe_df=pe_df.rename(columns={'S&P 500 Information Technology (Sector) (^SP500-45) - P/Normalized EPS': 'PE'})\n",
        "pe_df['Date']=pd.to_datetime(pe_df['Date'])\n",
        "pe_df=pe_df.set_index('Date')\n",
        "pe_df.head()"
      ],
      "execution_count": null,
      "outputs": [
        {
          "output_type": "execute_result",
          "data": {
            "text/html": [
              "<div>\n",
              "<style scoped>\n",
              "    .dataframe tbody tr th:only-of-type {\n",
              "        vertical-align: middle;\n",
              "    }\n",
              "\n",
              "    .dataframe tbody tr th {\n",
              "        vertical-align: top;\n",
              "    }\n",
              "\n",
              "    .dataframe thead th {\n",
              "        text-align: right;\n",
              "    }\n",
              "</style>\n",
              "<table border=\"1\" class=\"dataframe\">\n",
              "  <thead>\n",
              "    <tr style=\"text-align: right;\">\n",
              "      <th></th>\n",
              "      <th>PE</th>\n",
              "    </tr>\n",
              "    <tr>\n",
              "      <th>Date</th>\n",
              "      <th></th>\n",
              "    </tr>\n",
              "  </thead>\n",
              "  <tbody>\n",
              "    <tr>\n",
              "      <th>2001-08-23</th>\n",
              "      <td>59.042834</td>\n",
              "    </tr>\n",
              "    <tr>\n",
              "      <th>2001-08-24</th>\n",
              "      <td>63.403021</td>\n",
              "    </tr>\n",
              "    <tr>\n",
              "      <th>2001-08-27</th>\n",
              "      <td>63.498472</td>\n",
              "    </tr>\n",
              "    <tr>\n",
              "      <th>2001-08-28</th>\n",
              "      <td>61.720208</td>\n",
              "    </tr>\n",
              "    <tr>\n",
              "      <th>2001-08-29</th>\n",
              "      <td>60.543478</td>\n",
              "    </tr>\n",
              "  </tbody>\n",
              "</table>\n",
              "</div>"
            ],
            "text/plain": [
              "                   PE\n",
              "Date                 \n",
              "2001-08-23  59.042834\n",
              "2001-08-24  63.403021\n",
              "2001-08-27  63.498472\n",
              "2001-08-28  61.720208\n",
              "2001-08-29  60.543478"
            ]
          },
          "metadata": {},
          "execution_count": 12
        }
      ]
    },
    {
      "cell_type": "markdown",
      "metadata": {
        "id": "JseSzzyekdkJ"
      },
      "source": [
        "Load Price data from Capital IQ"
      ]
    },
    {
      "cell_type": "code",
      "metadata": {
        "colab": {
          "base_uri": "https://localhost:8080/",
          "height": 235
        },
        "id": "qErvu4Blkif1",
        "outputId": "b106ca6b-06d7-48e6-a4f0-4822b9f27e3d"
      },
      "source": [
        "price=pd.read_excel('/content/drive/MyDrive/Colab Notebooks/KPMG summer project/ITdata/IT_daily_price.xlsx')\n",
        "price=price.rename(columns={'Dates': 'Date'})\n",
        "price=price.rename(columns={'S&P 500 Information Technology (Sector) (^SP500-45) - Index Value': 'Price'})\n",
        "price['Date']=pd.to_datetime(price['Date'])\n",
        "price=price.set_index('Date')\n",
        "price.head()"
      ],
      "execution_count": null,
      "outputs": [
        {
          "output_type": "execute_result",
          "data": {
            "text/html": [
              "<div>\n",
              "<style scoped>\n",
              "    .dataframe tbody tr th:only-of-type {\n",
              "        vertical-align: middle;\n",
              "    }\n",
              "\n",
              "    .dataframe tbody tr th {\n",
              "        vertical-align: top;\n",
              "    }\n",
              "\n",
              "    .dataframe thead th {\n",
              "        text-align: right;\n",
              "    }\n",
              "</style>\n",
              "<table border=\"1\" class=\"dataframe\">\n",
              "  <thead>\n",
              "    <tr style=\"text-align: right;\">\n",
              "      <th></th>\n",
              "      <th>Price</th>\n",
              "    </tr>\n",
              "    <tr>\n",
              "      <th>Date</th>\n",
              "      <th></th>\n",
              "    </tr>\n",
              "  </thead>\n",
              "  <tbody>\n",
              "    <tr>\n",
              "      <th>2001-08-01</th>\n",
              "      <td>383.611669</td>\n",
              "    </tr>\n",
              "    <tr>\n",
              "      <th>2001-08-02</th>\n",
              "      <td>391.094138</td>\n",
              "    </tr>\n",
              "    <tr>\n",
              "      <th>2001-08-03</th>\n",
              "      <td>386.390334</td>\n",
              "    </tr>\n",
              "    <tr>\n",
              "      <th>2001-08-06</th>\n",
              "      <td>379.604530</td>\n",
              "    </tr>\n",
              "    <tr>\n",
              "      <th>2001-08-07</th>\n",
              "      <td>377.275542</td>\n",
              "    </tr>\n",
              "  </tbody>\n",
              "</table>\n",
              "</div>"
            ],
            "text/plain": [
              "                 Price\n",
              "Date                  \n",
              "2001-08-01  383.611669\n",
              "2001-08-02  391.094138\n",
              "2001-08-03  386.390334\n",
              "2001-08-06  379.604530\n",
              "2001-08-07  377.275542"
            ]
          },
          "metadata": {},
          "execution_count": 13
        }
      ]
    },
    {
      "cell_type": "markdown",
      "metadata": {
        "id": "FH89qM3vk-XX"
      },
      "source": [
        "Load 10 year treasury rate from Quandl"
      ]
    },
    {
      "cell_type": "code",
      "metadata": {
        "colab": {
          "base_uri": "https://localhost:8080/",
          "height": 235
        },
        "id": "ojYeO-AFk94Y",
        "outputId": "6fd54816-cc89-4543-96c0-5f8d1662f64d"
      },
      "source": [
        "quandl.ApiConfig.api_key='91nyd8SyzTFzVtMSfKPJ'\n",
        "treasury=quandl.get('FRED/DGS10')\n",
        "treasury['Date']=treasury.index\n",
        "treasury['Date']=pd.to_datetime(treasury['Date'])\n",
        "treasury=treasury.rename(columns={'Value': 'Treasury'})\n",
        "treasury=treasury.reset_index(drop=True)\n",
        "treasury=treasury.set_index('Date')\n",
        "treasury.head()"
      ],
      "execution_count": null,
      "outputs": [
        {
          "output_type": "execute_result",
          "data": {
            "text/html": [
              "<div>\n",
              "<style scoped>\n",
              "    .dataframe tbody tr th:only-of-type {\n",
              "        vertical-align: middle;\n",
              "    }\n",
              "\n",
              "    .dataframe tbody tr th {\n",
              "        vertical-align: top;\n",
              "    }\n",
              "\n",
              "    .dataframe thead th {\n",
              "        text-align: right;\n",
              "    }\n",
              "</style>\n",
              "<table border=\"1\" class=\"dataframe\">\n",
              "  <thead>\n",
              "    <tr style=\"text-align: right;\">\n",
              "      <th></th>\n",
              "      <th>Treasury</th>\n",
              "    </tr>\n",
              "    <tr>\n",
              "      <th>Date</th>\n",
              "      <th></th>\n",
              "    </tr>\n",
              "  </thead>\n",
              "  <tbody>\n",
              "    <tr>\n",
              "      <th>1962-01-02</th>\n",
              "      <td>4.06</td>\n",
              "    </tr>\n",
              "    <tr>\n",
              "      <th>1962-01-03</th>\n",
              "      <td>4.03</td>\n",
              "    </tr>\n",
              "    <tr>\n",
              "      <th>1962-01-04</th>\n",
              "      <td>3.99</td>\n",
              "    </tr>\n",
              "    <tr>\n",
              "      <th>1962-01-05</th>\n",
              "      <td>4.02</td>\n",
              "    </tr>\n",
              "    <tr>\n",
              "      <th>1962-01-08</th>\n",
              "      <td>4.03</td>\n",
              "    </tr>\n",
              "  </tbody>\n",
              "</table>\n",
              "</div>"
            ],
            "text/plain": [
              "            Treasury\n",
              "Date                \n",
              "1962-01-02      4.06\n",
              "1962-01-03      4.03\n",
              "1962-01-04      3.99\n",
              "1962-01-05      4.02\n",
              "1962-01-08      4.03"
            ]
          },
          "metadata": {},
          "execution_count": 14
        }
      ]
    },
    {
      "cell_type": "markdown",
      "metadata": {
        "id": "aeAVQTVDmMND"
      },
      "source": [
        "Transformation"
      ]
    },
    {
      "cell_type": "code",
      "metadata": {
        "colab": {
          "base_uri": "https://localhost:8080/",
          "height": 235
        },
        "id": "kDiIeLAZmOvm",
        "outputId": "58dbac87-ace3-4945-fed6-1a416ea492a0"
      },
      "source": [
        "target=pe_df.join(price).join(treasury)\n",
        "target\n",
        "target['Year']=target.index.year\n",
        "target['Month']=target.index.month\n",
        "target=target.groupby([target['Year'], target['Month']]).mean()\n",
        "target.head()"
      ],
      "execution_count": null,
      "outputs": [
        {
          "output_type": "execute_result",
          "data": {
            "text/html": [
              "<div>\n",
              "<style scoped>\n",
              "    .dataframe tbody tr th:only-of-type {\n",
              "        vertical-align: middle;\n",
              "    }\n",
              "\n",
              "    .dataframe tbody tr th {\n",
              "        vertical-align: top;\n",
              "    }\n",
              "\n",
              "    .dataframe thead th {\n",
              "        text-align: right;\n",
              "    }\n",
              "</style>\n",
              "<table border=\"1\" class=\"dataframe\">\n",
              "  <thead>\n",
              "    <tr style=\"text-align: right;\">\n",
              "      <th></th>\n",
              "      <th></th>\n",
              "      <th>PE</th>\n",
              "      <th>Price</th>\n",
              "      <th>Treasury</th>\n",
              "    </tr>\n",
              "    <tr>\n",
              "      <th>Year</th>\n",
              "      <th>Month</th>\n",
              "      <th></th>\n",
              "      <th></th>\n",
              "      <th></th>\n",
              "    </tr>\n",
              "  </thead>\n",
              "  <tbody>\n",
              "    <tr>\n",
              "      <th rowspan=\"5\" valign=\"top\">2001</th>\n",
              "      <th>8</th>\n",
              "      <td>60.572125</td>\n",
              "      <td>339.866799</td>\n",
              "      <td>4.861429</td>\n",
              "    </tr>\n",
              "    <tr>\n",
              "      <th>9</th>\n",
              "      <td>51.451013</td>\n",
              "      <td>279.650007</td>\n",
              "      <td>4.748667</td>\n",
              "    </tr>\n",
              "    <tr>\n",
              "      <th>10</th>\n",
              "      <td>60.709621</td>\n",
              "      <td>300.062071</td>\n",
              "      <td>4.566818</td>\n",
              "    </tr>\n",
              "    <tr>\n",
              "      <th>11</th>\n",
              "      <td>95.584733</td>\n",
              "      <td>349.391499</td>\n",
              "      <td>4.651500</td>\n",
              "    </tr>\n",
              "    <tr>\n",
              "      <th>12</th>\n",
              "      <td>114.613352</td>\n",
              "      <td>365.448987</td>\n",
              "      <td>5.087500</td>\n",
              "    </tr>\n",
              "  </tbody>\n",
              "</table>\n",
              "</div>"
            ],
            "text/plain": [
              "                    PE       Price  Treasury\n",
              "Year Month                                  \n",
              "2001 8       60.572125  339.866799  4.861429\n",
              "     9       51.451013  279.650007  4.748667\n",
              "     10      60.709621  300.062071  4.566818\n",
              "     11      95.584733  349.391499  4.651500\n",
              "     12     114.613352  365.448987  5.087500"
            ]
          },
          "metadata": {},
          "execution_count": 15
        }
      ]
    },
    {
      "cell_type": "code",
      "metadata": {
        "colab": {
          "base_uri": "https://localhost:8080/",
          "height": 235
        },
        "id": "YJO4sHQSnxRp",
        "outputId": "b6e04c12-3907-4470-8584-d21f6d117f02"
      },
      "source": [
        "target=target.reset_index()\n",
        "target['Date']=pd.to_datetime(target[['Year', 'Month']].assign(DAY=1))\n",
        "target=target.set_index('Date')\n",
        "target.head()"
      ],
      "execution_count": null,
      "outputs": [
        {
          "output_type": "execute_result",
          "data": {
            "text/html": [
              "<div>\n",
              "<style scoped>\n",
              "    .dataframe tbody tr th:only-of-type {\n",
              "        vertical-align: middle;\n",
              "    }\n",
              "\n",
              "    .dataframe tbody tr th {\n",
              "        vertical-align: top;\n",
              "    }\n",
              "\n",
              "    .dataframe thead th {\n",
              "        text-align: right;\n",
              "    }\n",
              "</style>\n",
              "<table border=\"1\" class=\"dataframe\">\n",
              "  <thead>\n",
              "    <tr style=\"text-align: right;\">\n",
              "      <th></th>\n",
              "      <th>Year</th>\n",
              "      <th>Month</th>\n",
              "      <th>PE</th>\n",
              "      <th>Price</th>\n",
              "      <th>Treasury</th>\n",
              "    </tr>\n",
              "    <tr>\n",
              "      <th>Date</th>\n",
              "      <th></th>\n",
              "      <th></th>\n",
              "      <th></th>\n",
              "      <th></th>\n",
              "      <th></th>\n",
              "    </tr>\n",
              "  </thead>\n",
              "  <tbody>\n",
              "    <tr>\n",
              "      <th>2001-08-01</th>\n",
              "      <td>2001</td>\n",
              "      <td>8</td>\n",
              "      <td>60.572125</td>\n",
              "      <td>339.866799</td>\n",
              "      <td>4.861429</td>\n",
              "    </tr>\n",
              "    <tr>\n",
              "      <th>2001-09-01</th>\n",
              "      <td>2001</td>\n",
              "      <td>9</td>\n",
              "      <td>51.451013</td>\n",
              "      <td>279.650007</td>\n",
              "      <td>4.748667</td>\n",
              "    </tr>\n",
              "    <tr>\n",
              "      <th>2001-10-01</th>\n",
              "      <td>2001</td>\n",
              "      <td>10</td>\n",
              "      <td>60.709621</td>\n",
              "      <td>300.062071</td>\n",
              "      <td>4.566818</td>\n",
              "    </tr>\n",
              "    <tr>\n",
              "      <th>2001-11-01</th>\n",
              "      <td>2001</td>\n",
              "      <td>11</td>\n",
              "      <td>95.584733</td>\n",
              "      <td>349.391499</td>\n",
              "      <td>4.651500</td>\n",
              "    </tr>\n",
              "    <tr>\n",
              "      <th>2001-12-01</th>\n",
              "      <td>2001</td>\n",
              "      <td>12</td>\n",
              "      <td>114.613352</td>\n",
              "      <td>365.448987</td>\n",
              "      <td>5.087500</td>\n",
              "    </tr>\n",
              "  </tbody>\n",
              "</table>\n",
              "</div>"
            ],
            "text/plain": [
              "            Year  Month          PE       Price  Treasury\n",
              "Date                                                     \n",
              "2001-08-01  2001      8   60.572125  339.866799  4.861429\n",
              "2001-09-01  2001      9   51.451013  279.650007  4.748667\n",
              "2001-10-01  2001     10   60.709621  300.062071  4.566818\n",
              "2001-11-01  2001     11   95.584733  349.391499  4.651500\n",
              "2001-12-01  2001     12  114.613352  365.448987  5.087500"
            ]
          },
          "metadata": {},
          "execution_count": 16
        }
      ]
    },
    {
      "cell_type": "code",
      "metadata": {
        "colab": {
          "base_uri": "https://localhost:8080/",
          "height": 235
        },
        "id": "6oOEptX3oKWm",
        "outputId": "e7de9ad8-405a-408b-a3e2-c4c3c1b7a7af"
      },
      "source": [
        "target['Earnings']=target['Price']/target['PE']\n",
        "target['earnings_change']=target['Earnings'].pct_change()\n",
        "target['Target']=target['earnings_change'] - ((1 + target['Treasury']/100)**(1/12) - 1)\n",
        "target=target.dropna()\n",
        "target.head()"
      ],
      "execution_count": null,
      "outputs": [
        {
          "output_type": "execute_result",
          "data": {
            "text/html": [
              "<div>\n",
              "<style scoped>\n",
              "    .dataframe tbody tr th:only-of-type {\n",
              "        vertical-align: middle;\n",
              "    }\n",
              "\n",
              "    .dataframe tbody tr th {\n",
              "        vertical-align: top;\n",
              "    }\n",
              "\n",
              "    .dataframe thead th {\n",
              "        text-align: right;\n",
              "    }\n",
              "</style>\n",
              "<table border=\"1\" class=\"dataframe\">\n",
              "  <thead>\n",
              "    <tr style=\"text-align: right;\">\n",
              "      <th></th>\n",
              "      <th>Year</th>\n",
              "      <th>Month</th>\n",
              "      <th>PE</th>\n",
              "      <th>Price</th>\n",
              "      <th>Treasury</th>\n",
              "      <th>Earnings</th>\n",
              "      <th>earnings_change</th>\n",
              "      <th>Target</th>\n",
              "    </tr>\n",
              "    <tr>\n",
              "      <th>Date</th>\n",
              "      <th></th>\n",
              "      <th></th>\n",
              "      <th></th>\n",
              "      <th></th>\n",
              "      <th></th>\n",
              "      <th></th>\n",
              "      <th></th>\n",
              "      <th></th>\n",
              "    </tr>\n",
              "  </thead>\n",
              "  <tbody>\n",
              "    <tr>\n",
              "      <th>2001-09-01</th>\n",
              "      <td>2001</td>\n",
              "      <td>9</td>\n",
              "      <td>51.451013</td>\n",
              "      <td>279.650007</td>\n",
              "      <td>4.748667</td>\n",
              "      <td>5.435267</td>\n",
              "      <td>-0.031310</td>\n",
              "      <td>-0.035183</td>\n",
              "    </tr>\n",
              "    <tr>\n",
              "      <th>2001-10-01</th>\n",
              "      <td>2001</td>\n",
              "      <td>10</td>\n",
              "      <td>60.709621</td>\n",
              "      <td>300.062071</td>\n",
              "      <td>4.566818</td>\n",
              "      <td>4.942579</td>\n",
              "      <td>-0.090647</td>\n",
              "      <td>-0.094375</td>\n",
              "    </tr>\n",
              "    <tr>\n",
              "      <th>2001-11-01</th>\n",
              "      <td>2001</td>\n",
              "      <td>11</td>\n",
              "      <td>95.584733</td>\n",
              "      <td>349.391499</td>\n",
              "      <td>4.651500</td>\n",
              "      <td>3.655307</td>\n",
              "      <td>-0.260445</td>\n",
              "      <td>-0.264241</td>\n",
              "    </tr>\n",
              "    <tr>\n",
              "      <th>2001-12-01</th>\n",
              "      <td>2001</td>\n",
              "      <td>12</td>\n",
              "      <td>114.613352</td>\n",
              "      <td>365.448987</td>\n",
              "      <td>5.087500</td>\n",
              "      <td>3.188538</td>\n",
              "      <td>-0.127696</td>\n",
              "      <td>-0.131840</td>\n",
              "    </tr>\n",
              "    <tr>\n",
              "      <th>2002-01-01</th>\n",
              "      <td>2002</td>\n",
              "      <td>1</td>\n",
              "      <td>142.258870</td>\n",
              "      <td>365.618474</td>\n",
              "      <td>5.035714</td>\n",
              "      <td>2.570093</td>\n",
              "      <td>-0.193959</td>\n",
              "      <td>-0.198061</td>\n",
              "    </tr>\n",
              "  </tbody>\n",
              "</table>\n",
              "</div>"
            ],
            "text/plain": [
              "            Year  Month          PE  ...  Earnings  earnings_change    Target\n",
              "Date                                 ...                                     \n",
              "2001-09-01  2001      9   51.451013  ...  5.435267        -0.031310 -0.035183\n",
              "2001-10-01  2001     10   60.709621  ...  4.942579        -0.090647 -0.094375\n",
              "2001-11-01  2001     11   95.584733  ...  3.655307        -0.260445 -0.264241\n",
              "2001-12-01  2001     12  114.613352  ...  3.188538        -0.127696 -0.131840\n",
              "2002-01-01  2002      1  142.258870  ...  2.570093        -0.193959 -0.198061\n",
              "\n",
              "[5 rows x 8 columns]"
            ]
          },
          "metadata": {},
          "execution_count": 17
        }
      ]
    },
    {
      "cell_type": "code",
      "metadata": {
        "colab": {
          "base_uri": "https://localhost:8080/",
          "height": 235
        },
        "id": "TO5iE0VYpNKz",
        "outputId": "7b520514-3fe0-4892-ce63-7efe5748463d"
      },
      "source": [
        "Target=target[['Target']]\n",
        "Target['Date']=Target.index\n",
        "Target.head()"
      ],
      "execution_count": null,
      "outputs": [
        {
          "output_type": "execute_result",
          "data": {
            "text/html": [
              "<div>\n",
              "<style scoped>\n",
              "    .dataframe tbody tr th:only-of-type {\n",
              "        vertical-align: middle;\n",
              "    }\n",
              "\n",
              "    .dataframe tbody tr th {\n",
              "        vertical-align: top;\n",
              "    }\n",
              "\n",
              "    .dataframe thead th {\n",
              "        text-align: right;\n",
              "    }\n",
              "</style>\n",
              "<table border=\"1\" class=\"dataframe\">\n",
              "  <thead>\n",
              "    <tr style=\"text-align: right;\">\n",
              "      <th></th>\n",
              "      <th>Target</th>\n",
              "      <th>Date</th>\n",
              "    </tr>\n",
              "    <tr>\n",
              "      <th>Date</th>\n",
              "      <th></th>\n",
              "      <th></th>\n",
              "    </tr>\n",
              "  </thead>\n",
              "  <tbody>\n",
              "    <tr>\n",
              "      <th>2001-09-01</th>\n",
              "      <td>-0.035183</td>\n",
              "      <td>2001-09-01</td>\n",
              "    </tr>\n",
              "    <tr>\n",
              "      <th>2001-10-01</th>\n",
              "      <td>-0.094375</td>\n",
              "      <td>2001-10-01</td>\n",
              "    </tr>\n",
              "    <tr>\n",
              "      <th>2001-11-01</th>\n",
              "      <td>-0.264241</td>\n",
              "      <td>2001-11-01</td>\n",
              "    </tr>\n",
              "    <tr>\n",
              "      <th>2001-12-01</th>\n",
              "      <td>-0.131840</td>\n",
              "      <td>2001-12-01</td>\n",
              "    </tr>\n",
              "    <tr>\n",
              "      <th>2002-01-01</th>\n",
              "      <td>-0.198061</td>\n",
              "      <td>2002-01-01</td>\n",
              "    </tr>\n",
              "  </tbody>\n",
              "</table>\n",
              "</div>"
            ],
            "text/plain": [
              "              Target       Date\n",
              "Date                           \n",
              "2001-09-01 -0.035183 2001-09-01\n",
              "2001-10-01 -0.094375 2001-10-01\n",
              "2001-11-01 -0.264241 2001-11-01\n",
              "2001-12-01 -0.131840 2001-12-01\n",
              "2002-01-01 -0.198061 2002-01-01"
            ]
          },
          "metadata": {},
          "execution_count": 20
        }
      ]
    },
    {
      "cell_type": "code",
      "metadata": {
        "colab": {
          "base_uri": "https://localhost:8080/",
          "height": 312
        },
        "id": "44GQ7bXFp6_9",
        "outputId": "d226e86d-7cf6-4733-d5d0-6a2e74c0b2cc"
      },
      "source": [
        "fig,ax=plt.subplots(1,1,figsize=(16,4))\n",
        "plt.plot(Target['Date'],Target['Target'])\n",
        "ax.set_xlabel('Year')\n",
        "ax.set_ylabel('Target Variable')\n",
        "ax.set_title('Annualized EPS Growth Rate Minus 10-year Treasury Yield For IT Industry')"
      ],
      "execution_count": null,
      "outputs": [
        {
          "output_type": "execute_result",
          "data": {
            "text/plain": [
              "Text(0.5, 1.0, 'Annualized EPS Growth Rate Minus 10-year Treasury Yield For IT Industry')"
            ]
          },
          "metadata": {},
          "execution_count": 21
        },
        {
          "output_type": "display_data",
          "data": {
            "image/png": "[encoded data removed]",
            "text/plain": [
              "<Figure size 1152x288 with 1 Axes>"
            ]
          },
          "metadata": {
            "needs_background": "light"
          }
        }
      ]
    },
    {
      "cell_type": "markdown",
      "metadata": {
        "id": "P-2GNwzxpxoD"
      },
      "source": [
        "## Independent Variables"
      ]
    },
    {
      "cell_type": "markdown",
      "metadata": {
        "id": "9ceZqD_RaZnM"
      },
      "source": [
        "### Data download and manipulation with Quandl"
      ]
    },
    {
      "cell_type": "code",
      "metadata": {
        "id": "aeThtGcGZS3p"
      },
      "source": [
        "def get_df_name(df):\n",
        "    # grabs name of dataframe to be used as variable name\n",
        "    name =[x for x in globals() if globals()[x] is df][0]\n",
        "    return name\n",
        "\n",
        "def var_change(df):\n",
        "    df_name = get_df_name(df)\n",
        "    df['year'] = df.index.year\n",
        "    df['month'] = df.index.month\n",
        "    df['Date'] = pd.to_datetime(df[['year', 'month']].assign(DAY=1))\n",
        "    df = df.set_index('Date')\n",
        "    df = df.rename(columns = {'Value':df_name}).drop(columns = ['year', 'month'])\n",
        "    df_mom_ch = df.rename(columns = {df_name : df_name + '_mom_ch'})\n",
        "    df_mom_ch = df_mom_ch[df_name + '_mom_ch'].diff(1)/ df_mom_ch[df_name + '_mom_ch']\n",
        "    df_yoy_ch = df.rename(columns = {df_name : df_name + '_yoy_ch'})\n",
        "    df_yoy_ch = df_yoy_ch[df_name + '_yoy_ch'].diff(12)/ df_yoy_ch[df_name + '_yoy_ch']\n",
        "    df_final = pd.DataFrame(df_mom_ch)#.join(df_yoy_ch).join(df)   \n",
        "    return df_final"
      ],
      "execution_count": null,
      "outputs": []
    },
    {
      "cell_type": "markdown",
      "metadata": {
        "id": "N1l1wwvYWTtp"
      },
      "source": [
        "Private fixed investment: Nonresidential: Intellectual property products: Software"
      ]
    },
    {
      "cell_type": "code",
      "metadata": {
        "colab": {
          "base_uri": "https://localhost:8080/",
          "height": 235
        },
        "id": "yVicz2gGVM-7",
        "outputId": "934849e6-7196-4235-ac84-d4c754953bcf"
      },
      "source": [
        "ipr=quandl.get('FRED/B985RC1Q027SBEA')\n",
        "ipr.head()"
      ],
      "execution_count": null,
      "outputs": [
        {
          "output_type": "execute_result",
          "data": {
            "text/html": [
              "<div>\n",
              "<style scoped>\n",
              "    .dataframe tbody tr th:only-of-type {\n",
              "        vertical-align: middle;\n",
              "    }\n",
              "\n",
              "    .dataframe tbody tr th {\n",
              "        vertical-align: top;\n",
              "    }\n",
              "\n",
              "    .dataframe thead th {\n",
              "        text-align: right;\n",
              "    }\n",
              "</style>\n",
              "<table border=\"1\" class=\"dataframe\">\n",
              "  <thead>\n",
              "    <tr style=\"text-align: right;\">\n",
              "      <th></th>\n",
              "      <th>Value</th>\n",
              "    </tr>\n",
              "    <tr>\n",
              "      <th>Date</th>\n",
              "      <th></th>\n",
              "    </tr>\n",
              "  </thead>\n",
              "  <tbody>\n",
              "    <tr>\n",
              "      <th>1959-01-01</th>\n",
              "      <td>0.007</td>\n",
              "    </tr>\n",
              "    <tr>\n",
              "      <th>1959-04-01</th>\n",
              "      <td>0.005</td>\n",
              "    </tr>\n",
              "    <tr>\n",
              "      <th>1959-07-01</th>\n",
              "      <td>0.011</td>\n",
              "    </tr>\n",
              "    <tr>\n",
              "      <th>1959-10-01</th>\n",
              "      <td>0.032</td>\n",
              "    </tr>\n",
              "    <tr>\n",
              "      <th>1960-01-01</th>\n",
              "      <td>0.076</td>\n",
              "    </tr>\n",
              "  </tbody>\n",
              "</table>\n",
              "</div>"
            ],
            "text/plain": [
              "            Value\n",
              "Date             \n",
              "1959-01-01  0.007\n",
              "1959-04-01  0.005\n",
              "1959-07-01  0.011\n",
              "1959-10-01  0.032\n",
              "1960-01-01  0.076"
            ]
          },
          "metadata": {},
          "execution_count": 23
        }
      ]
    },
    {
      "cell_type": "markdown",
      "metadata": {
        "id": "6OUDYOL2WV7O"
      },
      "source": [
        "Value of Manufacturers' Shipments for Information Technology Industries"
      ]
    },
    {
      "cell_type": "code",
      "metadata": {
        "colab": {
          "base_uri": "https://localhost:8080/",
          "height": 235
        },
        "id": "8MVmdiz0WK62",
        "outputId": "4eac4976-0a4a-47b6-b697-ebf70a1bf482"
      },
      "source": [
        "shipment=quandl.get('FRED/AITIVS')\n",
        "shipment.head()"
      ],
      "execution_count": null,
      "outputs": [
        {
          "output_type": "execute_result",
          "data": {
            "text/html": [
              "<div>\n",
              "<style scoped>\n",
              "    .dataframe tbody tr th:only-of-type {\n",
              "        vertical-align: middle;\n",
              "    }\n",
              "\n",
              "    .dataframe tbody tr th {\n",
              "        vertical-align: top;\n",
              "    }\n",
              "\n",
              "    .dataframe thead th {\n",
              "        text-align: right;\n",
              "    }\n",
              "</style>\n",
              "<table border=\"1\" class=\"dataframe\">\n",
              "  <thead>\n",
              "    <tr style=\"text-align: right;\">\n",
              "      <th></th>\n",
              "      <th>Value</th>\n",
              "    </tr>\n",
              "    <tr>\n",
              "      <th>Date</th>\n",
              "      <th></th>\n",
              "    </tr>\n",
              "  </thead>\n",
              "  <tbody>\n",
              "    <tr>\n",
              "      <th>1992-01-01</th>\n",
              "      <td>19475.0</td>\n",
              "    </tr>\n",
              "    <tr>\n",
              "      <th>1992-02-01</th>\n",
              "      <td>19049.0</td>\n",
              "    </tr>\n",
              "    <tr>\n",
              "      <th>1992-03-01</th>\n",
              "      <td>19366.0</td>\n",
              "    </tr>\n",
              "    <tr>\n",
              "      <th>1992-04-01</th>\n",
              "      <td>20185.0</td>\n",
              "    </tr>\n",
              "    <tr>\n",
              "      <th>1992-05-01</th>\n",
              "      <td>19937.0</td>\n",
              "    </tr>\n",
              "  </tbody>\n",
              "</table>\n",
              "</div>"
            ],
            "text/plain": [
              "              Value\n",
              "Date               \n",
              "1992-01-01  19475.0\n",
              "1992-02-01  19049.0\n",
              "1992-03-01  19366.0\n",
              "1992-04-01  20185.0\n",
              "1992-05-01  19937.0"
            ]
          },
          "metadata": {},
          "execution_count": 24
        }
      ]
    },
    {
      "cell_type": "markdown",
      "metadata": {
        "id": "x_3PGqocWeQz"
      },
      "source": [
        "Value of Manufacturers' New Orders for Information Technology Industries"
      ]
    },
    {
      "cell_type": "code",
      "metadata": {
        "colab": {
          "base_uri": "https://localhost:8080/",
          "height": 235
        },
        "id": "DuYgNp4QWcIV",
        "outputId": "3833718d-ccfc-4cdc-97af-f79cc4158dae"
      },
      "source": [
        "orders=quandl.get('FRED/AITINO')\n",
        "orders.head()"
      ],
      "execution_count": null,
      "outputs": [
        {
          "output_type": "execute_result",
          "data": {
            "text/html": [
              "<div>\n",
              "<style scoped>\n",
              "    .dataframe tbody tr th:only-of-type {\n",
              "        vertical-align: middle;\n",
              "    }\n",
              "\n",
              "    .dataframe tbody tr th {\n",
              "        vertical-align: top;\n",
              "    }\n",
              "\n",
              "    .dataframe thead th {\n",
              "        text-align: right;\n",
              "    }\n",
              "</style>\n",
              "<table border=\"1\" class=\"dataframe\">\n",
              "  <thead>\n",
              "    <tr style=\"text-align: right;\">\n",
              "      <th></th>\n",
              "      <th>Value</th>\n",
              "    </tr>\n",
              "    <tr>\n",
              "      <th>Date</th>\n",
              "      <th></th>\n",
              "    </tr>\n",
              "  </thead>\n",
              "  <tbody>\n",
              "    <tr>\n",
              "      <th>1992-02-01</th>\n",
              "      <td>19240.0</td>\n",
              "    </tr>\n",
              "    <tr>\n",
              "      <th>1992-03-01</th>\n",
              "      <td>19291.0</td>\n",
              "    </tr>\n",
              "    <tr>\n",
              "      <th>1992-04-01</th>\n",
              "      <td>18759.0</td>\n",
              "    </tr>\n",
              "    <tr>\n",
              "      <th>1992-05-01</th>\n",
              "      <td>20039.0</td>\n",
              "    </tr>\n",
              "    <tr>\n",
              "      <th>1992-06-01</th>\n",
              "      <td>19041.0</td>\n",
              "    </tr>\n",
              "  </tbody>\n",
              "</table>\n",
              "</div>"
            ],
            "text/plain": [
              "              Value\n",
              "Date               \n",
              "1992-02-01  19240.0\n",
              "1992-03-01  19291.0\n",
              "1992-04-01  18759.0\n",
              "1992-05-01  20039.0\n",
              "1992-06-01  19041.0"
            ]
          },
          "metadata": {},
          "execution_count": 25
        }
      ]
    },
    {
      "cell_type": "markdown",
      "metadata": {
        "id": "8wYyN04kWkqS"
      },
      "source": [
        "Value of Manufacturers' Total Inventories for Information Technology Industries"
      ]
    },
    {
      "cell_type": "code",
      "metadata": {
        "colab": {
          "base_uri": "https://localhost:8080/",
          "height": 235
        },
        "id": "ezZxitefWurw",
        "outputId": "59d36019-1284-4329-9796-70e6982d8d62"
      },
      "source": [
        "inventory=quandl.get('FRED/AITITI')\n",
        "inventory.head()"
      ],
      "execution_count": null,
      "outputs": [
        {
          "output_type": "execute_result",
          "data": {
            "text/html": [
              "<div>\n",
              "<style scoped>\n",
              "    .dataframe tbody tr th:only-of-type {\n",
              "        vertical-align: middle;\n",
              "    }\n",
              "\n",
              "    .dataframe tbody tr th {\n",
              "        vertical-align: top;\n",
              "    }\n",
              "\n",
              "    .dataframe thead th {\n",
              "        text-align: right;\n",
              "    }\n",
              "</style>\n",
              "<table border=\"1\" class=\"dataframe\">\n",
              "  <thead>\n",
              "    <tr style=\"text-align: right;\">\n",
              "      <th></th>\n",
              "      <th>Value</th>\n",
              "    </tr>\n",
              "    <tr>\n",
              "      <th>Date</th>\n",
              "      <th></th>\n",
              "    </tr>\n",
              "  </thead>\n",
              "  <tbody>\n",
              "    <tr>\n",
              "      <th>1992-01-01</th>\n",
              "      <td>40519.0</td>\n",
              "    </tr>\n",
              "    <tr>\n",
              "      <th>1992-02-01</th>\n",
              "      <td>40221.0</td>\n",
              "    </tr>\n",
              "    <tr>\n",
              "      <th>1992-03-01</th>\n",
              "      <td>40350.0</td>\n",
              "    </tr>\n",
              "    <tr>\n",
              "      <th>1992-04-01</th>\n",
              "      <td>39997.0</td>\n",
              "    </tr>\n",
              "    <tr>\n",
              "      <th>1992-05-01</th>\n",
              "      <td>39790.0</td>\n",
              "    </tr>\n",
              "  </tbody>\n",
              "</table>\n",
              "</div>"
            ],
            "text/plain": [
              "              Value\n",
              "Date               \n",
              "1992-01-01  40519.0\n",
              "1992-02-01  40221.0\n",
              "1992-03-01  40350.0\n",
              "1992-04-01  39997.0\n",
              "1992-05-01  39790.0"
            ]
          },
          "metadata": {},
          "execution_count": 26
        }
      ]
    },
    {
      "cell_type": "markdown",
      "metadata": {
        "id": "PvTXCht0YlXH"
      },
      "source": [
        "Compensation of employees: Domestic private industries: Information"
      ]
    },
    {
      "cell_type": "code",
      "metadata": {
        "colab": {
          "base_uri": "https://localhost:8080/",
          "height": 235
        },
        "id": "lPpogLElYwnz",
        "outputId": "196af156-2c3e-4e15-cf7c-743660bac697"
      },
      "source": [
        "compensation=quandl.get('FRED/N4058C0A144NBEA')\n",
        "compensation.head()"
      ],
      "execution_count": null,
      "outputs": [
        {
          "output_type": "execute_result",
          "data": {
            "text/html": [
              "<div>\n",
              "<style scoped>\n",
              "    .dataframe tbody tr th:only-of-type {\n",
              "        vertical-align: middle;\n",
              "    }\n",
              "\n",
              "    .dataframe tbody tr th {\n",
              "        vertical-align: top;\n",
              "    }\n",
              "\n",
              "    .dataframe thead th {\n",
              "        text-align: right;\n",
              "    }\n",
              "</style>\n",
              "<table border=\"1\" class=\"dataframe\">\n",
              "  <thead>\n",
              "    <tr style=\"text-align: right;\">\n",
              "      <th></th>\n",
              "      <th>Value</th>\n",
              "    </tr>\n",
              "    <tr>\n",
              "      <th>Date</th>\n",
              "      <th></th>\n",
              "    </tr>\n",
              "  </thead>\n",
              "  <tbody>\n",
              "    <tr>\n",
              "      <th>1998-01-01</th>\n",
              "      <td>23753.0</td>\n",
              "    </tr>\n",
              "    <tr>\n",
              "      <th>1999-01-01</th>\n",
              "      <td>30806.0</td>\n",
              "    </tr>\n",
              "    <tr>\n",
              "      <th>2000-01-01</th>\n",
              "      <td>40858.0</td>\n",
              "    </tr>\n",
              "    <tr>\n",
              "      <th>2001-01-01</th>\n",
              "      <td>40479.0</td>\n",
              "    </tr>\n",
              "    <tr>\n",
              "      <th>2002-01-01</th>\n",
              "      <td>33475.0</td>\n",
              "    </tr>\n",
              "  </tbody>\n",
              "</table>\n",
              "</div>"
            ],
            "text/plain": [
              "              Value\n",
              "Date               \n",
              "1998-01-01  23753.0\n",
              "1999-01-01  30806.0\n",
              "2000-01-01  40858.0\n",
              "2001-01-01  40479.0\n",
              "2002-01-01  33475.0"
            ]
          },
          "metadata": {},
          "execution_count": 27
        }
      ]
    },
    {
      "cell_type": "markdown",
      "metadata": {
        "id": "-BsVH9uoY1ia"
      },
      "source": [
        "Unemployment Rate: Information Industry, Private Wage and Salary Workers"
      ]
    },
    {
      "cell_type": "code",
      "metadata": {
        "colab": {
          "base_uri": "https://localhost:8080/",
          "height": 235
        },
        "id": "Q9Sg0sErY30W",
        "outputId": "f52fb195-b710-4106-c7ed-cd1dc1158f1a"
      },
      "source": [
        "u=quandl.get('FRED/LNU04032237')\n",
        "u.head()"
      ],
      "execution_count": null,
      "outputs": [
        {
          "output_type": "execute_result",
          "data": {
            "text/html": [
              "<div>\n",
              "<style scoped>\n",
              "    .dataframe tbody tr th:only-of-type {\n",
              "        vertical-align: middle;\n",
              "    }\n",
              "\n",
              "    .dataframe tbody tr th {\n",
              "        vertical-align: top;\n",
              "    }\n",
              "\n",
              "    .dataframe thead th {\n",
              "        text-align: right;\n",
              "    }\n",
              "</style>\n",
              "<table border=\"1\" class=\"dataframe\">\n",
              "  <thead>\n",
              "    <tr style=\"text-align: right;\">\n",
              "      <th></th>\n",
              "      <th>Value</th>\n",
              "    </tr>\n",
              "    <tr>\n",
              "      <th>Date</th>\n",
              "      <th></th>\n",
              "    </tr>\n",
              "  </thead>\n",
              "  <tbody>\n",
              "    <tr>\n",
              "      <th>2000-01-01</th>\n",
              "      <td>3.4</td>\n",
              "    </tr>\n",
              "    <tr>\n",
              "      <th>2000-02-01</th>\n",
              "      <td>2.9</td>\n",
              "    </tr>\n",
              "    <tr>\n",
              "      <th>2000-03-01</th>\n",
              "      <td>3.6</td>\n",
              "    </tr>\n",
              "    <tr>\n",
              "      <th>2000-04-01</th>\n",
              "      <td>2.4</td>\n",
              "    </tr>\n",
              "    <tr>\n",
              "      <th>2000-05-01</th>\n",
              "      <td>3.5</td>\n",
              "    </tr>\n",
              "  </tbody>\n",
              "</table>\n",
              "</div>"
            ],
            "text/plain": [
              "            Value\n",
              "Date             \n",
              "2000-01-01    3.4\n",
              "2000-02-01    2.9\n",
              "2000-03-01    3.6\n",
              "2000-04-01    2.4\n",
              "2000-05-01    3.5"
            ]
          },
          "metadata": {},
          "execution_count": 28
        }
      ]
    },
    {
      "cell_type": "code",
      "metadata": {
        "id": "LGNoCCX5blu-"
      },
      "source": [
        "ipr_new=var_change(ipr)\n",
        "shipment_new=var_change(shipment)\n",
        "orders_new=var_change(orders)\n",
        "inventory_new=var_change(inventory)\n",
        "compensation_new=var_change(compensation)\n",
        "u_new=var_change(u)"
      ],
      "execution_count": null,
      "outputs": []
    },
    {
      "cell_type": "markdown",
      "metadata": {
        "id": "h8b-dQDOeccb"
      },
      "source": [
        "Especially, convert quarterly data into monthly data"
      ]
    },
    {
      "cell_type": "code",
      "metadata": {
        "colab": {
          "base_uri": "https://localhost:8080/",
          "height": 235
        },
        "id": "00U9DvbWcadc",
        "outputId": "881f6bc4-f7d9-4fa4-ec64-122a2042bfe7"
      },
      "source": [
        "ipr_new=ipr_new.resample('Q', convention='end').mean()\n",
        "start_date=ipr_new.index[0] + pd.DateOffset(months=-2) + pd.tseries.offsets.MonthEnd(1)\n",
        "end_date=ipr_new.index[-1] + pd.tseries.offsets.MonthEnd(1)\n",
        "t_index=pd.DatetimeIndex(pd.date_range(start=start_date, end=end_date, freq=\"M\"))\n",
        "ipr_new=ipr_new.reindex(t_index).bfill()/3\n",
        "ipr_new['Year']=ipr_new.index.year\n",
        "ipr_new['Month']=ipr_new.index.month\n",
        "ipr_new=ipr_new.reset_index()\n",
        "ipr_new['Date'] = pd.to_datetime(ipr_new[['Year', 'Month']].assign(DAY=1))\n",
        "ipr_new=ipr_new.set_index('Date')\n",
        "ipr_new=ipr_new[['ipr_mom_ch']]\n",
        "ipr_new.head()"
      ],
      "execution_count": null,
      "outputs": [
        {
          "output_type": "execute_result",
          "data": {
            "text/html": [
              "<div>\n",
              "<style scoped>\n",
              "    .dataframe tbody tr th:only-of-type {\n",
              "        vertical-align: middle;\n",
              "    }\n",
              "\n",
              "    .dataframe tbody tr th {\n",
              "        vertical-align: top;\n",
              "    }\n",
              "\n",
              "    .dataframe thead th {\n",
              "        text-align: right;\n",
              "    }\n",
              "</style>\n",
              "<table border=\"1\" class=\"dataframe\">\n",
              "  <thead>\n",
              "    <tr style=\"text-align: right;\">\n",
              "      <th></th>\n",
              "      <th>ipr_mom_ch</th>\n",
              "    </tr>\n",
              "    <tr>\n",
              "      <th>Date</th>\n",
              "      <th></th>\n",
              "    </tr>\n",
              "  </thead>\n",
              "  <tbody>\n",
              "    <tr>\n",
              "      <th>1959-02-01</th>\n",
              "      <td>-0.044444</td>\n",
              "    </tr>\n",
              "    <tr>\n",
              "      <th>1959-03-01</th>\n",
              "      <td>-0.044444</td>\n",
              "    </tr>\n",
              "    <tr>\n",
              "      <th>1959-04-01</th>\n",
              "      <td>-0.044444</td>\n",
              "    </tr>\n",
              "    <tr>\n",
              "      <th>1959-05-01</th>\n",
              "      <td>-0.044444</td>\n",
              "    </tr>\n",
              "    <tr>\n",
              "      <th>1959-06-01</th>\n",
              "      <td>-0.044444</td>\n",
              "    </tr>\n",
              "  </tbody>\n",
              "</table>\n",
              "</div>"
            ],
            "text/plain": [
              "            ipr_mom_ch\n",
              "Date                  \n",
              "1959-02-01   -0.044444\n",
              "1959-03-01   -0.044444\n",
              "1959-04-01   -0.044444\n",
              "1959-05-01   -0.044444\n",
              "1959-06-01   -0.044444"
            ]
          },
          "metadata": {},
          "execution_count": 104
        }
      ]
    },
    {
      "cell_type": "markdown",
      "metadata": {
        "id": "WzFRkqgme-kP"
      },
      "source": [
        "Join Dataframe"
      ]
    },
    {
      "cell_type": "code",
      "metadata": {
        "colab": {
          "base_uri": "https://localhost:8080/",
          "height": 235
        },
        "id": "XAyLmE_ne7jr",
        "outputId": "8a231eff-4eea-421b-b070-f299ff4702e2"
      },
      "source": [
        "iv_list=[ipr_new, shipment_new, orders_new, inventory_new, u_new]\n",
        "iv_df=reduce(lambda  left, right: pd.merge(left, right, left_index=True, right_index=True, how='outer'), iv_list)\n",
        "iv_df.head()"
      ],
      "execution_count": null,
      "outputs": [
        {
          "output_type": "execute_result",
          "data": {
            "text/html": [
              "<div>\n",
              "<style scoped>\n",
              "    .dataframe tbody tr th:only-of-type {\n",
              "        vertical-align: middle;\n",
              "    }\n",
              "\n",
              "    .dataframe tbody tr th {\n",
              "        vertical-align: top;\n",
              "    }\n",
              "\n",
              "    .dataframe thead th {\n",
              "        text-align: right;\n",
              "    }\n",
              "</style>\n",
              "<table border=\"1\" class=\"dataframe\">\n",
              "  <thead>\n",
              "    <tr style=\"text-align: right;\">\n",
              "      <th></th>\n",
              "      <th>ipr_mom_ch</th>\n",
              "      <th>shipment_mom_ch</th>\n",
              "      <th>orders_mom_ch</th>\n",
              "      <th>inventory_mom_ch</th>\n",
              "      <th>u_mom_ch</th>\n",
              "    </tr>\n",
              "    <tr>\n",
              "      <th>Date</th>\n",
              "      <th></th>\n",
              "      <th></th>\n",
              "      <th></th>\n",
              "      <th></th>\n",
              "      <th></th>\n",
              "    </tr>\n",
              "  </thead>\n",
              "  <tbody>\n",
              "    <tr>\n",
              "      <th>1959-02-01</th>\n",
              "      <td>-0.044444</td>\n",
              "      <td>NaN</td>\n",
              "      <td>NaN</td>\n",
              "      <td>NaN</td>\n",
              "      <td>NaN</td>\n",
              "    </tr>\n",
              "    <tr>\n",
              "      <th>1959-03-01</th>\n",
              "      <td>-0.044444</td>\n",
              "      <td>NaN</td>\n",
              "      <td>NaN</td>\n",
              "      <td>NaN</td>\n",
              "      <td>NaN</td>\n",
              "    </tr>\n",
              "    <tr>\n",
              "      <th>1959-04-01</th>\n",
              "      <td>-0.044444</td>\n",
              "      <td>NaN</td>\n",
              "      <td>NaN</td>\n",
              "      <td>NaN</td>\n",
              "      <td>NaN</td>\n",
              "    </tr>\n",
              "    <tr>\n",
              "      <th>1959-05-01</th>\n",
              "      <td>-0.044444</td>\n",
              "      <td>NaN</td>\n",
              "      <td>NaN</td>\n",
              "      <td>NaN</td>\n",
              "      <td>NaN</td>\n",
              "    </tr>\n",
              "    <tr>\n",
              "      <th>1959-06-01</th>\n",
              "      <td>-0.044444</td>\n",
              "      <td>NaN</td>\n",
              "      <td>NaN</td>\n",
              "      <td>NaN</td>\n",
              "      <td>NaN</td>\n",
              "    </tr>\n",
              "  </tbody>\n",
              "</table>\n",
              "</div>"
            ],
            "text/plain": [
              "            ipr_mom_ch  shipment_mom_ch  ...  inventory_mom_ch  u_mom_ch\n",
              "Date                                     ...                            \n",
              "1959-02-01   -0.044444              NaN  ...               NaN       NaN\n",
              "1959-03-01   -0.044444              NaN  ...               NaN       NaN\n",
              "1959-04-01   -0.044444              NaN  ...               NaN       NaN\n",
              "1959-05-01   -0.044444              NaN  ...               NaN       NaN\n",
              "1959-06-01   -0.044444              NaN  ...               NaN       NaN\n",
              "\n",
              "[5 rows x 5 columns]"
            ]
          },
          "metadata": {},
          "execution_count": 105
        }
      ]
    },
    {
      "cell_type": "markdown",
      "metadata": {
        "id": "t0GxsutxveB7"
      },
      "source": [
        "### Market Level Prediction Result"
      ]
    },
    {
      "cell_type": "code",
      "metadata": {
        "id": "SP2J0MIWUrZm",
        "colab": {
          "base_uri": "https://localhost:8080/",
          "height": 235
        },
        "outputId": "bb0a9e51-5955-4a02-9d54-8f6a8a148429"
      },
      "source": [
        "market_df1=pd.read_csv('/content/drive/MyDrive/Colab Notebooks/KPMG summer project/Final Short-term Model/updated-prediction result/one_month_prediction.csv')\n",
        "market_df1['ds']=pd.to_datetime(market_df1['ds'])\n",
        "market_df1=market_df1.rename(columns={'ds': 'Date'})\n",
        "market_df1=market_df1.set_index('Date')\n",
        "date=pd.Timestamp('2001-08-01')\n",
        "market_df1=market_df1.loc[date:]\n",
        "market_df1=market_df1[['yhat']]\n",
        "market_df1=market_df1.rename(columns={'yhat': 'market1'})\n",
        "market_df1.head()"
      ],
      "execution_count": null,
      "outputs": [
        {
          "output_type": "execute_result",
          "data": {
            "text/html": [
              "<div>\n",
              "<style scoped>\n",
              "    .dataframe tbody tr th:only-of-type {\n",
              "        vertical-align: middle;\n",
              "    }\n",
              "\n",
              "    .dataframe tbody tr th {\n",
              "        vertical-align: top;\n",
              "    }\n",
              "\n",
              "    .dataframe thead th {\n",
              "        text-align: right;\n",
              "    }\n",
              "</style>\n",
              "<table border=\"1\" class=\"dataframe\">\n",
              "  <thead>\n",
              "    <tr style=\"text-align: right;\">\n",
              "      <th></th>\n",
              "      <th>market1</th>\n",
              "    </tr>\n",
              "    <tr>\n",
              "      <th>Date</th>\n",
              "      <th></th>\n",
              "    </tr>\n",
              "  </thead>\n",
              "  <tbody>\n",
              "    <tr>\n",
              "      <th>2001-08-01</th>\n",
              "      <td>-0.350457</td>\n",
              "    </tr>\n",
              "    <tr>\n",
              "      <th>2001-09-01</th>\n",
              "      <td>-0.450016</td>\n",
              "    </tr>\n",
              "    <tr>\n",
              "      <th>2001-10-01</th>\n",
              "      <td>-0.414976</td>\n",
              "    </tr>\n",
              "    <tr>\n",
              "      <th>2001-11-01</th>\n",
              "      <td>-0.242129</td>\n",
              "    </tr>\n",
              "    <tr>\n",
              "      <th>2001-12-01</th>\n",
              "      <td>-0.608143</td>\n",
              "    </tr>\n",
              "  </tbody>\n",
              "</table>\n",
              "</div>"
            ],
            "text/plain": [
              "             market1\n",
              "Date                \n",
              "2001-08-01 -0.350457\n",
              "2001-09-01 -0.450016\n",
              "2001-10-01 -0.414976\n",
              "2001-11-01 -0.242129\n",
              "2001-12-01 -0.608143"
            ]
          },
          "metadata": {},
          "execution_count": 53
        }
      ]
    },
    {
      "cell_type": "code",
      "metadata": {
        "colab": {
          "base_uri": "https://localhost:8080/",
          "height": 235
        },
        "id": "F68-6ajFrWCP",
        "outputId": "c87ba891-6038-4d54-edff-855d04242d68"
      },
      "source": [
        "market_df3=pd.read_csv('/content/drive/MyDrive/Colab Notebooks/KPMG summer project/Final Short-term Model/updated-prediction result/three_month_prediction.csv')\n",
        "market_df3['ds']=pd.to_datetime(market_df3['ds'])\n",
        "market_df3=market_df3.set_index('ds')\n",
        "market_df3=market_df3.rename(columns={'ds': 'Date'})\n",
        "date=pd.Timestamp('2001-08-01')\n",
        "market_df3=market_df3.loc[date:]\n",
        "market_df3=market_df3[['yhat']]\n",
        "market_df3=market_df3.rename(columns={'yhat': 'market3'})\n",
        "market_df3.head()"
      ],
      "execution_count": null,
      "outputs": [
        {
          "output_type": "execute_result",
          "data": {
            "text/html": [
              "<div>\n",
              "<style scoped>\n",
              "    .dataframe tbody tr th:only-of-type {\n",
              "        vertical-align: middle;\n",
              "    }\n",
              "\n",
              "    .dataframe tbody tr th {\n",
              "        vertical-align: top;\n",
              "    }\n",
              "\n",
              "    .dataframe thead th {\n",
              "        text-align: right;\n",
              "    }\n",
              "</style>\n",
              "<table border=\"1\" class=\"dataframe\">\n",
              "  <thead>\n",
              "    <tr style=\"text-align: right;\">\n",
              "      <th></th>\n",
              "      <th>market3</th>\n",
              "    </tr>\n",
              "    <tr>\n",
              "      <th>ds</th>\n",
              "      <th></th>\n",
              "    </tr>\n",
              "  </thead>\n",
              "  <tbody>\n",
              "    <tr>\n",
              "      <th>2001-08-01</th>\n",
              "      <td>-0.180711</td>\n",
              "    </tr>\n",
              "    <tr>\n",
              "      <th>2001-09-01</th>\n",
              "      <td>-0.223276</td>\n",
              "    </tr>\n",
              "    <tr>\n",
              "      <th>2001-10-01</th>\n",
              "      <td>-0.050709</td>\n",
              "    </tr>\n",
              "    <tr>\n",
              "      <th>2001-11-01</th>\n",
              "      <td>-0.468662</td>\n",
              "    </tr>\n",
              "    <tr>\n",
              "      <th>2001-12-01</th>\n",
              "      <td>-0.405413</td>\n",
              "    </tr>\n",
              "  </tbody>\n",
              "</table>\n",
              "</div>"
            ],
            "text/plain": [
              "             market3\n",
              "ds                  \n",
              "2001-08-01 -0.180711\n",
              "2001-09-01 -0.223276\n",
              "2001-10-01 -0.050709\n",
              "2001-11-01 -0.468662\n",
              "2001-12-01 -0.405413"
            ]
          },
          "metadata": {},
          "execution_count": 54
        }
      ]
    },
    {
      "cell_type": "code",
      "metadata": {
        "id": "pn4MVge6tWoK",
        "colab": {
          "base_uri": "https://localhost:8080/",
          "height": 235
        },
        "outputId": "caa7d2dd-8477-4072-d619-918a257d00ff"
      },
      "source": [
        "market_df6=pd.read_csv('/content/drive/MyDrive/Colab Notebooks/KPMG summer project/Final Short-term Model/updated-prediction result/six_month_prediction.csv')\n",
        "market_df6['ds']=pd.to_datetime(market_df6['ds'])\n",
        "market_df6=market_df6.set_index('ds')\n",
        "market_df6=market_df6.rename(columns={'ds': 'Date'})\n",
        "date=pd.Timestamp('2001-08-01')\n",
        "market_df6=market_df6.loc[date:]\n",
        "market_df6=market_df6[['yhat']]\n",
        "market_df6=market_df6.rename(columns={'yhat': 'market6'})\n",
        "market_df6.head()"
      ],
      "execution_count": null,
      "outputs": [
        {
          "output_type": "execute_result",
          "data": {
            "text/html": [
              "<div>\n",
              "<style scoped>\n",
              "    .dataframe tbody tr th:only-of-type {\n",
              "        vertical-align: middle;\n",
              "    }\n",
              "\n",
              "    .dataframe tbody tr th {\n",
              "        vertical-align: top;\n",
              "    }\n",
              "\n",
              "    .dataframe thead th {\n",
              "        text-align: right;\n",
              "    }\n",
              "</style>\n",
              "<table border=\"1\" class=\"dataframe\">\n",
              "  <thead>\n",
              "    <tr style=\"text-align: right;\">\n",
              "      <th></th>\n",
              "      <th>market6</th>\n",
              "    </tr>\n",
              "    <tr>\n",
              "      <th>ds</th>\n",
              "      <th></th>\n",
              "    </tr>\n",
              "  </thead>\n",
              "  <tbody>\n",
              "    <tr>\n",
              "      <th>2001-08-01</th>\n",
              "      <td>-0.444722</td>\n",
              "    </tr>\n",
              "    <tr>\n",
              "      <th>2001-09-01</th>\n",
              "      <td>-0.443436</td>\n",
              "    </tr>\n",
              "    <tr>\n",
              "      <th>2001-10-01</th>\n",
              "      <td>-0.613667</td>\n",
              "    </tr>\n",
              "    <tr>\n",
              "      <th>2001-11-01</th>\n",
              "      <td>-0.180843</td>\n",
              "    </tr>\n",
              "    <tr>\n",
              "      <th>2001-12-01</th>\n",
              "      <td>-0.165990</td>\n",
              "    </tr>\n",
              "  </tbody>\n",
              "</table>\n",
              "</div>"
            ],
            "text/plain": [
              "             market6\n",
              "ds                  \n",
              "2001-08-01 -0.444722\n",
              "2001-09-01 -0.443436\n",
              "2001-10-01 -0.613667\n",
              "2001-11-01 -0.180843\n",
              "2001-12-01 -0.165990"
            ]
          },
          "metadata": {},
          "execution_count": 55
        }
      ]
    },
    {
      "cell_type": "code",
      "metadata": {
        "id": "SG8NrtIptzVw",
        "colab": {
          "base_uri": "https://localhost:8080/",
          "height": 235
        },
        "outputId": "34d873ab-f221-450d-ff95-9d858603b9c1"
      },
      "source": [
        "market_df12=pd.read_csv('/content/drive/MyDrive/Colab Notebooks/KPMG summer project/Final Short-term Model/updated-prediction result/three_month_prediction.csv')\n",
        "market_df12['ds']=pd.to_datetime(market_df12['ds'])\n",
        "market_df12=market_df12.set_index('ds')\n",
        "market_df12=market_df12.rename(columns={'ds': 'Date'})\n",
        "date=pd.Timestamp('2001-08-01')\n",
        "market_df12=market_df12.loc[date:]\n",
        "market_df12=market_df12[['yhat']]\n",
        "market_df12=market_df12.rename(columns={'yhat': 'market12'})\n",
        "market_df12.head()"
      ],
      "execution_count": null,
      "outputs": [
        {
          "output_type": "execute_result",
          "data": {
            "text/html": [
              "<div>\n",
              "<style scoped>\n",
              "    .dataframe tbody tr th:only-of-type {\n",
              "        vertical-align: middle;\n",
              "    }\n",
              "\n",
              "    .dataframe tbody tr th {\n",
              "        vertical-align: top;\n",
              "    }\n",
              "\n",
              "    .dataframe thead th {\n",
              "        text-align: right;\n",
              "    }\n",
              "</style>\n",
              "<table border=\"1\" class=\"dataframe\">\n",
              "  <thead>\n",
              "    <tr style=\"text-align: right;\">\n",
              "      <th></th>\n",
              "      <th>market12</th>\n",
              "    </tr>\n",
              "    <tr>\n",
              "      <th>ds</th>\n",
              "      <th></th>\n",
              "    </tr>\n",
              "  </thead>\n",
              "  <tbody>\n",
              "    <tr>\n",
              "      <th>2001-08-01</th>\n",
              "      <td>-0.180711</td>\n",
              "    </tr>\n",
              "    <tr>\n",
              "      <th>2001-09-01</th>\n",
              "      <td>-0.223276</td>\n",
              "    </tr>\n",
              "    <tr>\n",
              "      <th>2001-10-01</th>\n",
              "      <td>-0.050709</td>\n",
              "    </tr>\n",
              "    <tr>\n",
              "      <th>2001-11-01</th>\n",
              "      <td>-0.468662</td>\n",
              "    </tr>\n",
              "    <tr>\n",
              "      <th>2001-12-01</th>\n",
              "      <td>-0.405413</td>\n",
              "    </tr>\n",
              "  </tbody>\n",
              "</table>\n",
              "</div>"
            ],
            "text/plain": [
              "            market12\n",
              "ds                  \n",
              "2001-08-01 -0.180711\n",
              "2001-09-01 -0.223276\n",
              "2001-10-01 -0.050709\n",
              "2001-11-01 -0.468662\n",
              "2001-12-01 -0.405413"
            ]
          },
          "metadata": {},
          "execution_count": 56
        }
      ]
    },
    {
      "cell_type": "code",
      "metadata": {
        "id": "Qq-HevC3t0F3",
        "colab": {
          "base_uri": "https://localhost:8080/",
          "height": 235
        },
        "outputId": "39f57444-1674-4081-e6df-c6fc48784b5b"
      },
      "source": [
        "market_df18=pd.read_csv('/content/drive/MyDrive/Colab Notebooks/KPMG summer project/Final Short-term Model/updated-prediction result/three_month_prediction.csv')\n",
        "market_df18['ds']=pd.to_datetime(market_df18['ds'])\n",
        "market_df18=market_df18.set_index('ds')\n",
        "market_df18=market_df18.rename(columns={'ds': 'Date'})\n",
        "date=pd.Timestamp('2001-08-01')\n",
        "market_df18=market_df18.loc[date:]\n",
        "market_df18=market_df18[['yhat']]\n",
        "market_df18=market_df18.rename(columns={'yhat': 'market18'})\n",
        "market_df18.head()"
      ],
      "execution_count": null,
      "outputs": [
        {
          "output_type": "execute_result",
          "data": {
            "text/html": [
              "<div>\n",
              "<style scoped>\n",
              "    .dataframe tbody tr th:only-of-type {\n",
              "        vertical-align: middle;\n",
              "    }\n",
              "\n",
              "    .dataframe tbody tr th {\n",
              "        vertical-align: top;\n",
              "    }\n",
              "\n",
              "    .dataframe thead th {\n",
              "        text-align: right;\n",
              "    }\n",
              "</style>\n",
              "<table border=\"1\" class=\"dataframe\">\n",
              "  <thead>\n",
              "    <tr style=\"text-align: right;\">\n",
              "      <th></th>\n",
              "      <th>market18</th>\n",
              "    </tr>\n",
              "    <tr>\n",
              "      <th>ds</th>\n",
              "      <th></th>\n",
              "    </tr>\n",
              "  </thead>\n",
              "  <tbody>\n",
              "    <tr>\n",
              "      <th>2001-08-01</th>\n",
              "      <td>-0.180711</td>\n",
              "    </tr>\n",
              "    <tr>\n",
              "      <th>2001-09-01</th>\n",
              "      <td>-0.223276</td>\n",
              "    </tr>\n",
              "    <tr>\n",
              "      <th>2001-10-01</th>\n",
              "      <td>-0.050709</td>\n",
              "    </tr>\n",
              "    <tr>\n",
              "      <th>2001-11-01</th>\n",
              "      <td>-0.468662</td>\n",
              "    </tr>\n",
              "    <tr>\n",
              "      <th>2001-12-01</th>\n",
              "      <td>-0.405413</td>\n",
              "    </tr>\n",
              "  </tbody>\n",
              "</table>\n",
              "</div>"
            ],
            "text/plain": [
              "            market18\n",
              "ds                  \n",
              "2001-08-01 -0.180711\n",
              "2001-09-01 -0.223276\n",
              "2001-10-01 -0.050709\n",
              "2001-11-01 -0.468662\n",
              "2001-12-01 -0.405413"
            ]
          },
          "metadata": {},
          "execution_count": 57
        }
      ]
    },
    {
      "cell_type": "code",
      "metadata": {
        "colab": {
          "base_uri": "https://localhost:8080/",
          "height": 235
        },
        "id": "8zCeiA7Su3ik",
        "outputId": "e9803980-5ae5-4c35-e18f-13afcadee2cd"
      },
      "source": [
        "market_df=market_df1.join(market_df3).join(market_df6).join(market_df12).join(market_df18)\n",
        "market_df.head()"
      ],
      "execution_count": null,
      "outputs": [
        {
          "output_type": "execute_result",
          "data": {
            "text/html": [
              "<div>\n",
              "<style scoped>\n",
              "    .dataframe tbody tr th:only-of-type {\n",
              "        vertical-align: middle;\n",
              "    }\n",
              "\n",
              "    .dataframe tbody tr th {\n",
              "        vertical-align: top;\n",
              "    }\n",
              "\n",
              "    .dataframe thead th {\n",
              "        text-align: right;\n",
              "    }\n",
              "</style>\n",
              "<table border=\"1\" class=\"dataframe\">\n",
              "  <thead>\n",
              "    <tr style=\"text-align: right;\">\n",
              "      <th></th>\n",
              "      <th>market1</th>\n",
              "      <th>market3</th>\n",
              "      <th>market6</th>\n",
              "      <th>market12</th>\n",
              "      <th>market18</th>\n",
              "    </tr>\n",
              "    <tr>\n",
              "      <th>Date</th>\n",
              "      <th></th>\n",
              "      <th></th>\n",
              "      <th></th>\n",
              "      <th></th>\n",
              "      <th></th>\n",
              "    </tr>\n",
              "  </thead>\n",
              "  <tbody>\n",
              "    <tr>\n",
              "      <th>2001-08-01</th>\n",
              "      <td>-0.350457</td>\n",
              "      <td>-0.180711</td>\n",
              "      <td>-0.444722</td>\n",
              "      <td>-0.180711</td>\n",
              "      <td>-0.180711</td>\n",
              "    </tr>\n",
              "    <tr>\n",
              "      <th>2001-09-01</th>\n",
              "      <td>-0.450016</td>\n",
              "      <td>-0.223276</td>\n",
              "      <td>-0.443436</td>\n",
              "      <td>-0.223276</td>\n",
              "      <td>-0.223276</td>\n",
              "    </tr>\n",
              "    <tr>\n",
              "      <th>2001-10-01</th>\n",
              "      <td>-0.414976</td>\n",
              "      <td>-0.050709</td>\n",
              "      <td>-0.613667</td>\n",
              "      <td>-0.050709</td>\n",
              "      <td>-0.050709</td>\n",
              "    </tr>\n",
              "    <tr>\n",
              "      <th>2001-11-01</th>\n",
              "      <td>-0.242129</td>\n",
              "      <td>-0.468662</td>\n",
              "      <td>-0.180843</td>\n",
              "      <td>-0.468662</td>\n",
              "      <td>-0.468662</td>\n",
              "    </tr>\n",
              "    <tr>\n",
              "      <th>2001-12-01</th>\n",
              "      <td>-0.608143</td>\n",
              "      <td>-0.405413</td>\n",
              "      <td>-0.165990</td>\n",
              "      <td>-0.405413</td>\n",
              "      <td>-0.405413</td>\n",
              "    </tr>\n",
              "  </tbody>\n",
              "</table>\n",
              "</div>"
            ],
            "text/plain": [
              "             market1   market3   market6  market12  market18\n",
              "Date                                                        \n",
              "2001-08-01 -0.350457 -0.180711 -0.444722 -0.180711 -0.180711\n",
              "2001-09-01 -0.450016 -0.223276 -0.443436 -0.223276 -0.223276\n",
              "2001-10-01 -0.414976 -0.050709 -0.613667 -0.050709 -0.050709\n",
              "2001-11-01 -0.242129 -0.468662 -0.180843 -0.468662 -0.468662\n",
              "2001-12-01 -0.608143 -0.405413 -0.165990 -0.405413 -0.405413"
            ]
          },
          "metadata": {},
          "execution_count": 58
        }
      ]
    },
    {
      "cell_type": "code",
      "metadata": {
        "colab": {
          "base_uri": "https://localhost:8080/",
          "height": 235
        },
        "id": "aaQh7DWLvvaH",
        "outputId": "f94c68fd-673a-4e3f-a3bc-9715f898dc41"
      },
      "source": [
        "alliv_df=market_df.join(iv_df)\n",
        "alliv_df.head()"
      ],
      "execution_count": null,
      "outputs": [
        {
          "output_type": "execute_result",
          "data": {
            "text/html": [
              "<div>\n",
              "<style scoped>\n",
              "    .dataframe tbody tr th:only-of-type {\n",
              "        vertical-align: middle;\n",
              "    }\n",
              "\n",
              "    .dataframe tbody tr th {\n",
              "        vertical-align: top;\n",
              "    }\n",
              "\n",
              "    .dataframe thead th {\n",
              "        text-align: right;\n",
              "    }\n",
              "</style>\n",
              "<table border=\"1\" class=\"dataframe\">\n",
              "  <thead>\n",
              "    <tr style=\"text-align: right;\">\n",
              "      <th></th>\n",
              "      <th>market1</th>\n",
              "      <th>market3</th>\n",
              "      <th>market6</th>\n",
              "      <th>market12</th>\n",
              "      <th>market18</th>\n",
              "      <th>ipr_mom_ch</th>\n",
              "      <th>shipment_mom_ch</th>\n",
              "      <th>orders_mom_ch</th>\n",
              "      <th>inventory_mom_ch</th>\n",
              "      <th>u_mom_ch</th>\n",
              "    </tr>\n",
              "    <tr>\n",
              "      <th>Date</th>\n",
              "      <th></th>\n",
              "      <th></th>\n",
              "      <th></th>\n",
              "      <th></th>\n",
              "      <th></th>\n",
              "      <th></th>\n",
              "      <th></th>\n",
              "      <th></th>\n",
              "      <th></th>\n",
              "      <th></th>\n",
              "    </tr>\n",
              "  </thead>\n",
              "  <tbody>\n",
              "    <tr>\n",
              "      <th>2001-08-01</th>\n",
              "      <td>-0.350457</td>\n",
              "      <td>-0.180711</td>\n",
              "      <td>-0.444722</td>\n",
              "      <td>-0.180711</td>\n",
              "      <td>-0.180711</td>\n",
              "      <td>-0.002268</td>\n",
              "      <td>-0.033491</td>\n",
              "      <td>-0.013150</td>\n",
              "      <td>-0.014241</td>\n",
              "      <td>0.037037</td>\n",
              "    </tr>\n",
              "    <tr>\n",
              "      <th>2001-09-01</th>\n",
              "      <td>-0.450016</td>\n",
              "      <td>-0.223276</td>\n",
              "      <td>-0.443436</td>\n",
              "      <td>-0.223276</td>\n",
              "      <td>-0.223276</td>\n",
              "      <td>-0.002268</td>\n",
              "      <td>-0.022775</td>\n",
              "      <td>-0.050116</td>\n",
              "      <td>-0.034466</td>\n",
              "      <td>0.035714</td>\n",
              "    </tr>\n",
              "    <tr>\n",
              "      <th>2001-10-01</th>\n",
              "      <td>-0.414976</td>\n",
              "      <td>-0.050709</td>\n",
              "      <td>-0.613667</td>\n",
              "      <td>-0.050709</td>\n",
              "      <td>-0.050709</td>\n",
              "      <td>-0.003411</td>\n",
              "      <td>-0.026483</td>\n",
              "      <td>-0.012251</td>\n",
              "      <td>-0.023644</td>\n",
              "      <td>0.066667</td>\n",
              "    </tr>\n",
              "    <tr>\n",
              "      <th>2001-11-01</th>\n",
              "      <td>-0.242129</td>\n",
              "      <td>-0.468662</td>\n",
              "      <td>-0.180843</td>\n",
              "      <td>-0.468662</td>\n",
              "      <td>-0.468662</td>\n",
              "      <td>-0.003411</td>\n",
              "      <td>-0.021395</td>\n",
              "      <td>0.007560</td>\n",
              "      <td>-0.021003</td>\n",
              "      <td>0.032258</td>\n",
              "    </tr>\n",
              "    <tr>\n",
              "      <th>2001-12-01</th>\n",
              "      <td>-0.608143</td>\n",
              "      <td>-0.405413</td>\n",
              "      <td>-0.165990</td>\n",
              "      <td>-0.405413</td>\n",
              "      <td>-0.405413</td>\n",
              "      <td>-0.003411</td>\n",
              "      <td>0.028650</td>\n",
              "      <td>0.009572</td>\n",
              "      <td>-0.046035</td>\n",
              "      <td>0.162162</td>\n",
              "    </tr>\n",
              "  </tbody>\n",
              "</table>\n",
              "</div>"
            ],
            "text/plain": [
              "             market1   market3  ...  inventory_mom_ch  u_mom_ch\n",
              "Date                            ...                            \n",
              "2001-08-01 -0.350457 -0.180711  ...         -0.014241  0.037037\n",
              "2001-09-01 -0.450016 -0.223276  ...         -0.034466  0.035714\n",
              "2001-10-01 -0.414976 -0.050709  ...         -0.023644  0.066667\n",
              "2001-11-01 -0.242129 -0.468662  ...         -0.021003  0.032258\n",
              "2001-12-01 -0.608143 -0.405413  ...         -0.046035  0.162162\n",
              "\n",
              "[5 rows x 10 columns]"
            ]
          },
          "metadata": {},
          "execution_count": 109
        }
      ]
    },
    {
      "cell_type": "markdown",
      "metadata": {
        "id": "VA3p-pbNxYfA"
      },
      "source": [
        "## Aggregate Data"
      ]
    },
    {
      "cell_type": "code",
      "metadata": {
        "colab": {
          "base_uri": "https://localhost:8080/",
          "height": 235
        },
        "id": "vqpzpiKuxBss",
        "outputId": "fcf47302-7408-4e9b-c637-c7ebe77c5c0f"
      },
      "source": [
        "df=Target.join(alliv_df)\n",
        "df=df.set_index('Date')\n",
        "# look at any NAs\n",
        "df[df.isna().any(1)]"
      ],
      "execution_count": null,
      "outputs": [
        {
          "output_type": "execute_result",
          "data": {
            "text/html": [
              "<div>\n",
              "<style scoped>\n",
              "    .dataframe tbody tr th:only-of-type {\n",
              "        vertical-align: middle;\n",
              "    }\n",
              "\n",
              "    .dataframe tbody tr th {\n",
              "        vertical-align: top;\n",
              "    }\n",
              "\n",
              "    .dataframe thead th {\n",
              "        text-align: right;\n",
              "    }\n",
              "</style>\n",
              "<table border=\"1\" class=\"dataframe\">\n",
              "  <thead>\n",
              "    <tr style=\"text-align: right;\">\n",
              "      <th></th>\n",
              "      <th>Target</th>\n",
              "      <th>market1</th>\n",
              "      <th>market3</th>\n",
              "      <th>market6</th>\n",
              "      <th>market12</th>\n",
              "      <th>market18</th>\n",
              "      <th>ipr_mom_ch</th>\n",
              "      <th>shipment_mom_ch</th>\n",
              "      <th>orders_mom_ch</th>\n",
              "      <th>inventory_mom_ch</th>\n",
              "      <th>u_mom_ch</th>\n",
              "    </tr>\n",
              "    <tr>\n",
              "      <th>Date</th>\n",
              "      <th></th>\n",
              "      <th></th>\n",
              "      <th></th>\n",
              "      <th></th>\n",
              "      <th></th>\n",
              "      <th></th>\n",
              "      <th></th>\n",
              "      <th></th>\n",
              "      <th></th>\n",
              "      <th></th>\n",
              "      <th></th>\n",
              "    </tr>\n",
              "  </thead>\n",
              "  <tbody>\n",
              "    <tr>\n",
              "      <th>2021-04-01</th>\n",
              "      <td>0.005362</td>\n",
              "      <td>NaN</td>\n",
              "      <td>NaN</td>\n",
              "      <td>NaN</td>\n",
              "      <td>NaN</td>\n",
              "      <td>NaN</td>\n",
              "      <td>NaN</td>\n",
              "      <td>NaN</td>\n",
              "      <td>NaN</td>\n",
              "      <td>NaN</td>\n",
              "      <td>NaN</td>\n",
              "    </tr>\n",
              "    <tr>\n",
              "      <th>2021-05-01</th>\n",
              "      <td>0.071299</td>\n",
              "      <td>NaN</td>\n",
              "      <td>NaN</td>\n",
              "      <td>NaN</td>\n",
              "      <td>NaN</td>\n",
              "      <td>NaN</td>\n",
              "      <td>NaN</td>\n",
              "      <td>NaN</td>\n",
              "      <td>NaN</td>\n",
              "      <td>NaN</td>\n",
              "      <td>NaN</td>\n",
              "    </tr>\n",
              "    <tr>\n",
              "      <th>2021-06-01</th>\n",
              "      <td>0.011507</td>\n",
              "      <td>NaN</td>\n",
              "      <td>NaN</td>\n",
              "      <td>NaN</td>\n",
              "      <td>NaN</td>\n",
              "      <td>NaN</td>\n",
              "      <td>NaN</td>\n",
              "      <td>NaN</td>\n",
              "      <td>NaN</td>\n",
              "      <td>NaN</td>\n",
              "      <td>NaN</td>\n",
              "    </tr>\n",
              "    <tr>\n",
              "      <th>2021-07-01</th>\n",
              "      <td>0.015123</td>\n",
              "      <td>NaN</td>\n",
              "      <td>NaN</td>\n",
              "      <td>NaN</td>\n",
              "      <td>NaN</td>\n",
              "      <td>NaN</td>\n",
              "      <td>NaN</td>\n",
              "      <td>NaN</td>\n",
              "      <td>NaN</td>\n",
              "      <td>NaN</td>\n",
              "      <td>NaN</td>\n",
              "    </tr>\n",
              "    <tr>\n",
              "      <th>2021-08-01</th>\n",
              "      <td>0.082931</td>\n",
              "      <td>NaN</td>\n",
              "      <td>NaN</td>\n",
              "      <td>NaN</td>\n",
              "      <td>NaN</td>\n",
              "      <td>NaN</td>\n",
              "      <td>NaN</td>\n",
              "      <td>NaN</td>\n",
              "      <td>NaN</td>\n",
              "      <td>NaN</td>\n",
              "      <td>NaN</td>\n",
              "    </tr>\n",
              "  </tbody>\n",
              "</table>\n",
              "</div>"
            ],
            "text/plain": [
              "              Target  market1  ...  inventory_mom_ch  u_mom_ch\n",
              "Date                           ...                            \n",
              "2021-04-01  0.005362      NaN  ...               NaN       NaN\n",
              "2021-05-01  0.071299      NaN  ...               NaN       NaN\n",
              "2021-06-01  0.011507      NaN  ...               NaN       NaN\n",
              "2021-07-01  0.015123      NaN  ...               NaN       NaN\n",
              "2021-08-01  0.082931      NaN  ...               NaN       NaN\n",
              "\n",
              "[5 rows x 11 columns]"
            ]
          },
          "metadata": {},
          "execution_count": 201
        }
      ]
    },
    {
      "cell_type": "markdown",
      "metadata": {
        "id": "wJhxoSzrg1sR"
      },
      "source": [
        "Remove latest periods with missing data (not considering market level data)"
      ]
    },
    {
      "cell_type": "code",
      "metadata": {
        "colab": {
          "base_uri": "https://localhost:8080/",
          "height": 235
        },
        "id": "9c8V59S2g-Fm",
        "outputId": "dde0d564-bd1b-43ef-a5e2-5188ee5b1f13"
      },
      "source": [
        "df=df.iloc[:-5]\n",
        "df.head()"
      ],
      "execution_count": null,
      "outputs": [
        {
          "output_type": "execute_result",
          "data": {
            "text/html": [
              "<div>\n",
              "<style scoped>\n",
              "    .dataframe tbody tr th:only-of-type {\n",
              "        vertical-align: middle;\n",
              "    }\n",
              "\n",
              "    .dataframe tbody tr th {\n",
              "        vertical-align: top;\n",
              "    }\n",
              "\n",
              "    .dataframe thead th {\n",
              "        text-align: right;\n",
              "    }\n",
              "</style>\n",
              "<table border=\"1\" class=\"dataframe\">\n",
              "  <thead>\n",
              "    <tr style=\"text-align: right;\">\n",
              "      <th></th>\n",
              "      <th>Target</th>\n",
              "      <th>market1</th>\n",
              "      <th>market3</th>\n",
              "      <th>market6</th>\n",
              "      <th>market12</th>\n",
              "      <th>market18</th>\n",
              "      <th>ipr_mom_ch</th>\n",
              "      <th>orders_mom_ch</th>\n",
              "      <th>inventory_mom_ch</th>\n",
              "      <th>u_mom_ch</th>\n",
              "    </tr>\n",
              "    <tr>\n",
              "      <th>Date</th>\n",
              "      <th></th>\n",
              "      <th></th>\n",
              "      <th></th>\n",
              "      <th></th>\n",
              "      <th></th>\n",
              "      <th></th>\n",
              "      <th></th>\n",
              "      <th></th>\n",
              "      <th></th>\n",
              "      <th></th>\n",
              "    </tr>\n",
              "  </thead>\n",
              "  <tbody>\n",
              "    <tr>\n",
              "      <th>2001-09-01</th>\n",
              "      <td>-0.035183</td>\n",
              "      <td>-0.450016</td>\n",
              "      <td>-0.223276</td>\n",
              "      <td>-0.443436</td>\n",
              "      <td>-0.223276</td>\n",
              "      <td>-0.223276</td>\n",
              "      <td>-0.002268</td>\n",
              "      <td>-0.050116</td>\n",
              "      <td>-0.034466</td>\n",
              "      <td>0.035714</td>\n",
              "    </tr>\n",
              "    <tr>\n",
              "      <th>2001-10-01</th>\n",
              "      <td>-0.094375</td>\n",
              "      <td>-0.414976</td>\n",
              "      <td>-0.050709</td>\n",
              "      <td>-0.613667</td>\n",
              "      <td>-0.050709</td>\n",
              "      <td>-0.050709</td>\n",
              "      <td>-0.003411</td>\n",
              "      <td>-0.012251</td>\n",
              "      <td>-0.023644</td>\n",
              "      <td>0.066667</td>\n",
              "    </tr>\n",
              "    <tr>\n",
              "      <th>2001-11-01</th>\n",
              "      <td>-0.264241</td>\n",
              "      <td>-0.242129</td>\n",
              "      <td>-0.468662</td>\n",
              "      <td>-0.180843</td>\n",
              "      <td>-0.468662</td>\n",
              "      <td>-0.468662</td>\n",
              "      <td>-0.003411</td>\n",
              "      <td>0.007560</td>\n",
              "      <td>-0.021003</td>\n",
              "      <td>0.032258</td>\n",
              "    </tr>\n",
              "    <tr>\n",
              "      <th>2001-12-01</th>\n",
              "      <td>-0.131840</td>\n",
              "      <td>-0.608143</td>\n",
              "      <td>-0.405413</td>\n",
              "      <td>-0.165990</td>\n",
              "      <td>-0.405413</td>\n",
              "      <td>-0.405413</td>\n",
              "      <td>-0.003411</td>\n",
              "      <td>0.009572</td>\n",
              "      <td>-0.046035</td>\n",
              "      <td>0.162162</td>\n",
              "    </tr>\n",
              "    <tr>\n",
              "      <th>2002-01-01</th>\n",
              "      <td>-0.198061</td>\n",
              "      <td>-0.612288</td>\n",
              "      <td>-0.290757</td>\n",
              "      <td>-0.090202</td>\n",
              "      <td>-0.290757</td>\n",
              "      <td>-0.290757</td>\n",
              "      <td>0.000202</td>\n",
              "      <td>-0.124712</td>\n",
              "      <td>0.002530</td>\n",
              "      <td>-0.042254</td>\n",
              "    </tr>\n",
              "  </tbody>\n",
              "</table>\n",
              "</div>"
            ],
            "text/plain": [
              "              Target   market1  ...  inventory_mom_ch  u_mom_ch\n",
              "Date                            ...                            \n",
              "2001-09-01 -0.035183 -0.450016  ...         -0.034466  0.035714\n",
              "2001-10-01 -0.094375 -0.414976  ...         -0.023644  0.066667\n",
              "2001-11-01 -0.264241 -0.242129  ...         -0.021003  0.032258\n",
              "2001-12-01 -0.131840 -0.608143  ...         -0.046035  0.162162\n",
              "2002-01-01 -0.198061 -0.612288  ...          0.002530 -0.042254\n",
              "\n",
              "[5 rows x 10 columns]"
            ]
          },
          "metadata": {},
          "execution_count": 260
        }
      ]
    },
    {
      "cell_type": "code",
      "metadata": {
        "id": "OaV4zxXt1wkc"
      },
      "source": [
        "df.to_csv('/content/drive/MyDrive/Colab Notebooks/KPMG summer project/ITdata/updated_IT_data.csv')"
      ],
      "execution_count": null,
      "outputs": []
    },
    {
      "cell_type": "markdown",
      "metadata": {
        "id": "IVby6R3Ntggg"
      },
      "source": [
        "Check seasonality"
      ]
    },
    {
      "cell_type": "code",
      "metadata": {
        "colab": {
          "base_uri": "https://localhost:8080/",
          "height": 293
        },
        "id": "4x5hakIcpruL",
        "outputId": "c6d10e99-aa5f-41c6-9bc1-510a2277886c"
      },
      "source": [
        "decomp_results=seasonal_decompose(df['Target'], period=12)\n",
        "decomp_results.plot()\n",
        "plt.show()"
      ],
      "execution_count": null,
      "outputs": [
        {
          "output_type": "display_data",
          "data": {
            "image/png": "[encoded data removed]",
            "text/plain": [
              "<Figure size 432x288 with 4 Axes>"
            ]
          },
          "metadata": {}
        }
      ]
    },
    {
      "cell_type": "markdown",
      "metadata": {
        "id": "ZmLNwgA1hWKI"
      },
      "source": [
        "## Feature correlation"
      ]
    },
    {
      "cell_type": "code",
      "metadata": {
        "colab": {
          "base_uri": "https://localhost:8080/",
          "height": 359
        },
        "id": "H93IrVYVhd0b",
        "outputId": "6f2bd4c1-d506-46f4-b875-9bddebe198b3"
      },
      "source": [
        "var_corr=(df.corr()).sort_values('Target')\n",
        "var_corr"
      ],
      "execution_count": null,
      "outputs": [
        {
          "output_type": "execute_result",
          "data": {
            "text/html": [
              "<div>\n",
              "<style scoped>\n",
              "    .dataframe tbody tr th:only-of-type {\n",
              "        vertical-align: middle;\n",
              "    }\n",
              "\n",
              "    .dataframe tbody tr th {\n",
              "        vertical-align: top;\n",
              "    }\n",
              "\n",
              "    .dataframe thead th {\n",
              "        text-align: right;\n",
              "    }\n",
              "</style>\n",
              "<table border=\"1\" class=\"dataframe\">\n",
              "  <thead>\n",
              "    <tr style=\"text-align: right;\">\n",
              "      <th></th>\n",
              "      <th>Target</th>\n",
              "      <th>market1</th>\n",
              "      <th>market3</th>\n",
              "      <th>market6</th>\n",
              "      <th>market12</th>\n",
              "      <th>market18</th>\n",
              "      <th>ipr_mom_ch</th>\n",
              "      <th>orders_mom_ch</th>\n",
              "      <th>inventory_mom_ch</th>\n",
              "      <th>u_mom_ch</th>\n",
              "    </tr>\n",
              "  </thead>\n",
              "  <tbody>\n",
              "    <tr>\n",
              "      <th>u_mom_ch</th>\n",
              "      <td>-0.003714</td>\n",
              "      <td>-0.034579</td>\n",
              "      <td>-0.063796</td>\n",
              "      <td>-0.024506</td>\n",
              "      <td>-0.063796</td>\n",
              "      <td>-0.063796</td>\n",
              "      <td>-0.087303</td>\n",
              "      <td>0.053362</td>\n",
              "      <td>-0.051776</td>\n",
              "      <td>1.000000</td>\n",
              "    </tr>\n",
              "    <tr>\n",
              "      <th>orders_mom_ch</th>\n",
              "      <td>0.027438</td>\n",
              "      <td>0.042343</td>\n",
              "      <td>0.076665</td>\n",
              "      <td>-0.025412</td>\n",
              "      <td>0.076665</td>\n",
              "      <td>0.076665</td>\n",
              "      <td>0.022753</td>\n",
              "      <td>1.000000</td>\n",
              "      <td>-0.021730</td>\n",
              "      <td>0.053362</td>\n",
              "    </tr>\n",
              "    <tr>\n",
              "      <th>market6</th>\n",
              "      <td>0.031466</td>\n",
              "      <td>0.403794</td>\n",
              "      <td>0.418639</td>\n",
              "      <td>1.000000</td>\n",
              "      <td>0.418639</td>\n",
              "      <td>0.418639</td>\n",
              "      <td>-0.014017</td>\n",
              "      <td>-0.025412</td>\n",
              "      <td>0.169120</td>\n",
              "      <td>-0.024506</td>\n",
              "    </tr>\n",
              "    <tr>\n",
              "      <th>ipr_mom_ch</th>\n",
              "      <td>0.065917</td>\n",
              "      <td>0.207863</td>\n",
              "      <td>0.110387</td>\n",
              "      <td>-0.014017</td>\n",
              "      <td>0.110387</td>\n",
              "      <td>0.110387</td>\n",
              "      <td>1.000000</td>\n",
              "      <td>0.022753</td>\n",
              "      <td>0.209631</td>\n",
              "      <td>-0.087303</td>\n",
              "    </tr>\n",
              "    <tr>\n",
              "      <th>inventory_mom_ch</th>\n",
              "      <td>0.084168</td>\n",
              "      <td>0.181002</td>\n",
              "      <td>0.188004</td>\n",
              "      <td>0.169120</td>\n",
              "      <td>0.188004</td>\n",
              "      <td>0.188004</td>\n",
              "      <td>0.209631</td>\n",
              "      <td>-0.021730</td>\n",
              "      <td>1.000000</td>\n",
              "      <td>-0.051776</td>\n",
              "    </tr>\n",
              "    <tr>\n",
              "      <th>market3</th>\n",
              "      <td>0.101676</td>\n",
              "      <td>0.603675</td>\n",
              "      <td>1.000000</td>\n",
              "      <td>0.418639</td>\n",
              "      <td>1.000000</td>\n",
              "      <td>1.000000</td>\n",
              "      <td>0.110387</td>\n",
              "      <td>0.076665</td>\n",
              "      <td>0.188004</td>\n",
              "      <td>-0.063796</td>\n",
              "    </tr>\n",
              "    <tr>\n",
              "      <th>market12</th>\n",
              "      <td>0.101676</td>\n",
              "      <td>0.603675</td>\n",
              "      <td>1.000000</td>\n",
              "      <td>0.418639</td>\n",
              "      <td>1.000000</td>\n",
              "      <td>1.000000</td>\n",
              "      <td>0.110387</td>\n",
              "      <td>0.076665</td>\n",
              "      <td>0.188004</td>\n",
              "      <td>-0.063796</td>\n",
              "    </tr>\n",
              "    <tr>\n",
              "      <th>market18</th>\n",
              "      <td>0.101676</td>\n",
              "      <td>0.603675</td>\n",
              "      <td>1.000000</td>\n",
              "      <td>0.418639</td>\n",
              "      <td>1.000000</td>\n",
              "      <td>1.000000</td>\n",
              "      <td>0.110387</td>\n",
              "      <td>0.076665</td>\n",
              "      <td>0.188004</td>\n",
              "      <td>-0.063796</td>\n",
              "    </tr>\n",
              "    <tr>\n",
              "      <th>market1</th>\n",
              "      <td>0.122381</td>\n",
              "      <td>1.000000</td>\n",
              "      <td>0.603675</td>\n",
              "      <td>0.403794</td>\n",
              "      <td>0.603675</td>\n",
              "      <td>0.603675</td>\n",
              "      <td>0.207863</td>\n",
              "      <td>0.042343</td>\n",
              "      <td>0.181002</td>\n",
              "      <td>-0.034579</td>\n",
              "    </tr>\n",
              "    <tr>\n",
              "      <th>Target</th>\n",
              "      <td>1.000000</td>\n",
              "      <td>0.122381</td>\n",
              "      <td>0.101676</td>\n",
              "      <td>0.031466</td>\n",
              "      <td>0.101676</td>\n",
              "      <td>0.101676</td>\n",
              "      <td>0.065917</td>\n",
              "      <td>0.027438</td>\n",
              "      <td>0.084168</td>\n",
              "      <td>-0.003714</td>\n",
              "    </tr>\n",
              "  </tbody>\n",
              "</table>\n",
              "</div>"
            ],
            "text/plain": [
              "                    Target   market1  ...  inventory_mom_ch  u_mom_ch\n",
              "u_mom_ch         -0.003714 -0.034579  ...         -0.051776  1.000000\n",
              "orders_mom_ch     0.027438  0.042343  ...         -0.021730  0.053362\n",
              "market6           0.031466  0.403794  ...          0.169120 -0.024506\n",
              "ipr_mom_ch        0.065917  0.207863  ...          0.209631 -0.087303\n",
              "inventory_mom_ch  0.084168  0.181002  ...          1.000000 -0.051776\n",
              "market3           0.101676  0.603675  ...          0.188004 -0.063796\n",
              "market12          0.101676  0.603675  ...          0.188004 -0.063796\n",
              "market18          0.101676  0.603675  ...          0.188004 -0.063796\n",
              "market1           0.122381  1.000000  ...          0.181002 -0.034579\n",
              "Target            1.000000  0.122381  ...          0.084168 -0.003714\n",
              "\n",
              "[10 rows x 10 columns]"
            ]
          },
          "metadata": {},
          "execution_count": 246
        }
      ]
    },
    {
      "cell_type": "markdown",
      "metadata": {
        "id": "fPkXGdHMrXLf"
      },
      "source": [
        "Correlation map"
      ]
    },
    {
      "cell_type": "code",
      "metadata": {
        "colab": {
          "base_uri": "https://localhost:8080/",
          "height": 489
        },
        "id": "UNbNmCsBsAh1",
        "outputId": "2f2db2b9-6040-4bb9-de88-0596dd5e9ad2"
      },
      "source": [
        "sns.set_theme(style=\"white\")\n",
        "corr=df.corr()\n",
        "f, ax=plt.subplots(figsize=(20,6))\n",
        "cmap=sns.diverging_palette(250, 20, as_cmap=True)\n",
        "mask=np.zeros_like(corr)\n",
        "mask[np.triu_indices_from(mask)] = True\n",
        "sns.heatmap(abs(corr), cmap=\"YlGnBu\", \n",
        "            mask=mask, vmax=.3, center=0,\n",
        "            square=True, linewidths=.5, cbar_kws={\"shrink\": .5})"
      ],
      "execution_count": null,
      "outputs": [
        {
          "output_type": "execute_result",
          "data": {
            "text/plain": [
              "<matplotlib.axes._subplots.AxesSubplot at 0x7faf568f3f90>"
            ]
          },
          "metadata": {},
          "execution_count": 206
        },
        {
          "output_type": "display_data",
          "data": {
            "image/png": "[encoded data removed]",
            "text/plain": [
              "<Figure size 1440x432 with 2 Axes>"
            ]
          },
          "metadata": {}
        }
      ]
    },
    {
      "cell_type": "markdown",
      "metadata": {
        "id": "9QhwXkCFuHo6"
      },
      "source": [
        "Delete shipment & inventory"
      ]
    },
    {
      "cell_type": "code",
      "metadata": {
        "colab": {
          "base_uri": "https://localhost:8080/",
          "height": 235
        },
        "id": "-E0kndYzuOz7",
        "outputId": "534ba7ec-2e7c-464e-c945-670d7675c28c"
      },
      "source": [
        "df=df.drop(['shipment_mom_ch'],axis=1)\n",
        "df.head()"
      ],
      "execution_count": null,
      "outputs": [
        {
          "output_type": "execute_result",
          "data": {
            "text/html": [
              "<div>\n",
              "<style scoped>\n",
              "    .dataframe tbody tr th:only-of-type {\n",
              "        vertical-align: middle;\n",
              "    }\n",
              "\n",
              "    .dataframe tbody tr th {\n",
              "        vertical-align: top;\n",
              "    }\n",
              "\n",
              "    .dataframe thead th {\n",
              "        text-align: right;\n",
              "    }\n",
              "</style>\n",
              "<table border=\"1\" class=\"dataframe\">\n",
              "  <thead>\n",
              "    <tr style=\"text-align: right;\">\n",
              "      <th></th>\n",
              "      <th>Target</th>\n",
              "      <th>market1</th>\n",
              "      <th>market3</th>\n",
              "      <th>market6</th>\n",
              "      <th>market12</th>\n",
              "      <th>market18</th>\n",
              "      <th>ipr_mom_ch</th>\n",
              "      <th>orders_mom_ch</th>\n",
              "      <th>inventory_mom_ch</th>\n",
              "      <th>u_mom_ch</th>\n",
              "    </tr>\n",
              "    <tr>\n",
              "      <th>Date</th>\n",
              "      <th></th>\n",
              "      <th></th>\n",
              "      <th></th>\n",
              "      <th></th>\n",
              "      <th></th>\n",
              "      <th></th>\n",
              "      <th></th>\n",
              "      <th></th>\n",
              "      <th></th>\n",
              "      <th></th>\n",
              "    </tr>\n",
              "  </thead>\n",
              "  <tbody>\n",
              "    <tr>\n",
              "      <th>2001-09-01</th>\n",
              "      <td>-0.035183</td>\n",
              "      <td>-0.450016</td>\n",
              "      <td>-0.223276</td>\n",
              "      <td>-0.443436</td>\n",
              "      <td>-0.223276</td>\n",
              "      <td>-0.223276</td>\n",
              "      <td>-0.002268</td>\n",
              "      <td>-0.050116</td>\n",
              "      <td>-0.034466</td>\n",
              "      <td>0.035714</td>\n",
              "    </tr>\n",
              "    <tr>\n",
              "      <th>2001-10-01</th>\n",
              "      <td>-0.094375</td>\n",
              "      <td>-0.414976</td>\n",
              "      <td>-0.050709</td>\n",
              "      <td>-0.613667</td>\n",
              "      <td>-0.050709</td>\n",
              "      <td>-0.050709</td>\n",
              "      <td>-0.003411</td>\n",
              "      <td>-0.012251</td>\n",
              "      <td>-0.023644</td>\n",
              "      <td>0.066667</td>\n",
              "    </tr>\n",
              "    <tr>\n",
              "      <th>2001-11-01</th>\n",
              "      <td>-0.264241</td>\n",
              "      <td>-0.242129</td>\n",
              "      <td>-0.468662</td>\n",
              "      <td>-0.180843</td>\n",
              "      <td>-0.468662</td>\n",
              "      <td>-0.468662</td>\n",
              "      <td>-0.003411</td>\n",
              "      <td>0.007560</td>\n",
              "      <td>-0.021003</td>\n",
              "      <td>0.032258</td>\n",
              "    </tr>\n",
              "    <tr>\n",
              "      <th>2001-12-01</th>\n",
              "      <td>-0.131840</td>\n",
              "      <td>-0.608143</td>\n",
              "      <td>-0.405413</td>\n",
              "      <td>-0.165990</td>\n",
              "      <td>-0.405413</td>\n",
              "      <td>-0.405413</td>\n",
              "      <td>-0.003411</td>\n",
              "      <td>0.009572</td>\n",
              "      <td>-0.046035</td>\n",
              "      <td>0.162162</td>\n",
              "    </tr>\n",
              "    <tr>\n",
              "      <th>2002-01-01</th>\n",
              "      <td>-0.198061</td>\n",
              "      <td>-0.612288</td>\n",
              "      <td>-0.290757</td>\n",
              "      <td>-0.090202</td>\n",
              "      <td>-0.290757</td>\n",
              "      <td>-0.290757</td>\n",
              "      <td>0.000202</td>\n",
              "      <td>-0.124712</td>\n",
              "      <td>0.002530</td>\n",
              "      <td>-0.042254</td>\n",
              "    </tr>\n",
              "  </tbody>\n",
              "</table>\n",
              "</div>"
            ],
            "text/plain": [
              "              Target   market1  ...  inventory_mom_ch  u_mom_ch\n",
              "Date                            ...                            \n",
              "2001-09-01 -0.035183 -0.450016  ...         -0.034466  0.035714\n",
              "2001-10-01 -0.094375 -0.414976  ...         -0.023644  0.066667\n",
              "2001-11-01 -0.264241 -0.242129  ...         -0.021003  0.032258\n",
              "2001-12-01 -0.131840 -0.608143  ...         -0.046035  0.162162\n",
              "2002-01-01 -0.198061 -0.612288  ...          0.002530 -0.042254\n",
              "\n",
              "[5 rows x 10 columns]"
            ]
          },
          "metadata": {},
          "execution_count": 207
        }
      ]
    },
    {
      "cell_type": "markdown",
      "metadata": {
        "id": "ltPupGiazslj"
      },
      "source": [
        "## Shift target variable by 1, 3, 6, 12, 18 months"
      ]
    },
    {
      "cell_type": "code",
      "metadata": {
        "id": "N4QKZd85F-eF",
        "colab": {
          "base_uri": "https://localhost:8080/",
          "height": 450
        },
        "outputId": "81c73641-fc6b-454b-d281-a09f40e64e47"
      },
      "source": [
        "df_1 = df\n",
        "df_1 = df_1.reset_index()\n",
        "df_1['Target'] = df_1.Target.shift(-1)\n",
        "df_1['Date'] = df_1.Date + pd.DateOffset(months = 1)\n",
        "df_1 = df_1.set_index('Date')\n",
        "df_1 = df_1[df_1.index >= Target.index[0]]\n",
        "df_1['Month'] = df_1.index.month\n",
        "df_1"
      ],
      "execution_count": null,
      "outputs": [
        {
          "output_type": "execute_result",
          "data": {
            "text/html": [
              "<div>\n",
              "<style scoped>\n",
              "    .dataframe tbody tr th:only-of-type {\n",
              "        vertical-align: middle;\n",
              "    }\n",
              "\n",
              "    .dataframe tbody tr th {\n",
              "        vertical-align: top;\n",
              "    }\n",
              "\n",
              "    .dataframe thead th {\n",
              "        text-align: right;\n",
              "    }\n",
              "</style>\n",
              "<table border=\"1\" class=\"dataframe\">\n",
              "  <thead>\n",
              "    <tr style=\"text-align: right;\">\n",
              "      <th></th>\n",
              "      <th>Target</th>\n",
              "      <th>market1</th>\n",
              "      <th>market3</th>\n",
              "      <th>market6</th>\n",
              "      <th>market12</th>\n",
              "      <th>market18</th>\n",
              "      <th>ipr_mom_ch</th>\n",
              "      <th>orders_mom_ch</th>\n",
              "      <th>inventory_mom_ch</th>\n",
              "      <th>u_mom_ch</th>\n",
              "      <th>Month</th>\n",
              "    </tr>\n",
              "    <tr>\n",
              "      <th>Date</th>\n",
              "      <th></th>\n",
              "      <th></th>\n",
              "      <th></th>\n",
              "      <th></th>\n",
              "      <th></th>\n",
              "      <th></th>\n",
              "      <th></th>\n",
              "      <th></th>\n",
              "      <th></th>\n",
              "      <th></th>\n",
              "      <th></th>\n",
              "    </tr>\n",
              "  </thead>\n",
              "  <tbody>\n",
              "    <tr>\n",
              "      <th>2001-10-01</th>\n",
              "      <td>-0.094375</td>\n",
              "      <td>-0.450016</td>\n",
              "      <td>-0.223276</td>\n",
              "      <td>-0.443436</td>\n",
              "      <td>-0.223276</td>\n",
              "      <td>-0.223276</td>\n",
              "      <td>-0.002268</td>\n",
              "      <td>-0.050116</td>\n",
              "      <td>-0.034466</td>\n",
              "      <td>0.035714</td>\n",
              "      <td>10</td>\n",
              "    </tr>\n",
              "    <tr>\n",
              "      <th>2001-11-01</th>\n",
              "      <td>-0.264241</td>\n",
              "      <td>-0.414976</td>\n",
              "      <td>-0.050709</td>\n",
              "      <td>-0.613667</td>\n",
              "      <td>-0.050709</td>\n",
              "      <td>-0.050709</td>\n",
              "      <td>-0.003411</td>\n",
              "      <td>-0.012251</td>\n",
              "      <td>-0.023644</td>\n",
              "      <td>0.066667</td>\n",
              "      <td>11</td>\n",
              "    </tr>\n",
              "    <tr>\n",
              "      <th>2001-12-01</th>\n",
              "      <td>-0.131840</td>\n",
              "      <td>-0.242129</td>\n",
              "      <td>-0.468662</td>\n",
              "      <td>-0.180843</td>\n",
              "      <td>-0.468662</td>\n",
              "      <td>-0.468662</td>\n",
              "      <td>-0.003411</td>\n",
              "      <td>0.007560</td>\n",
              "      <td>-0.021003</td>\n",
              "      <td>0.032258</td>\n",
              "      <td>12</td>\n",
              "    </tr>\n",
              "    <tr>\n",
              "      <th>2002-01-01</th>\n",
              "      <td>-0.198061</td>\n",
              "      <td>-0.608143</td>\n",
              "      <td>-0.405413</td>\n",
              "      <td>-0.165990</td>\n",
              "      <td>-0.405413</td>\n",
              "      <td>-0.405413</td>\n",
              "      <td>-0.003411</td>\n",
              "      <td>0.009572</td>\n",
              "      <td>-0.046035</td>\n",
              "      <td>0.162162</td>\n",
              "      <td>1</td>\n",
              "    </tr>\n",
              "    <tr>\n",
              "      <th>2002-02-01</th>\n",
              "      <td>-0.112940</td>\n",
              "      <td>-0.612288</td>\n",
              "      <td>-0.290757</td>\n",
              "      <td>-0.090202</td>\n",
              "      <td>-0.290757</td>\n",
              "      <td>-0.290757</td>\n",
              "      <td>0.000202</td>\n",
              "      <td>-0.124712</td>\n",
              "      <td>0.002530</td>\n",
              "      <td>-0.042254</td>\n",
              "      <td>2</td>\n",
              "    </tr>\n",
              "    <tr>\n",
              "      <th>...</th>\n",
              "      <td>...</td>\n",
              "      <td>...</td>\n",
              "      <td>...</td>\n",
              "      <td>...</td>\n",
              "      <td>...</td>\n",
              "      <td>...</td>\n",
              "      <td>...</td>\n",
              "      <td>...</td>\n",
              "      <td>...</td>\n",
              "      <td>...</td>\n",
              "      <td>...</td>\n",
              "    </tr>\n",
              "    <tr>\n",
              "      <th>2020-10-01</th>\n",
              "      <td>0.003806</td>\n",
              "      <td>0.023037</td>\n",
              "      <td>0.342372</td>\n",
              "      <td>-0.060056</td>\n",
              "      <td>0.342372</td>\n",
              "      <td>0.342372</td>\n",
              "      <td>0.002132</td>\n",
              "      <td>0.002289</td>\n",
              "      <td>0.002105</td>\n",
              "      <td>0.000000</td>\n",
              "      <td>10</td>\n",
              "    </tr>\n",
              "    <tr>\n",
              "      <th>2020-11-01</th>\n",
              "      <td>0.010316</td>\n",
              "      <td>0.013084</td>\n",
              "      <td>0.160532</td>\n",
              "      <td>-0.113598</td>\n",
              "      <td>0.160532</td>\n",
              "      <td>0.160532</td>\n",
              "      <td>0.002956</td>\n",
              "      <td>0.023546</td>\n",
              "      <td>-0.000175</td>\n",
              "      <td>-0.482759</td>\n",
              "      <td>11</td>\n",
              "    </tr>\n",
              "    <tr>\n",
              "      <th>2020-12-01</th>\n",
              "      <td>0.002434</td>\n",
              "      <td>0.009809</td>\n",
              "      <td>0.027331</td>\n",
              "      <td>0.227182</td>\n",
              "      <td>0.027331</td>\n",
              "      <td>0.027331</td>\n",
              "      <td>0.002956</td>\n",
              "      <td>0.000992</td>\n",
              "      <td>0.002076</td>\n",
              "      <td>0.292683</td>\n",
              "      <td>12</td>\n",
              "    </tr>\n",
              "    <tr>\n",
              "      <th>2021-01-01</th>\n",
              "      <td>-0.000057</td>\n",
              "      <td>-0.000538</td>\n",
              "      <td>0.016424</td>\n",
              "      <td>0.183293</td>\n",
              "      <td>0.016424</td>\n",
              "      <td>0.016424</td>\n",
              "      <td>0.002956</td>\n",
              "      <td>0.014504</td>\n",
              "      <td>0.003689</td>\n",
              "      <td>-0.281250</td>\n",
              "      <td>1</td>\n",
              "    </tr>\n",
              "    <tr>\n",
              "      <th>2021-02-01</th>\n",
              "      <td>NaN</td>\n",
              "      <td>-0.000172</td>\n",
              "      <td>0.004035</td>\n",
              "      <td>0.089681</td>\n",
              "      <td>0.004035</td>\n",
              "      <td>0.004035</td>\n",
              "      <td>0.004191</td>\n",
              "      <td>0.020042</td>\n",
              "      <td>0.002362</td>\n",
              "      <td>0.135135</td>\n",
              "      <td>2</td>\n",
              "    </tr>\n",
              "  </tbody>\n",
              "</table>\n",
              "<p>233 rows × 11 columns</p>\n",
              "</div>"
            ],
            "text/plain": [
              "              Target   market1   market3  ...  inventory_mom_ch  u_mom_ch  Month\n",
              "Date                                      ...                                   \n",
              "2001-10-01 -0.094375 -0.450016 -0.223276  ...         -0.034466  0.035714     10\n",
              "2001-11-01 -0.264241 -0.414976 -0.050709  ...         -0.023644  0.066667     11\n",
              "2001-12-01 -0.131840 -0.242129 -0.468662  ...         -0.021003  0.032258     12\n",
              "2002-01-01 -0.198061 -0.608143 -0.405413  ...         -0.046035  0.162162      1\n",
              "2002-02-01 -0.112940 -0.612288 -0.290757  ...          0.002530 -0.042254      2\n",
              "...              ...       ...       ...  ...               ...       ...    ...\n",
              "2020-10-01  0.003806  0.023037  0.342372  ...          0.002105  0.000000     10\n",
              "2020-11-01  0.010316  0.013084  0.160532  ...         -0.000175 -0.482759     11\n",
              "2020-12-01  0.002434  0.009809  0.027331  ...          0.002076  0.292683     12\n",
              "2021-01-01 -0.000057 -0.000538  0.016424  ...          0.003689 -0.281250      1\n",
              "2021-02-01       NaN -0.000172  0.004035  ...          0.002362  0.135135      2\n",
              "\n",
              "[233 rows x 11 columns]"
            ]
          },
          "metadata": {},
          "execution_count": 261
        }
      ]
    },
    {
      "cell_type": "code",
      "metadata": {
        "id": "Jgm2vNZlF-eG",
        "colab": {
          "base_uri": "https://localhost:8080/",
          "height": 450
        },
        "outputId": "a0fbc849-0c62-48de-f486-66dde0df4320"
      },
      "source": [
        "df_3=df\n",
        "df_3=df_3.reset_index()\n",
        "df_3['Target']=df_3['Target'].shift(-3)\n",
        "df_3['Date']=df_3['Date']+ pd.DateOffset(months = 3)\n",
        "df_3=df_3.set_index('Date')\n",
        "df_3 = df_3[df_3.index >= target.index[0]]\n",
        "df_3['Month']=df_3.index.month\n",
        "df_3"
      ],
      "execution_count": null,
      "outputs": [
        {
          "output_type": "execute_result",
          "data": {
            "text/html": [
              "<div>\n",
              "<style scoped>\n",
              "    .dataframe tbody tr th:only-of-type {\n",
              "        vertical-align: middle;\n",
              "    }\n",
              "\n",
              "    .dataframe tbody tr th {\n",
              "        vertical-align: top;\n",
              "    }\n",
              "\n",
              "    .dataframe thead th {\n",
              "        text-align: right;\n",
              "    }\n",
              "</style>\n",
              "<table border=\"1\" class=\"dataframe\">\n",
              "  <thead>\n",
              "    <tr style=\"text-align: right;\">\n",
              "      <th></th>\n",
              "      <th>Target</th>\n",
              "      <th>market1</th>\n",
              "      <th>market3</th>\n",
              "      <th>market6</th>\n",
              "      <th>market12</th>\n",
              "      <th>market18</th>\n",
              "      <th>ipr_mom_ch</th>\n",
              "      <th>orders_mom_ch</th>\n",
              "      <th>inventory_mom_ch</th>\n",
              "      <th>u_mom_ch</th>\n",
              "      <th>Month</th>\n",
              "    </tr>\n",
              "    <tr>\n",
              "      <th>Date</th>\n",
              "      <th></th>\n",
              "      <th></th>\n",
              "      <th></th>\n",
              "      <th></th>\n",
              "      <th></th>\n",
              "      <th></th>\n",
              "      <th></th>\n",
              "      <th></th>\n",
              "      <th></th>\n",
              "      <th></th>\n",
              "      <th></th>\n",
              "    </tr>\n",
              "  </thead>\n",
              "  <tbody>\n",
              "    <tr>\n",
              "      <th>2001-12-01</th>\n",
              "      <td>-0.131840</td>\n",
              "      <td>-0.450016</td>\n",
              "      <td>-0.223276</td>\n",
              "      <td>-0.443436</td>\n",
              "      <td>-0.223276</td>\n",
              "      <td>-0.223276</td>\n",
              "      <td>-0.002268</td>\n",
              "      <td>-0.050116</td>\n",
              "      <td>-0.034466</td>\n",
              "      <td>0.035714</td>\n",
              "      <td>12</td>\n",
              "    </tr>\n",
              "    <tr>\n",
              "      <th>2002-01-01</th>\n",
              "      <td>-0.198061</td>\n",
              "      <td>-0.414976</td>\n",
              "      <td>-0.050709</td>\n",
              "      <td>-0.613667</td>\n",
              "      <td>-0.050709</td>\n",
              "      <td>-0.050709</td>\n",
              "      <td>-0.003411</td>\n",
              "      <td>-0.012251</td>\n",
              "      <td>-0.023644</td>\n",
              "      <td>0.066667</td>\n",
              "      <td>1</td>\n",
              "    </tr>\n",
              "    <tr>\n",
              "      <th>2002-02-01</th>\n",
              "      <td>-0.112940</td>\n",
              "      <td>-0.242129</td>\n",
              "      <td>-0.468662</td>\n",
              "      <td>-0.180843</td>\n",
              "      <td>-0.468662</td>\n",
              "      <td>-0.468662</td>\n",
              "      <td>-0.003411</td>\n",
              "      <td>0.007560</td>\n",
              "      <td>-0.021003</td>\n",
              "      <td>0.032258</td>\n",
              "      <td>2</td>\n",
              "    </tr>\n",
              "    <tr>\n",
              "      <th>2002-03-01</th>\n",
              "      <td>-0.292307</td>\n",
              "      <td>-0.608143</td>\n",
              "      <td>-0.405413</td>\n",
              "      <td>-0.165990</td>\n",
              "      <td>-0.405413</td>\n",
              "      <td>-0.405413</td>\n",
              "      <td>-0.003411</td>\n",
              "      <td>0.009572</td>\n",
              "      <td>-0.046035</td>\n",
              "      <td>0.162162</td>\n",
              "      <td>3</td>\n",
              "    </tr>\n",
              "    <tr>\n",
              "      <th>2002-04-01</th>\n",
              "      <td>-0.366633</td>\n",
              "      <td>-0.612288</td>\n",
              "      <td>-0.290757</td>\n",
              "      <td>-0.090202</td>\n",
              "      <td>-0.290757</td>\n",
              "      <td>-0.290757</td>\n",
              "      <td>0.000202</td>\n",
              "      <td>-0.124712</td>\n",
              "      <td>0.002530</td>\n",
              "      <td>-0.042254</td>\n",
              "      <td>4</td>\n",
              "    </tr>\n",
              "    <tr>\n",
              "      <th>...</th>\n",
              "      <td>...</td>\n",
              "      <td>...</td>\n",
              "      <td>...</td>\n",
              "      <td>...</td>\n",
              "      <td>...</td>\n",
              "      <td>...</td>\n",
              "      <td>...</td>\n",
              "      <td>...</td>\n",
              "      <td>...</td>\n",
              "      <td>...</td>\n",
              "      <td>...</td>\n",
              "    </tr>\n",
              "    <tr>\n",
              "      <th>2020-12-01</th>\n",
              "      <td>0.002434</td>\n",
              "      <td>0.023037</td>\n",
              "      <td>0.342372</td>\n",
              "      <td>-0.060056</td>\n",
              "      <td>0.342372</td>\n",
              "      <td>0.342372</td>\n",
              "      <td>0.002132</td>\n",
              "      <td>0.002289</td>\n",
              "      <td>0.002105</td>\n",
              "      <td>0.000000</td>\n",
              "      <td>12</td>\n",
              "    </tr>\n",
              "    <tr>\n",
              "      <th>2021-01-01</th>\n",
              "      <td>-0.000057</td>\n",
              "      <td>0.013084</td>\n",
              "      <td>0.160532</td>\n",
              "      <td>-0.113598</td>\n",
              "      <td>0.160532</td>\n",
              "      <td>0.160532</td>\n",
              "      <td>0.002956</td>\n",
              "      <td>0.023546</td>\n",
              "      <td>-0.000175</td>\n",
              "      <td>-0.482759</td>\n",
              "      <td>1</td>\n",
              "    </tr>\n",
              "    <tr>\n",
              "      <th>2021-02-01</th>\n",
              "      <td>NaN</td>\n",
              "      <td>0.009809</td>\n",
              "      <td>0.027331</td>\n",
              "      <td>0.227182</td>\n",
              "      <td>0.027331</td>\n",
              "      <td>0.027331</td>\n",
              "      <td>0.002956</td>\n",
              "      <td>0.000992</td>\n",
              "      <td>0.002076</td>\n",
              "      <td>0.292683</td>\n",
              "      <td>2</td>\n",
              "    </tr>\n",
              "    <tr>\n",
              "      <th>2021-03-01</th>\n",
              "      <td>NaN</td>\n",
              "      <td>-0.000538</td>\n",
              "      <td>0.016424</td>\n",
              "      <td>0.183293</td>\n",
              "      <td>0.016424</td>\n",
              "      <td>0.016424</td>\n",
              "      <td>0.002956</td>\n",
              "      <td>0.014504</td>\n",
              "      <td>0.003689</td>\n",
              "      <td>-0.281250</td>\n",
              "      <td>3</td>\n",
              "    </tr>\n",
              "    <tr>\n",
              "      <th>2021-04-01</th>\n",
              "      <td>NaN</td>\n",
              "      <td>-0.000172</td>\n",
              "      <td>0.004035</td>\n",
              "      <td>0.089681</td>\n",
              "      <td>0.004035</td>\n",
              "      <td>0.004035</td>\n",
              "      <td>0.004191</td>\n",
              "      <td>0.020042</td>\n",
              "      <td>0.002362</td>\n",
              "      <td>0.135135</td>\n",
              "      <td>4</td>\n",
              "    </tr>\n",
              "  </tbody>\n",
              "</table>\n",
              "<p>233 rows × 11 columns</p>\n",
              "</div>"
            ],
            "text/plain": [
              "              Target   market1   market3  ...  inventory_mom_ch  u_mom_ch  Month\n",
              "Date                                      ...                                   \n",
              "2001-12-01 -0.131840 -0.450016 -0.223276  ...         -0.034466  0.035714     12\n",
              "2002-01-01 -0.198061 -0.414976 -0.050709  ...         -0.023644  0.066667      1\n",
              "2002-02-01 -0.112940 -0.242129 -0.468662  ...         -0.021003  0.032258      2\n",
              "2002-03-01 -0.292307 -0.608143 -0.405413  ...         -0.046035  0.162162      3\n",
              "2002-04-01 -0.366633 -0.612288 -0.290757  ...          0.002530 -0.042254      4\n",
              "...              ...       ...       ...  ...               ...       ...    ...\n",
              "2020-12-01  0.002434  0.023037  0.342372  ...          0.002105  0.000000     12\n",
              "2021-01-01 -0.000057  0.013084  0.160532  ...         -0.000175 -0.482759      1\n",
              "2021-02-01       NaN  0.009809  0.027331  ...          0.002076  0.292683      2\n",
              "2021-03-01       NaN -0.000538  0.016424  ...          0.003689 -0.281250      3\n",
              "2021-04-01       NaN -0.000172  0.004035  ...          0.002362  0.135135      4\n",
              "\n",
              "[233 rows x 11 columns]"
            ]
          },
          "metadata": {},
          "execution_count": 262
        }
      ]
    },
    {
      "cell_type": "code",
      "metadata": {
        "id": "BHkiYzBNF-eG",
        "colab": {
          "base_uri": "https://localhost:8080/",
          "height": 450
        },
        "outputId": "4d6a12a3-79e3-4190-8bb0-62ada1e88296"
      },
      "source": [
        "df_6=df\n",
        "df_6=df_6.reset_index()\n",
        "df_6['Target']=df_6['Target'].shift(-6)\n",
        "df_6['Date']=df_6['Date']+ pd.DateOffset(months = 6)\n",
        "df_6=df_6.set_index('Date')\n",
        "df_6 = df_6[df_6.index >= target.index[0]]\n",
        "df_6['Month']=df_6.index.month\n",
        "df_6"
      ],
      "execution_count": null,
      "outputs": [
        {
          "output_type": "execute_result",
          "data": {
            "text/html": [
              "<div>\n",
              "<style scoped>\n",
              "    .dataframe tbody tr th:only-of-type {\n",
              "        vertical-align: middle;\n",
              "    }\n",
              "\n",
              "    .dataframe tbody tr th {\n",
              "        vertical-align: top;\n",
              "    }\n",
              "\n",
              "    .dataframe thead th {\n",
              "        text-align: right;\n",
              "    }\n",
              "</style>\n",
              "<table border=\"1\" class=\"dataframe\">\n",
              "  <thead>\n",
              "    <tr style=\"text-align: right;\">\n",
              "      <th></th>\n",
              "      <th>Target</th>\n",
              "      <th>market1</th>\n",
              "      <th>market3</th>\n",
              "      <th>market6</th>\n",
              "      <th>market12</th>\n",
              "      <th>market18</th>\n",
              "      <th>ipr_mom_ch</th>\n",
              "      <th>orders_mom_ch</th>\n",
              "      <th>inventory_mom_ch</th>\n",
              "      <th>u_mom_ch</th>\n",
              "      <th>Month</th>\n",
              "    </tr>\n",
              "    <tr>\n",
              "      <th>Date</th>\n",
              "      <th></th>\n",
              "      <th></th>\n",
              "      <th></th>\n",
              "      <th></th>\n",
              "      <th></th>\n",
              "      <th></th>\n",
              "      <th></th>\n",
              "      <th></th>\n",
              "      <th></th>\n",
              "      <th></th>\n",
              "      <th></th>\n",
              "    </tr>\n",
              "  </thead>\n",
              "  <tbody>\n",
              "    <tr>\n",
              "      <th>2002-03-01</th>\n",
              "      <td>-0.292307</td>\n",
              "      <td>-0.450016</td>\n",
              "      <td>-0.223276</td>\n",
              "      <td>-0.443436</td>\n",
              "      <td>-0.223276</td>\n",
              "      <td>-0.223276</td>\n",
              "      <td>-0.002268</td>\n",
              "      <td>-0.050116</td>\n",
              "      <td>-0.034466</td>\n",
              "      <td>0.035714</td>\n",
              "      <td>3</td>\n",
              "    </tr>\n",
              "    <tr>\n",
              "      <th>2002-04-01</th>\n",
              "      <td>-0.366633</td>\n",
              "      <td>-0.414976</td>\n",
              "      <td>-0.050709</td>\n",
              "      <td>-0.613667</td>\n",
              "      <td>-0.050709</td>\n",
              "      <td>-0.050709</td>\n",
              "      <td>-0.003411</td>\n",
              "      <td>-0.012251</td>\n",
              "      <td>-0.023644</td>\n",
              "      <td>0.066667</td>\n",
              "      <td>4</td>\n",
              "    </tr>\n",
              "    <tr>\n",
              "      <th>2002-05-01</th>\n",
              "      <td>0.133001</td>\n",
              "      <td>-0.242129</td>\n",
              "      <td>-0.468662</td>\n",
              "      <td>-0.180843</td>\n",
              "      <td>-0.468662</td>\n",
              "      <td>-0.468662</td>\n",
              "      <td>-0.003411</td>\n",
              "      <td>0.007560</td>\n",
              "      <td>-0.021003</td>\n",
              "      <td>0.032258</td>\n",
              "      <td>5</td>\n",
              "    </tr>\n",
              "    <tr>\n",
              "      <th>2002-06-01</th>\n",
              "      <td>0.199389</td>\n",
              "      <td>-0.608143</td>\n",
              "      <td>-0.405413</td>\n",
              "      <td>-0.165990</td>\n",
              "      <td>-0.405413</td>\n",
              "      <td>-0.405413</td>\n",
              "      <td>-0.003411</td>\n",
              "      <td>0.009572</td>\n",
              "      <td>-0.046035</td>\n",
              "      <td>0.162162</td>\n",
              "      <td>6</td>\n",
              "    </tr>\n",
              "    <tr>\n",
              "      <th>2002-07-01</th>\n",
              "      <td>0.359578</td>\n",
              "      <td>-0.612288</td>\n",
              "      <td>-0.290757</td>\n",
              "      <td>-0.090202</td>\n",
              "      <td>-0.290757</td>\n",
              "      <td>-0.290757</td>\n",
              "      <td>0.000202</td>\n",
              "      <td>-0.124712</td>\n",
              "      <td>0.002530</td>\n",
              "      <td>-0.042254</td>\n",
              "      <td>7</td>\n",
              "    </tr>\n",
              "    <tr>\n",
              "      <th>...</th>\n",
              "      <td>...</td>\n",
              "      <td>...</td>\n",
              "      <td>...</td>\n",
              "      <td>...</td>\n",
              "      <td>...</td>\n",
              "      <td>...</td>\n",
              "      <td>...</td>\n",
              "      <td>...</td>\n",
              "      <td>...</td>\n",
              "      <td>...</td>\n",
              "      <td>...</td>\n",
              "    </tr>\n",
              "    <tr>\n",
              "      <th>2021-03-01</th>\n",
              "      <td>NaN</td>\n",
              "      <td>0.023037</td>\n",
              "      <td>0.342372</td>\n",
              "      <td>-0.060056</td>\n",
              "      <td>0.342372</td>\n",
              "      <td>0.342372</td>\n",
              "      <td>0.002132</td>\n",
              "      <td>0.002289</td>\n",
              "      <td>0.002105</td>\n",
              "      <td>0.000000</td>\n",
              "      <td>3</td>\n",
              "    </tr>\n",
              "    <tr>\n",
              "      <th>2021-04-01</th>\n",
              "      <td>NaN</td>\n",
              "      <td>0.013084</td>\n",
              "      <td>0.160532</td>\n",
              "      <td>-0.113598</td>\n",
              "      <td>0.160532</td>\n",
              "      <td>0.160532</td>\n",
              "      <td>0.002956</td>\n",
              "      <td>0.023546</td>\n",
              "      <td>-0.000175</td>\n",
              "      <td>-0.482759</td>\n",
              "      <td>4</td>\n",
              "    </tr>\n",
              "    <tr>\n",
              "      <th>2021-05-01</th>\n",
              "      <td>NaN</td>\n",
              "      <td>0.009809</td>\n",
              "      <td>0.027331</td>\n",
              "      <td>0.227182</td>\n",
              "      <td>0.027331</td>\n",
              "      <td>0.027331</td>\n",
              "      <td>0.002956</td>\n",
              "      <td>0.000992</td>\n",
              "      <td>0.002076</td>\n",
              "      <td>0.292683</td>\n",
              "      <td>5</td>\n",
              "    </tr>\n",
              "    <tr>\n",
              "      <th>2021-06-01</th>\n",
              "      <td>NaN</td>\n",
              "      <td>-0.000538</td>\n",
              "      <td>0.016424</td>\n",
              "      <td>0.183293</td>\n",
              "      <td>0.016424</td>\n",
              "      <td>0.016424</td>\n",
              "      <td>0.002956</td>\n",
              "      <td>0.014504</td>\n",
              "      <td>0.003689</td>\n",
              "      <td>-0.281250</td>\n",
              "      <td>6</td>\n",
              "    </tr>\n",
              "    <tr>\n",
              "      <th>2021-07-01</th>\n",
              "      <td>NaN</td>\n",
              "      <td>-0.000172</td>\n",
              "      <td>0.004035</td>\n",
              "      <td>0.089681</td>\n",
              "      <td>0.004035</td>\n",
              "      <td>0.004035</td>\n",
              "      <td>0.004191</td>\n",
              "      <td>0.020042</td>\n",
              "      <td>0.002362</td>\n",
              "      <td>0.135135</td>\n",
              "      <td>7</td>\n",
              "    </tr>\n",
              "  </tbody>\n",
              "</table>\n",
              "<p>233 rows × 11 columns</p>\n",
              "</div>"
            ],
            "text/plain": [
              "              Target   market1   market3  ...  inventory_mom_ch  u_mom_ch  Month\n",
              "Date                                      ...                                   \n",
              "2002-03-01 -0.292307 -0.450016 -0.223276  ...         -0.034466  0.035714      3\n",
              "2002-04-01 -0.366633 -0.414976 -0.050709  ...         -0.023644  0.066667      4\n",
              "2002-05-01  0.133001 -0.242129 -0.468662  ...         -0.021003  0.032258      5\n",
              "2002-06-01  0.199389 -0.608143 -0.405413  ...         -0.046035  0.162162      6\n",
              "2002-07-01  0.359578 -0.612288 -0.290757  ...          0.002530 -0.042254      7\n",
              "...              ...       ...       ...  ...               ...       ...    ...\n",
              "2021-03-01       NaN  0.023037  0.342372  ...          0.002105  0.000000      3\n",
              "2021-04-01       NaN  0.013084  0.160532  ...         -0.000175 -0.482759      4\n",
              "2021-05-01       NaN  0.009809  0.027331  ...          0.002076  0.292683      5\n",
              "2021-06-01       NaN -0.000538  0.016424  ...          0.003689 -0.281250      6\n",
              "2021-07-01       NaN -0.000172  0.004035  ...          0.002362  0.135135      7\n",
              "\n",
              "[233 rows x 11 columns]"
            ]
          },
          "metadata": {},
          "execution_count": 263
        }
      ]
    },
    {
      "cell_type": "code",
      "metadata": {
        "id": "vv56mmS2F-eH",
        "colab": {
          "base_uri": "https://localhost:8080/",
          "height": 450
        },
        "outputId": "5c6e03fa-5bda-4cbf-c639-fb0c456873da"
      },
      "source": [
        "df_12=df\n",
        "df_12=df_12.reset_index()\n",
        "df_12['Target']=df_12['Target'].shift(-12)\n",
        "df_12['Date']=df_12['Date']+ pd.DateOffset(months = 12)\n",
        "df_12=df_12.set_index('Date')\n",
        "df_12 = df_12[df_12.index >= target.index[0]]\n",
        "df_12['Month']=df_12.index.month\n",
        "df_12"
      ],
      "execution_count": null,
      "outputs": [
        {
          "output_type": "execute_result",
          "data": {
            "text/html": [
              "<div>\n",
              "<style scoped>\n",
              "    .dataframe tbody tr th:only-of-type {\n",
              "        vertical-align: middle;\n",
              "    }\n",
              "\n",
              "    .dataframe tbody tr th {\n",
              "        vertical-align: top;\n",
              "    }\n",
              "\n",
              "    .dataframe thead th {\n",
              "        text-align: right;\n",
              "    }\n",
              "</style>\n",
              "<table border=\"1\" class=\"dataframe\">\n",
              "  <thead>\n",
              "    <tr style=\"text-align: right;\">\n",
              "      <th></th>\n",
              "      <th>Target</th>\n",
              "      <th>market1</th>\n",
              "      <th>market3</th>\n",
              "      <th>market6</th>\n",
              "      <th>market12</th>\n",
              "      <th>market18</th>\n",
              "      <th>ipr_mom_ch</th>\n",
              "      <th>orders_mom_ch</th>\n",
              "      <th>inventory_mom_ch</th>\n",
              "      <th>u_mom_ch</th>\n",
              "      <th>Month</th>\n",
              "    </tr>\n",
              "    <tr>\n",
              "      <th>Date</th>\n",
              "      <th></th>\n",
              "      <th></th>\n",
              "      <th></th>\n",
              "      <th></th>\n",
              "      <th></th>\n",
              "      <th></th>\n",
              "      <th></th>\n",
              "      <th></th>\n",
              "      <th></th>\n",
              "      <th></th>\n",
              "      <th></th>\n",
              "    </tr>\n",
              "  </thead>\n",
              "  <tbody>\n",
              "    <tr>\n",
              "      <th>2002-09-01</th>\n",
              "      <td>0.083570</td>\n",
              "      <td>-0.450016</td>\n",
              "      <td>-0.223276</td>\n",
              "      <td>-0.443436</td>\n",
              "      <td>-0.223276</td>\n",
              "      <td>-0.223276</td>\n",
              "      <td>-0.002268</td>\n",
              "      <td>-0.050116</td>\n",
              "      <td>-0.034466</td>\n",
              "      <td>0.035714</td>\n",
              "      <td>9</td>\n",
              "    </tr>\n",
              "    <tr>\n",
              "      <th>2002-10-01</th>\n",
              "      <td>0.144311</td>\n",
              "      <td>-0.414976</td>\n",
              "      <td>-0.050709</td>\n",
              "      <td>-0.613667</td>\n",
              "      <td>-0.050709</td>\n",
              "      <td>-0.050709</td>\n",
              "      <td>-0.003411</td>\n",
              "      <td>-0.012251</td>\n",
              "      <td>-0.023644</td>\n",
              "      <td>0.066667</td>\n",
              "      <td>10</td>\n",
              "    </tr>\n",
              "    <tr>\n",
              "      <th>2002-11-01</th>\n",
              "      <td>0.114729</td>\n",
              "      <td>-0.242129</td>\n",
              "      <td>-0.468662</td>\n",
              "      <td>-0.180843</td>\n",
              "      <td>-0.468662</td>\n",
              "      <td>-0.468662</td>\n",
              "      <td>-0.003411</td>\n",
              "      <td>0.007560</td>\n",
              "      <td>-0.021003</td>\n",
              "      <td>0.032258</td>\n",
              "      <td>11</td>\n",
              "    </tr>\n",
              "    <tr>\n",
              "      <th>2002-12-01</th>\n",
              "      <td>-0.013632</td>\n",
              "      <td>-0.608143</td>\n",
              "      <td>-0.405413</td>\n",
              "      <td>-0.165990</td>\n",
              "      <td>-0.405413</td>\n",
              "      <td>-0.405413</td>\n",
              "      <td>-0.003411</td>\n",
              "      <td>0.009572</td>\n",
              "      <td>-0.046035</td>\n",
              "      <td>0.162162</td>\n",
              "      <td>12</td>\n",
              "    </tr>\n",
              "    <tr>\n",
              "      <th>2003-01-01</th>\n",
              "      <td>-0.013019</td>\n",
              "      <td>-0.612288</td>\n",
              "      <td>-0.290757</td>\n",
              "      <td>-0.090202</td>\n",
              "      <td>-0.290757</td>\n",
              "      <td>-0.290757</td>\n",
              "      <td>0.000202</td>\n",
              "      <td>-0.124712</td>\n",
              "      <td>0.002530</td>\n",
              "      <td>-0.042254</td>\n",
              "      <td>1</td>\n",
              "    </tr>\n",
              "    <tr>\n",
              "      <th>...</th>\n",
              "      <td>...</td>\n",
              "      <td>...</td>\n",
              "      <td>...</td>\n",
              "      <td>...</td>\n",
              "      <td>...</td>\n",
              "      <td>...</td>\n",
              "      <td>...</td>\n",
              "      <td>...</td>\n",
              "      <td>...</td>\n",
              "      <td>...</td>\n",
              "      <td>...</td>\n",
              "    </tr>\n",
              "    <tr>\n",
              "      <th>2021-09-01</th>\n",
              "      <td>NaN</td>\n",
              "      <td>0.023037</td>\n",
              "      <td>0.342372</td>\n",
              "      <td>-0.060056</td>\n",
              "      <td>0.342372</td>\n",
              "      <td>0.342372</td>\n",
              "      <td>0.002132</td>\n",
              "      <td>0.002289</td>\n",
              "      <td>0.002105</td>\n",
              "      <td>0.000000</td>\n",
              "      <td>9</td>\n",
              "    </tr>\n",
              "    <tr>\n",
              "      <th>2021-10-01</th>\n",
              "      <td>NaN</td>\n",
              "      <td>0.013084</td>\n",
              "      <td>0.160532</td>\n",
              "      <td>-0.113598</td>\n",
              "      <td>0.160532</td>\n",
              "      <td>0.160532</td>\n",
              "      <td>0.002956</td>\n",
              "      <td>0.023546</td>\n",
              "      <td>-0.000175</td>\n",
              "      <td>-0.482759</td>\n",
              "      <td>10</td>\n",
              "    </tr>\n",
              "    <tr>\n",
              "      <th>2021-11-01</th>\n",
              "      <td>NaN</td>\n",
              "      <td>0.009809</td>\n",
              "      <td>0.027331</td>\n",
              "      <td>0.227182</td>\n",
              "      <td>0.027331</td>\n",
              "      <td>0.027331</td>\n",
              "      <td>0.002956</td>\n",
              "      <td>0.000992</td>\n",
              "      <td>0.002076</td>\n",
              "      <td>0.292683</td>\n",
              "      <td>11</td>\n",
              "    </tr>\n",
              "    <tr>\n",
              "      <th>2021-12-01</th>\n",
              "      <td>NaN</td>\n",
              "      <td>-0.000538</td>\n",
              "      <td>0.016424</td>\n",
              "      <td>0.183293</td>\n",
              "      <td>0.016424</td>\n",
              "      <td>0.016424</td>\n",
              "      <td>0.002956</td>\n",
              "      <td>0.014504</td>\n",
              "      <td>0.003689</td>\n",
              "      <td>-0.281250</td>\n",
              "      <td>12</td>\n",
              "    </tr>\n",
              "    <tr>\n",
              "      <th>2022-01-01</th>\n",
              "      <td>NaN</td>\n",
              "      <td>-0.000172</td>\n",
              "      <td>0.004035</td>\n",
              "      <td>0.089681</td>\n",
              "      <td>0.004035</td>\n",
              "      <td>0.004035</td>\n",
              "      <td>0.004191</td>\n",
              "      <td>0.020042</td>\n",
              "      <td>0.002362</td>\n",
              "      <td>0.135135</td>\n",
              "      <td>1</td>\n",
              "    </tr>\n",
              "  </tbody>\n",
              "</table>\n",
              "<p>233 rows × 11 columns</p>\n",
              "</div>"
            ],
            "text/plain": [
              "              Target   market1   market3  ...  inventory_mom_ch  u_mom_ch  Month\n",
              "Date                                      ...                                   \n",
              "2002-09-01  0.083570 -0.450016 -0.223276  ...         -0.034466  0.035714      9\n",
              "2002-10-01  0.144311 -0.414976 -0.050709  ...         -0.023644  0.066667     10\n",
              "2002-11-01  0.114729 -0.242129 -0.468662  ...         -0.021003  0.032258     11\n",
              "2002-12-01 -0.013632 -0.608143 -0.405413  ...         -0.046035  0.162162     12\n",
              "2003-01-01 -0.013019 -0.612288 -0.290757  ...          0.002530 -0.042254      1\n",
              "...              ...       ...       ...  ...               ...       ...    ...\n",
              "2021-09-01       NaN  0.023037  0.342372  ...          0.002105  0.000000      9\n",
              "2021-10-01       NaN  0.013084  0.160532  ...         -0.000175 -0.482759     10\n",
              "2021-11-01       NaN  0.009809  0.027331  ...          0.002076  0.292683     11\n",
              "2021-12-01       NaN -0.000538  0.016424  ...          0.003689 -0.281250     12\n",
              "2022-01-01       NaN -0.000172  0.004035  ...          0.002362  0.135135      1\n",
              "\n",
              "[233 rows x 11 columns]"
            ]
          },
          "metadata": {},
          "execution_count": 264
        }
      ]
    },
    {
      "cell_type": "code",
      "metadata": {
        "id": "sizbPD69F-eH",
        "colab": {
          "base_uri": "https://localhost:8080/",
          "height": 450
        },
        "outputId": "69b81809-d974-4806-f06d-1eed90d556a6"
      },
      "source": [
        "df_18=df\n",
        "df_18=df_18.reset_index()\n",
        "df_18['Target']=df_18['Target'].shift(-18)\n",
        "df_18['Date']=df_18['Date']+ pd.DateOffset(months = 18)\n",
        "df_18=df_18.set_index('Date')\n",
        "df_18 = df_18[df_18.index >= target.index[0]]\n",
        "df_18['Month']=df_18.index.month\n",
        "df_18"
      ],
      "execution_count": null,
      "outputs": [
        {
          "output_type": "execute_result",
          "data": {
            "text/html": [
              "<div>\n",
              "<style scoped>\n",
              "    .dataframe tbody tr th:only-of-type {\n",
              "        vertical-align: middle;\n",
              "    }\n",
              "\n",
              "    .dataframe tbody tr th {\n",
              "        vertical-align: top;\n",
              "    }\n",
              "\n",
              "    .dataframe thead th {\n",
              "        text-align: right;\n",
              "    }\n",
              "</style>\n",
              "<table border=\"1\" class=\"dataframe\">\n",
              "  <thead>\n",
              "    <tr style=\"text-align: right;\">\n",
              "      <th></th>\n",
              "      <th>Target</th>\n",
              "      <th>market1</th>\n",
              "      <th>market3</th>\n",
              "      <th>market6</th>\n",
              "      <th>market12</th>\n",
              "      <th>market18</th>\n",
              "      <th>ipr_mom_ch</th>\n",
              "      <th>orders_mom_ch</th>\n",
              "      <th>inventory_mom_ch</th>\n",
              "      <th>u_mom_ch</th>\n",
              "      <th>Month</th>\n",
              "    </tr>\n",
              "    <tr>\n",
              "      <th>Date</th>\n",
              "      <th></th>\n",
              "      <th></th>\n",
              "      <th></th>\n",
              "      <th></th>\n",
              "      <th></th>\n",
              "      <th></th>\n",
              "      <th></th>\n",
              "      <th></th>\n",
              "      <th></th>\n",
              "      <th></th>\n",
              "      <th></th>\n",
              "    </tr>\n",
              "  </thead>\n",
              "  <tbody>\n",
              "    <tr>\n",
              "      <th>2003-03-01</th>\n",
              "      <td>0.102729</td>\n",
              "      <td>-0.450016</td>\n",
              "      <td>-0.223276</td>\n",
              "      <td>-0.443436</td>\n",
              "      <td>-0.223276</td>\n",
              "      <td>-0.223276</td>\n",
              "      <td>-0.002268</td>\n",
              "      <td>-0.050116</td>\n",
              "      <td>-0.034466</td>\n",
              "      <td>0.035714</td>\n",
              "      <td>3</td>\n",
              "    </tr>\n",
              "    <tr>\n",
              "      <th>2003-04-01</th>\n",
              "      <td>0.087681</td>\n",
              "      <td>-0.414976</td>\n",
              "      <td>-0.050709</td>\n",
              "      <td>-0.613667</td>\n",
              "      <td>-0.050709</td>\n",
              "      <td>-0.050709</td>\n",
              "      <td>-0.003411</td>\n",
              "      <td>-0.012251</td>\n",
              "      <td>-0.023644</td>\n",
              "      <td>0.066667</td>\n",
              "      <td>4</td>\n",
              "    </tr>\n",
              "    <tr>\n",
              "      <th>2003-05-01</th>\n",
              "      <td>0.067519</td>\n",
              "      <td>-0.242129</td>\n",
              "      <td>-0.468662</td>\n",
              "      <td>-0.180843</td>\n",
              "      <td>-0.468662</td>\n",
              "      <td>-0.468662</td>\n",
              "      <td>-0.003411</td>\n",
              "      <td>0.007560</td>\n",
              "      <td>-0.021003</td>\n",
              "      <td>0.032258</td>\n",
              "      <td>5</td>\n",
              "    </tr>\n",
              "    <tr>\n",
              "      <th>2003-06-01</th>\n",
              "      <td>0.014086</td>\n",
              "      <td>-0.608143</td>\n",
              "      <td>-0.405413</td>\n",
              "      <td>-0.165990</td>\n",
              "      <td>-0.405413</td>\n",
              "      <td>-0.405413</td>\n",
              "      <td>-0.003411</td>\n",
              "      <td>0.009572</td>\n",
              "      <td>-0.046035</td>\n",
              "      <td>0.162162</td>\n",
              "      <td>6</td>\n",
              "    </tr>\n",
              "    <tr>\n",
              "      <th>2003-07-01</th>\n",
              "      <td>0.036401</td>\n",
              "      <td>-0.612288</td>\n",
              "      <td>-0.290757</td>\n",
              "      <td>-0.090202</td>\n",
              "      <td>-0.290757</td>\n",
              "      <td>-0.290757</td>\n",
              "      <td>0.000202</td>\n",
              "      <td>-0.124712</td>\n",
              "      <td>0.002530</td>\n",
              "      <td>-0.042254</td>\n",
              "      <td>7</td>\n",
              "    </tr>\n",
              "    <tr>\n",
              "      <th>...</th>\n",
              "      <td>...</td>\n",
              "      <td>...</td>\n",
              "      <td>...</td>\n",
              "      <td>...</td>\n",
              "      <td>...</td>\n",
              "      <td>...</td>\n",
              "      <td>...</td>\n",
              "      <td>...</td>\n",
              "      <td>...</td>\n",
              "      <td>...</td>\n",
              "      <td>...</td>\n",
              "    </tr>\n",
              "    <tr>\n",
              "      <th>2022-03-01</th>\n",
              "      <td>NaN</td>\n",
              "      <td>0.023037</td>\n",
              "      <td>0.342372</td>\n",
              "      <td>-0.060056</td>\n",
              "      <td>0.342372</td>\n",
              "      <td>0.342372</td>\n",
              "      <td>0.002132</td>\n",
              "      <td>0.002289</td>\n",
              "      <td>0.002105</td>\n",
              "      <td>0.000000</td>\n",
              "      <td>3</td>\n",
              "    </tr>\n",
              "    <tr>\n",
              "      <th>2022-04-01</th>\n",
              "      <td>NaN</td>\n",
              "      <td>0.013084</td>\n",
              "      <td>0.160532</td>\n",
              "      <td>-0.113598</td>\n",
              "      <td>0.160532</td>\n",
              "      <td>0.160532</td>\n",
              "      <td>0.002956</td>\n",
              "      <td>0.023546</td>\n",
              "      <td>-0.000175</td>\n",
              "      <td>-0.482759</td>\n",
              "      <td>4</td>\n",
              "    </tr>\n",
              "    <tr>\n",
              "      <th>2022-05-01</th>\n",
              "      <td>NaN</td>\n",
              "      <td>0.009809</td>\n",
              "      <td>0.027331</td>\n",
              "      <td>0.227182</td>\n",
              "      <td>0.027331</td>\n",
              "      <td>0.027331</td>\n",
              "      <td>0.002956</td>\n",
              "      <td>0.000992</td>\n",
              "      <td>0.002076</td>\n",
              "      <td>0.292683</td>\n",
              "      <td>5</td>\n",
              "    </tr>\n",
              "    <tr>\n",
              "      <th>2022-06-01</th>\n",
              "      <td>NaN</td>\n",
              "      <td>-0.000538</td>\n",
              "      <td>0.016424</td>\n",
              "      <td>0.183293</td>\n",
              "      <td>0.016424</td>\n",
              "      <td>0.016424</td>\n",
              "      <td>0.002956</td>\n",
              "      <td>0.014504</td>\n",
              "      <td>0.003689</td>\n",
              "      <td>-0.281250</td>\n",
              "      <td>6</td>\n",
              "    </tr>\n",
              "    <tr>\n",
              "      <th>2022-07-01</th>\n",
              "      <td>NaN</td>\n",
              "      <td>-0.000172</td>\n",
              "      <td>0.004035</td>\n",
              "      <td>0.089681</td>\n",
              "      <td>0.004035</td>\n",
              "      <td>0.004035</td>\n",
              "      <td>0.004191</td>\n",
              "      <td>0.020042</td>\n",
              "      <td>0.002362</td>\n",
              "      <td>0.135135</td>\n",
              "      <td>7</td>\n",
              "    </tr>\n",
              "  </tbody>\n",
              "</table>\n",
              "<p>233 rows × 11 columns</p>\n",
              "</div>"
            ],
            "text/plain": [
              "              Target   market1   market3  ...  inventory_mom_ch  u_mom_ch  Month\n",
              "Date                                      ...                                   \n",
              "2003-03-01  0.102729 -0.450016 -0.223276  ...         -0.034466  0.035714      3\n",
              "2003-04-01  0.087681 -0.414976 -0.050709  ...         -0.023644  0.066667      4\n",
              "2003-05-01  0.067519 -0.242129 -0.468662  ...         -0.021003  0.032258      5\n",
              "2003-06-01  0.014086 -0.608143 -0.405413  ...         -0.046035  0.162162      6\n",
              "2003-07-01  0.036401 -0.612288 -0.290757  ...          0.002530 -0.042254      7\n",
              "...              ...       ...       ...  ...               ...       ...    ...\n",
              "2022-03-01       NaN  0.023037  0.342372  ...          0.002105  0.000000      3\n",
              "2022-04-01       NaN  0.013084  0.160532  ...         -0.000175 -0.482759      4\n",
              "2022-05-01       NaN  0.009809  0.027331  ...          0.002076  0.292683      5\n",
              "2022-06-01       NaN -0.000538  0.016424  ...          0.003689 -0.281250      6\n",
              "2022-07-01       NaN -0.000172  0.004035  ...          0.002362  0.135135      7\n",
              "\n",
              "[233 rows x 11 columns]"
            ]
          },
          "metadata": {},
          "execution_count": 265
        }
      ]
    },
    {
      "cell_type": "markdown",
      "metadata": {
        "id": "tCDcY9Ywz91V"
      },
      "source": [
        "# Model"
      ]
    },
    {
      "cell_type": "markdown",
      "metadata": {
        "id": "GW5y_RmRmaVf"
      },
      "source": [
        "## SARIMAX Model 1 month horizon"
      ]
    },
    {
      "cell_type": "markdown",
      "metadata": {
        "id": "rOAtb04VivxK"
      },
      "source": [
        "Test correlation"
      ]
    },
    {
      "cell_type": "code",
      "metadata": {
        "colab": {
          "base_uri": "https://localhost:8080/",
          "height": 390
        },
        "id": "d_XSz2MOivKb",
        "outputId": "37bfd266-49f1-4fef-9c39-914b19941c28"
      },
      "source": [
        "var_corr_1 = (df_1.corr())\n",
        "var_corr_1"
      ],
      "execution_count": null,
      "outputs": [
        {
          "output_type": "execute_result",
          "data": {
            "text/html": [
              "<div>\n",
              "<style scoped>\n",
              "    .dataframe tbody tr th:only-of-type {\n",
              "        vertical-align: middle;\n",
              "    }\n",
              "\n",
              "    .dataframe tbody tr th {\n",
              "        vertical-align: top;\n",
              "    }\n",
              "\n",
              "    .dataframe thead th {\n",
              "        text-align: right;\n",
              "    }\n",
              "</style>\n",
              "<table border=\"1\" class=\"dataframe\">\n",
              "  <thead>\n",
              "    <tr style=\"text-align: right;\">\n",
              "      <th></th>\n",
              "      <th>Target</th>\n",
              "      <th>market1</th>\n",
              "      <th>market3</th>\n",
              "      <th>market6</th>\n",
              "      <th>market12</th>\n",
              "      <th>market18</th>\n",
              "      <th>ipr_mom_ch</th>\n",
              "      <th>orders_mom_ch</th>\n",
              "      <th>inventory_mom_ch</th>\n",
              "      <th>u_mom_ch</th>\n",
              "      <th>Month</th>\n",
              "    </tr>\n",
              "  </thead>\n",
              "  <tbody>\n",
              "    <tr>\n",
              "      <th>Target</th>\n",
              "      <td>1.000000</td>\n",
              "      <td>0.107354</td>\n",
              "      <td>0.111570</td>\n",
              "      <td>0.076131</td>\n",
              "      <td>0.111570</td>\n",
              "      <td>0.111570</td>\n",
              "      <td>0.117401</td>\n",
              "      <td>0.009730</td>\n",
              "      <td>0.130585</td>\n",
              "      <td>-0.016116</td>\n",
              "      <td>0.035443</td>\n",
              "    </tr>\n",
              "    <tr>\n",
              "      <th>market1</th>\n",
              "      <td>0.107354</td>\n",
              "      <td>1.000000</td>\n",
              "      <td>0.603675</td>\n",
              "      <td>0.403794</td>\n",
              "      <td>0.603675</td>\n",
              "      <td>0.603675</td>\n",
              "      <td>0.207863</td>\n",
              "      <td>0.042343</td>\n",
              "      <td>0.181002</td>\n",
              "      <td>-0.034579</td>\n",
              "      <td>0.033678</td>\n",
              "    </tr>\n",
              "    <tr>\n",
              "      <th>market3</th>\n",
              "      <td>0.111570</td>\n",
              "      <td>0.603675</td>\n",
              "      <td>1.000000</td>\n",
              "      <td>0.418639</td>\n",
              "      <td>1.000000</td>\n",
              "      <td>1.000000</td>\n",
              "      <td>0.110387</td>\n",
              "      <td>0.076665</td>\n",
              "      <td>0.188004</td>\n",
              "      <td>-0.063796</td>\n",
              "      <td>0.027330</td>\n",
              "    </tr>\n",
              "    <tr>\n",
              "      <th>market6</th>\n",
              "      <td>0.076131</td>\n",
              "      <td>0.403794</td>\n",
              "      <td>0.418639</td>\n",
              "      <td>1.000000</td>\n",
              "      <td>0.418639</td>\n",
              "      <td>0.418639</td>\n",
              "      <td>-0.014017</td>\n",
              "      <td>-0.025412</td>\n",
              "      <td>0.169120</td>\n",
              "      <td>-0.024506</td>\n",
              "      <td>-0.051356</td>\n",
              "    </tr>\n",
              "    <tr>\n",
              "      <th>market12</th>\n",
              "      <td>0.111570</td>\n",
              "      <td>0.603675</td>\n",
              "      <td>1.000000</td>\n",
              "      <td>0.418639</td>\n",
              "      <td>1.000000</td>\n",
              "      <td>1.000000</td>\n",
              "      <td>0.110387</td>\n",
              "      <td>0.076665</td>\n",
              "      <td>0.188004</td>\n",
              "      <td>-0.063796</td>\n",
              "      <td>0.027330</td>\n",
              "    </tr>\n",
              "    <tr>\n",
              "      <th>market18</th>\n",
              "      <td>0.111570</td>\n",
              "      <td>0.603675</td>\n",
              "      <td>1.000000</td>\n",
              "      <td>0.418639</td>\n",
              "      <td>1.000000</td>\n",
              "      <td>1.000000</td>\n",
              "      <td>0.110387</td>\n",
              "      <td>0.076665</td>\n",
              "      <td>0.188004</td>\n",
              "      <td>-0.063796</td>\n",
              "      <td>0.027330</td>\n",
              "    </tr>\n",
              "    <tr>\n",
              "      <th>ipr_mom_ch</th>\n",
              "      <td>0.117401</td>\n",
              "      <td>0.207863</td>\n",
              "      <td>0.110387</td>\n",
              "      <td>-0.014017</td>\n",
              "      <td>0.110387</td>\n",
              "      <td>0.110387</td>\n",
              "      <td>1.000000</td>\n",
              "      <td>0.022753</td>\n",
              "      <td>0.209631</td>\n",
              "      <td>-0.087303</td>\n",
              "      <td>0.002299</td>\n",
              "    </tr>\n",
              "    <tr>\n",
              "      <th>orders_mom_ch</th>\n",
              "      <td>0.009730</td>\n",
              "      <td>0.042343</td>\n",
              "      <td>0.076665</td>\n",
              "      <td>-0.025412</td>\n",
              "      <td>0.076665</td>\n",
              "      <td>0.076665</td>\n",
              "      <td>0.022753</td>\n",
              "      <td>1.000000</td>\n",
              "      <td>-0.021730</td>\n",
              "      <td>0.053362</td>\n",
              "      <td>0.027651</td>\n",
              "    </tr>\n",
              "    <tr>\n",
              "      <th>inventory_mom_ch</th>\n",
              "      <td>0.130585</td>\n",
              "      <td>0.181002</td>\n",
              "      <td>0.188004</td>\n",
              "      <td>0.169120</td>\n",
              "      <td>0.188004</td>\n",
              "      <td>0.188004</td>\n",
              "      <td>0.209631</td>\n",
              "      <td>-0.021730</td>\n",
              "      <td>1.000000</td>\n",
              "      <td>-0.051776</td>\n",
              "      <td>0.019062</td>\n",
              "    </tr>\n",
              "    <tr>\n",
              "      <th>u_mom_ch</th>\n",
              "      <td>-0.016116</td>\n",
              "      <td>-0.034579</td>\n",
              "      <td>-0.063796</td>\n",
              "      <td>-0.024506</td>\n",
              "      <td>-0.063796</td>\n",
              "      <td>-0.063796</td>\n",
              "      <td>-0.087303</td>\n",
              "      <td>0.053362</td>\n",
              "      <td>-0.051776</td>\n",
              "      <td>1.000000</td>\n",
              "      <td>0.000978</td>\n",
              "    </tr>\n",
              "    <tr>\n",
              "      <th>Month</th>\n",
              "      <td>0.035443</td>\n",
              "      <td>0.033678</td>\n",
              "      <td>0.027330</td>\n",
              "      <td>-0.051356</td>\n",
              "      <td>0.027330</td>\n",
              "      <td>0.027330</td>\n",
              "      <td>0.002299</td>\n",
              "      <td>0.027651</td>\n",
              "      <td>0.019062</td>\n",
              "      <td>0.000978</td>\n",
              "      <td>1.000000</td>\n",
              "    </tr>\n",
              "  </tbody>\n",
              "</table>\n",
              "</div>"
            ],
            "text/plain": [
              "                    Target   market1  ...  u_mom_ch     Month\n",
              "Target            1.000000  0.107354  ... -0.016116  0.035443\n",
              "market1           0.107354  1.000000  ... -0.034579  0.033678\n",
              "market3           0.111570  0.603675  ... -0.063796  0.027330\n",
              "market6           0.076131  0.403794  ... -0.024506 -0.051356\n",
              "market12          0.111570  0.603675  ... -0.063796  0.027330\n",
              "market18          0.111570  0.603675  ... -0.063796  0.027330\n",
              "ipr_mom_ch        0.117401  0.207863  ... -0.087303  0.002299\n",
              "orders_mom_ch     0.009730  0.042343  ...  0.053362  0.027651\n",
              "inventory_mom_ch  0.130585  0.181002  ... -0.051776  0.019062\n",
              "u_mom_ch         -0.016116 -0.034579  ...  1.000000  0.000978\n",
              "Month             0.035443  0.033678  ...  0.000978  1.000000\n",
              "\n",
              "[11 rows x 11 columns]"
            ]
          },
          "metadata": {},
          "execution_count": 213
        }
      ]
    },
    {
      "cell_type": "markdown",
      "metadata": {
        "id": "ZVhS_2pdkPN0"
      },
      "source": [
        "Use rfe to select key independent variables that have higher relevance with the target variable (not adopted)"
      ]
    },
    {
      "cell_type": "code",
      "metadata": {
        "colab": {
          "base_uri": "https://localhost:8080/",
          "height": 71
        },
        "id": "2InLCLGfjRls",
        "outputId": "1ab97e51-d22a-41a7-ecbe-bd4d0e83247c"
      },
      "source": [
        "'''X=df_1.drop(['Target','Month','market1','market3','market6','market12','market18'],axis=1)\n",
        "y=df_1['Target']\n",
        "feature_names=X.columns.values\n",
        "from sklearn.feature_selection import RFE\n",
        "from sklearn.linear_model import LinearRegression\n",
        "rfe = RFE(LinearRegression(), \n",
        "          n_features_to_select=3, # number of feature to retain\n",
        "          step=1 # number of features to eliminate each round\n",
        "         ).fit(X,y)\n",
        "feature_names[rfe.get_support()]'''"
      ],
      "execution_count": null,
      "outputs": [
        {
          "output_type": "execute_result",
          "data": {
            "application/vnd.google.colaboratory.intrinsic+json": {
              "type": "string"
            },
            "text/plain": [
              "\"X=df_1.drop(['Target','Month','market1','market3','market6','market12','market18'],axis=1)\\ny=df_1['Target']\\nfeature_names=X.columns.values\\nfrom sklearn.feature_selection import RFE\\nfrom sklearn.linear_model import LinearRegression\\nrfe = RFE(LinearRegression(), \\n          n_features_to_select=3, # number of feature to retain\\n          step=1 # number of features to eliminate each round\\n         ).fit(X,y)\\nfeature_names[rfe.get_support()]\""
            ]
          },
          "metadata": {},
          "execution_count": 214
        }
      ]
    },
    {
      "cell_type": "code",
      "metadata": {
        "id": "6L9mROp8mZ10"
      },
      "source": [
        "model_exvar=['ipr_mom_ch', 'orders_mom_ch', 'u_mom_ch', 'market1']\n",
        "\n",
        "split_date=pd.Timestamp('2017-01-01')\n",
        "\n",
        "train=df_1.loc[:split_date]\n",
        "y_train=train['Target']\n",
        "X_train=train[model_exvar]\n",
        "\n",
        "test=df_1.loc[(split_date + relativedelta(months = 1)):]\n",
        "y_test=test['Target']\n",
        "X_test=test[model_exvar]"
      ],
      "execution_count": null,
      "outputs": []
    },
    {
      "cell_type": "markdown",
      "metadata": {
        "id": "T5N_ks8s3w-D"
      },
      "source": [
        "Find the best p & q, using aic as criteria"
      ]
    },
    {
      "cell_type": "code",
      "metadata": {
        "colab": {
          "base_uri": "https://localhost:8080/"
        },
        "id": "6C92CywKnIuF",
        "outputId": "81dd730d-ea00-42a3-ff52-ea799f79bf72"
      },
      "source": [
        "results=pm.auto_arima(y_train, seasonal=True, m=12, D=1, information_criterion='aic', exogenous=X_train)\n",
        "print(results.summary())"
      ],
      "execution_count": null,
      "outputs": [
        {
          "output_type": "stream",
          "name": "stdout",
          "text": [
            "                                      SARIMAX Results                                       \n",
            "============================================================================================\n",
            "Dep. Variable:                                    y   No. Observations:                  184\n",
            "Model:             SARIMAX(0, 0, 4)x(1, 1, [1], 12)   Log Likelihood                 233.139\n",
            "Date:                              Tue, 31 Aug 2021   AIC                           -444.277\n",
            "Time:                                      12:36:41   BIC                           -409.655\n",
            "Sample:                                  10-01-2001   HQIC                          -430.230\n",
            "                                       - 01-01-2017                                         \n",
            "Covariance Type:                                opg                                         \n",
            "=================================================================================\n",
            "                    coef    std err          z      P>|z|      [0.025      0.975]\n",
            "---------------------------------------------------------------------------------\n",
            "ipr_mom_ch       -2.9946      3.405     -0.879      0.379      -9.669       3.679\n",
            "orders_mom_ch     0.0211      0.073      0.288      0.773      -0.123       0.165\n",
            "u_mom_ch         -0.0167      0.024     -0.688      0.491      -0.064       0.031\n",
            "market1          -0.0164      0.010     -1.720      0.085      -0.035       0.002\n",
            "ma.L1             0.6613      0.068      9.711      0.000       0.528       0.795\n",
            "ma.L2             0.5654      0.068      8.285      0.000       0.432       0.699\n",
            "ma.L3             0.5096      0.065      7.892      0.000       0.383       0.636\n",
            "ma.L4            -0.1280      0.051     -2.493      0.013      -0.229      -0.027\n",
            "ar.S.L12         -0.5221      0.059     -8.851      0.000      -0.638      -0.406\n",
            "ma.S.L12         -0.6867      0.119     -5.757      0.000      -0.920      -0.453\n",
            "sigma2            0.0034      0.000     10.238      0.000       0.003       0.004\n",
            "===================================================================================\n",
            "Ljung-Box (L1) (Q):                   0.00   Jarque-Bera (JB):               102.26\n",
            "Prob(Q):                              0.97   Prob(JB):                         0.00\n",
            "Heteroskedasticity (H):               0.03   Skew:                             0.50\n",
            "Prob(H) (two-sided):                  0.00   Kurtosis:                         6.64\n",
            "===================================================================================\n",
            "\n",
            "Warnings:\n",
            "[1] Covariance matrix calculated using the outer product of gradients (complex-step).\n"
          ]
        }
      ]
    },
    {
      "cell_type": "code",
      "metadata": {
        "id": "jRc1pUAXoyQH"
      },
      "source": [
        "sar1_model=SARIMAX(y_train, \n",
        "                order=(0,0,4), \n",
        "                seasonal_order=(1,1,[1],12)\n",
        "                , exog=X_train\n",
        "                )"
      ],
      "execution_count": null,
      "outputs": []
    },
    {
      "cell_type": "code",
      "metadata": {
        "colab": {
          "base_uri": "https://localhost:8080/",
          "height": 318
        },
        "id": "Lv_PO4-SpHha",
        "outputId": "e091d43c-3709-4f5b-e7ac-6f10874a70b0"
      },
      "source": [
        "sar1_mod_fit = sar1_model.fit()\n",
        "\n",
        "sar1_pred = sar1_mod_fit.get_prediction(start = y_test.index[0], end = y_test.index[-1], exog = X_test)\n",
        "\n",
        "sar1_pred_mean = sar1_pred.predicted_mean\n",
        "sar1_pred_ci = sar1_pred.conf_int(alpha = 0.5)\n",
        "ax = df_1.Target.plot(label='Actual')\n",
        "sar1_pred_mean.plot(ax=ax, label='Prediction', alpha=.7, figsize=(14, 4))\n",
        "ax.set_xlabel('Date')\n",
        "ax.set_ylabel('Target variable')\n",
        "plt.title('Information Technology 1-Month Ahead Prediction')\n",
        "plt.legend()\n",
        "plt.show()\n",
        "\n",
        "last_date = y_test.dropna().index[-1]\n",
        "\n",
        "#print(\"MAPE:\", round(mape(y_test[y_test.index < last_date], sar1_pred_mean[sar1_pred_mean.index < last_date]), 3))\n",
        "print(\"MAE:\", round(mae(y_test[y_test.index < last_date], sar1_pred_mean[sar1_pred_mean.index < last_date]), 3))"
      ],
      "execution_count": null,
      "outputs": [
        {
          "output_type": "display_data",
          "data": {
            "image/png": "[encoded data removed]",
            "text/plain": [
              "<Figure size 1008x288 with 1 Axes>"
            ]
          },
          "metadata": {}
        },
        {
          "output_type": "stream",
          "name": "stdout",
          "text": [
            "MAE: 0.011\n"
          ]
        }
      ]
    },
    {
      "cell_type": "code",
      "metadata": {
        "colab": {
          "base_uri": "https://localhost:8080/",
          "height": 410
        },
        "id": "WNU_6f-A6HQD",
        "outputId": "3870f9f9-d910-4212-dd9d-2f264517995f"
      },
      "source": [
        "first_date = y_test.index[0]\n",
        "last_date = y_test.dropna().index[-1]\n",
        "\n",
        "\n",
        "fig, ax = plt.subplots(figsize=(8, 6))\n",
        "ax.plot(df_1[df_1.index >= first_date].index, df_1[df_1.index >= first_date].Target, label = 'Actual')\n",
        "ax.plot(sar1_pred_mean.index, sar1_pred_mean, label='Prediction', alpha=.7)\n",
        "ax.set_xlabel('Date')\n",
        "ax.set_ylabel('Target variable')\n",
        "plt.title('Information Technology 1-Month Ahead Prediction')\n",
        "plt.legend()\n",
        "plt.show()"
      ],
      "execution_count": null,
      "outputs": [
        {
          "output_type": "display_data",
          "data": {
            "image/png": "[encoded data removed]",
            "text/plain": [
              "<Figure size 576x432 with 1 Axes>"
            ]
          },
          "metadata": {}
        }
      ]
    },
    {
      "cell_type": "markdown",
      "metadata": {
        "id": "A7XSrtY92CHQ"
      },
      "source": [
        "Performance Matrix"
      ]
    },
    {
      "cell_type": "markdown",
      "metadata": {
        "id": "chHKzRM46GNx"
      },
      "source": [
        "## SARIMAX Model 3 Month Horizon"
      ]
    },
    {
      "cell_type": "code",
      "metadata": {
        "id": "KsW4I9Ae62RV"
      },
      "source": [
        "model_exvar=['ipr_mom_ch', 'orders_mom_ch', 'u_mom_ch', 'market3']\n",
        "\n",
        "split_date=pd.Timestamp('2017-01-01')\n",
        "\n",
        "train=df_3.loc[:split_date]\n",
        "y_train=train['Target']\n",
        "X_train=train[model_exvar]\n",
        "\n",
        "test=df_3.loc[(split_date + relativedelta(months = 1)):]\n",
        "y_test=test['Target']\n",
        "X_test=test[model_exvar]"
      ],
      "execution_count": null,
      "outputs": []
    },
    {
      "cell_type": "markdown",
      "metadata": {
        "id": "DisqbD4V62RW"
      },
      "source": [
        "Find the best p & q, using aic as criteria"
      ]
    },
    {
      "cell_type": "code",
      "metadata": {
        "id": "Z-MxQCp562RW"
      },
      "source": [
        "#results=pm.auto_arima(y_train, seasonal=True, m=12, D=1, information_criterion='aic', exogenous=X_train)\n",
        "#print(results.summary())"
      ],
      "execution_count": null,
      "outputs": []
    },
    {
      "cell_type": "code",
      "metadata": {
        "id": "2kYxi5pg62RX"
      },
      "source": [
        "sar3_model=SARIMAX(y_train, \n",
        "                order=(0,0,3), \n",
        "                seasonal_order=(0,1,[1, 2],12)\n",
        "                , exog=X_train\n",
        "                )"
      ],
      "execution_count": null,
      "outputs": []
    },
    {
      "cell_type": "code",
      "metadata": {
        "colab": {
          "base_uri": "https://localhost:8080/",
          "height": 318
        },
        "id": "wiNf_2bI62RY",
        "outputId": "c27d28ea-1840-4b02-84ea-3ab478ccb3dc"
      },
      "source": [
        "sar3_mod_fit = sar3_model.fit()\n",
        "\n",
        "sar3_pred = sar3_mod_fit.get_prediction(start = y_test.index[0], end = y_test.index[-1], exog = X_test)\n",
        "sar3_pred_mean = sar3_pred.predicted_mean\n",
        "sar3_pred_ci = sar3_pred.conf_int()\n",
        "ax = df_3.Target.plot(label='Actual')\n",
        "sar3_pred_mean.plot(ax=ax, label='Prediction', alpha=.7, figsize=(14, 4))\n",
        "ax.set_xlabel('Date')\n",
        "ax.set_ylabel('Target variable')\n",
        "plt.title('Consumer Discretionary 3-Months Ahead Prediction')\n",
        "plt.legend()\n",
        "plt.show()\n",
        "\n",
        "last_date = y_test.dropna().index[-1]\n",
        "\n",
        "#print(\"MAPE:\", round(mape(y_test[y_test.index < last_date], sar3_pred_mean[sar3_pred_mean.index < last_date]), 3))\n",
        "print(\"MAE:\", round(mae(y_test[y_test.index < last_date], sar3_pred_mean[sar3_pred_mean.index < last_date]), 3))"
      ],
      "execution_count": null,
      "outputs": [
        {
          "output_type": "display_data",
          "data": {
            "image/png": "[encoded data removed]",
            "text/plain": [
              "<Figure size 1008x288 with 1 Axes>"
            ]
          },
          "metadata": {}
        },
        {
          "output_type": "stream",
          "name": "stdout",
          "text": [
            "MAE: 0.01\n"
          ]
        }
      ]
    },
    {
      "cell_type": "markdown",
      "metadata": {
        "id": "ILaAhtbn62RY"
      },
      "source": [
        "Performance Matrix"
      ]
    },
    {
      "cell_type": "markdown",
      "metadata": {
        "id": "nMAlQghY32_P"
      },
      "source": [
        "## SARIMAX Model 6 month horizon"
      ]
    },
    {
      "cell_type": "code",
      "metadata": {
        "id": "-c0G9uId32_T"
      },
      "source": [
        "model_exvar=['ipr_mom_ch', 'orders_mom_ch', 'u_mom_ch', 'market6']\n",
        "\n",
        "split_date=pd.Timestamp('2017-01-01')\n",
        "\n",
        "train=df_6.loc[:split_date]\n",
        "y_train=train['Target']\n",
        "X_train=train[model_exvar]\n",
        "\n",
        "test=df_6.loc[(split_date + relativedelta(months = 1)):]\n",
        "y_test=test['Target']\n",
        "X_test=test[model_exvar]"
      ],
      "execution_count": null,
      "outputs": []
    },
    {
      "cell_type": "markdown",
      "metadata": {
        "id": "ZNTo35Wq32_U"
      },
      "source": [
        "Find the best p & q, using aic as criteria"
      ]
    },
    {
      "cell_type": "code",
      "metadata": {
        "id": "iWs9DZs832_V"
      },
      "source": [
        "#results=pm.auto_arima(y_train, seasonal=True, m=12, D=1, information_criterion='aic', exogenous=X_train)\n",
        "#print(results.summary())"
      ],
      "execution_count": null,
      "outputs": []
    },
    {
      "cell_type": "code",
      "metadata": {
        "id": "B3ZuWkpV32_W"
      },
      "source": [
        "sar6_model=SARIMAX(y_train, \n",
        "                order=(1,0,0), \n",
        "                seasonal_order=(0,1,[1,2],12)\n",
        "                , exog=X_train\n",
        "                )"
      ],
      "execution_count": null,
      "outputs": []
    },
    {
      "cell_type": "code",
      "metadata": {
        "colab": {
          "base_uri": "https://localhost:8080/",
          "height": 318
        },
        "id": "Rt941i7332_W",
        "outputId": "66a93e96-6293-4fef-aded-c304fc5fa485"
      },
      "source": [
        "sar6_mod_fit = sar6_model.fit()\n",
        "\n",
        "sar6_pred = sar6_mod_fit.get_prediction(start = y_test.index[0], end = y_test.index[-1], exog = X_test)\n",
        "sar6_pred_mean = sar6_pred.predicted_mean\n",
        "sar6_pred_ci = sar6_pred.conf_int()\n",
        "ax = df_6.Target.plot(label='Actual')\n",
        "sar6_pred_mean.plot(ax=ax, label='Prediction', alpha=.7, figsize=(8, 4))\n",
        "ax.set_xlabel('Date')\n",
        "ax.set_ylabel('Target variable')\n",
        "plt.title('IT Industry 6-Months Ahead Prediction')\n",
        "plt.legend()\n",
        "plt.show()\n",
        "\n",
        "last_date = y_test.dropna().index[-1]\n",
        "\n",
        "#print(\"MAPE:\", round(mape(y_test[y_test.index < last_date], sar6_pred_mean[sar6_pred_mean.index < last_date]), 3))\n",
        "print(\"MAE:\", round(mae(y_test[y_test.index < last_date], sar6_pred_mean[sar6_pred_mean.index < last_date]), 3))"
      ],
      "execution_count": null,
      "outputs": [
        {
          "output_type": "display_data",
          "data": {
            "image/png": "[encoded data removed]",
            "text/plain": [
              "<Figure size 576x288 with 1 Axes>"
            ]
          },
          "metadata": {}
        },
        {
          "output_type": "stream",
          "name": "stdout",
          "text": [
            "MAE: 0.009\n"
          ]
        }
      ]
    },
    {
      "cell_type": "markdown",
      "metadata": {
        "id": "pR5URaE1y9-P"
      },
      "source": [
        "## SARIMAX Model 12 month horizon"
      ]
    },
    {
      "cell_type": "code",
      "metadata": {
        "id": "Ugr3Nen_zLFq"
      },
      "source": [
        "model_exvar=['ipr_mom_ch', 'orders_mom_ch', 'u_mom_ch', 'market12']\n",
        "\n",
        "split_date=pd.Timestamp('2017-01-01')\n",
        "\n",
        "train=df_12.loc[:split_date]\n",
        "y_train=train['Target']\n",
        "X_train=train[model_exvar]\n",
        "\n",
        "test=df_12.loc[(split_date + relativedelta(months = 1)):]\n",
        "y_test=test['Target']\n",
        "X_test=test[model_exvar]"
      ],
      "execution_count": null,
      "outputs": []
    },
    {
      "cell_type": "markdown",
      "metadata": {
        "id": "zrtxU1DazLFs"
      },
      "source": [
        "Find the best p & q, using aic as criteria"
      ]
    },
    {
      "cell_type": "code",
      "metadata": {
        "id": "-ewu7pgWzLFt"
      },
      "source": [
        "#results=pm.auto_arima(y_train, seasonal=True, m=12, D=1, information_criterion='aic', exogenous=X_train)\n",
        "#print(results.summary())"
      ],
      "execution_count": null,
      "outputs": []
    },
    {
      "cell_type": "code",
      "metadata": {
        "id": "4IKGEuCPzLFt"
      },
      "source": [
        "sar12_model=SARIMAX(y_train, \n",
        "                order=(0,0,1), \n",
        "                seasonal_order=(0,1,1,12)\n",
        "                , exog=X_train\n",
        "                )"
      ],
      "execution_count": null,
      "outputs": []
    },
    {
      "cell_type": "code",
      "metadata": {
        "colab": {
          "base_uri": "https://localhost:8080/",
          "height": 318
        },
        "id": "ZskVoU6TzLFu",
        "outputId": "e7495515-2407-44a9-f9ce-004991c85895"
      },
      "source": [
        "sar12_mod_fit = sar12_model.fit()\n",
        "sar12_pred = sar12_mod_fit.get_prediction(start = y_test.index[0], end = y_test.index[-1], exog = X_test)\n",
        "sar12_pred_mean = sar12_pred.predicted_mean\n",
        "sar12_pred_ci = sar12_pred.conf_int()\n",
        "ax = df_12.Target.plot(label='Actual')\n",
        "sar12_pred_mean.plot(ax=ax, label='Prediction', alpha=.7, figsize=(14, 4))\n",
        "ax.set_xlabel('Date')\n",
        "ax.set_ylabel('Target variable')\n",
        "plt.title('Information Technology 12-Months Ahead Prediction')\n",
        "plt.legend()\n",
        "plt.show()\n",
        "\n",
        "last_date = y_test.dropna().index[-1]\n",
        "\n",
        "#print(\"MAPE:\", round(mape(y_test[y_test.index < last_date], sar12_pred_mean[sar12_pred_mean.index < last_date]), 3))\n",
        "print(\"MAE:\", round(mae(y_test[y_test.index < last_date], sar12_pred_mean[sar12_pred_mean.index < last_date]), 3))"
      ],
      "execution_count": null,
      "outputs": [
        {
          "output_type": "display_data",
          "data": {
            "image/png": "[encoded data removed]",
            "text/plain": [
              "<Figure size 1008x288 with 1 Axes>"
            ]
          },
          "metadata": {}
        },
        {
          "output_type": "stream",
          "name": "stdout",
          "text": [
            "MAE: 0.009\n"
          ]
        }
      ]
    },
    {
      "cell_type": "code",
      "metadata": {
        "colab": {
          "base_uri": "https://localhost:8080/",
          "height": 410
        },
        "id": "0aocUCHEE5Xu",
        "outputId": "1401054e-9bf9-4696-8ca9-95734658ec77"
      },
      "source": [
        "first_date = y_test.index[0]\n",
        "last_date = y_test.dropna().index[-1]\n",
        "\n",
        "\n",
        "fig, ax = plt.subplots(figsize=(8, 6))\n",
        "ax.plot(df_12[df_12.index >= first_date].index, df_12[df_12.index >= first_date].Target, label = 'Actual')\n",
        "ax.plot(sar12_pred_mean.index, sar12_pred_mean, label='Prediction', alpha=.7)\n",
        "ax.set_xlabel('Date')\n",
        "ax.set_ylabel('Target variable')\n",
        "plt.title('Information Technology 12-Month Ahead Prediction')\n",
        "plt.legend()\n",
        "plt.show()"
      ],
      "execution_count": null,
      "outputs": [
        {
          "output_type": "display_data",
          "data": {
            "image/png": "[encoded data removed]",
            "text/plain": [
              "<Figure size 576x432 with 1 Axes>"
            ]
          },
          "metadata": {}
        }
      ]
    },
    {
      "cell_type": "markdown",
      "metadata": {
        "id": "dCAEUmVb2A07"
      },
      "source": [
        "## SARIMAX Model 18 month horizon"
      ]
    },
    {
      "cell_type": "code",
      "metadata": {
        "id": "BpdgCMFQ2CMP"
      },
      "source": [
        "model_exvar=['ipr_mom_ch', 'orders_mom_ch', 'u_mom_ch', 'market18']\n",
        "\n",
        "split_date=pd.Timestamp('2017-01-01')\n",
        "\n",
        "train=df_18.loc[:split_date]\n",
        "y_train=train['Target']\n",
        "X_train=train[model_exvar]\n",
        "\n",
        "test=df_18.loc[(split_date + relativedelta(months = 1)):]\n",
        "y_test=test['Target']\n",
        "X_test=test[model_exvar]"
      ],
      "execution_count": null,
      "outputs": []
    },
    {
      "cell_type": "markdown",
      "metadata": {
        "id": "vRgMbZtz2CMQ"
      },
      "source": [
        "Find the best p & q, using aic as criteria"
      ]
    },
    {
      "cell_type": "code",
      "metadata": {
        "id": "7eRCTbbj2CMQ"
      },
      "source": [
        "#results=pm.auto_arima(y_train, seasonal=True, m=12, D=1, information_criterion='aic', exogenous=X_train)\n",
        "#print(results.summary())"
      ],
      "execution_count": null,
      "outputs": []
    },
    {
      "cell_type": "code",
      "metadata": {
        "id": "BOwqNngh2CMR"
      },
      "source": [
        "sar18_model=SARIMAX(y_train, \n",
        "                order=(3,0,0), \n",
        "                seasonal_order=(2,1,[1,2],12)\n",
        "                , exog=X_train\n",
        "                )"
      ],
      "execution_count": null,
      "outputs": []
    },
    {
      "cell_type": "code",
      "metadata": {
        "colab": {
          "base_uri": "https://localhost:8080/",
          "height": 318
        },
        "id": "xtffjAfF2CMR",
        "outputId": "aff172dc-ae78-46a4-deef-891af394e79c"
      },
      "source": [
        "sar18_mod_fit = sar18_model.fit()\n",
        "sar18_pred = sar18_mod_fit.get_prediction(start = y_test.index[0], end = y_test.index[-1], exog = X_test)\n",
        "sar18_pred_mean = sar18_pred.predicted_mean\n",
        "sar18_pred_ci = sar18_pred.conf_int()\n",
        "ax = df_18.Target.plot(label='Actual')\n",
        "sar18_pred_mean.plot(ax=ax, label='Prediction', alpha=.7, figsize=(14, 4))\n",
        "ax.set_xlabel('Date')\n",
        "ax.set_ylabel('Target variable')\n",
        "plt.title('Information Technology 18-Months Ahead Prediction')\n",
        "plt.legend()\n",
        "plt.show()\n",
        "\n",
        "last_date = y_test.dropna().index[-1]\n",
        "\n",
        "#print(\"MAPE:\", round(mape(y_test[y_test.index < last_date], sar18_pred_mean[sar18_pred_mean.index < last_date]), 3))\n",
        "print(\"MAE:\", round(mae(y_test[y_test.index < last_date], sar18_pred_mean[sar18_pred_mean.index < last_date]), 3))"
      ],
      "execution_count": null,
      "outputs": [
        {
          "output_type": "display_data",
          "data": {
            "image/png": "[encoded data removed]",
            "text/plain": [
              "<Figure size 1008x288 with 1 Axes>"
            ]
          },
          "metadata": {}
        },
        {
          "output_type": "stream",
          "name": "stdout",
          "text": [
            "MAE: 0.009\n"
          ]
        }
      ]
    },
    {
      "cell_type": "code",
      "metadata": {
        "colab": {
          "base_uri": "https://localhost:8080/",
          "height": 410
        },
        "id": "PA5pJmSmFTMv",
        "outputId": "59e85e23-59b4-4515-d373-138b22b98244"
      },
      "source": [
        "first_date = y_test.index[0]\n",
        "last_date = y_test.dropna().index[-1]\n",
        "\n",
        "\n",
        "fig, ax = plt.subplots(figsize=(8, 6))\n",
        "ax.plot(df_18[df_18.index >= first_date].index, df_18[df_18.index >= first_date].Target, label = 'Actual')\n",
        "ax.plot(sar18_pred_mean.index, sar18_pred_mean, label='Prediction', alpha=.7)\n",
        "ax.set_xlabel('Date')\n",
        "ax.set_ylabel('Target variable')\n",
        "plt.title('Information Technology 18-Month Ahead Prediction')\n",
        "plt.legend()\n",
        "plt.show()"
      ],
      "execution_count": null,
      "outputs": [
        {
          "output_type": "display_data",
          "data": {
            "image/png": "[encoded data removed]",
            "text/plain": [
              "<Figure size 576x432 with 1 Axes>"
            ]
          },
          "metadata": {}
        }
      ]
    },
    {
      "cell_type": "markdown",
      "metadata": {
        "id": "iBpL072x4Q1k"
      },
      "source": [
        "## Future Forecast"
      ]
    },
    {
      "cell_type": "code",
      "metadata": {
        "id": "fXHU7__m4Q1k"
      },
      "source": [
        "pred18 = pd.DataFrame(sar18_pred_mean).rename(columns = {'predicted_mean' : 'pred18'})\n",
        "pred18.index = pred18.index.rename('Date')\n",
        "pred12 = pd.DataFrame(sar12_pred_mean).rename(columns = {'predicted_mean' : 'pred12'})\n",
        "pred12.index = pred12.index.rename('Date')\n",
        "pred1 = pd.DataFrame(sar1_pred_mean).rename(columns = {'predicted_mean' : 'pred1'})\n",
        "pred1.index = pred1.index.rename('Date')"
      ],
      "execution_count": null,
      "outputs": []
    },
    {
      "cell_type": "code",
      "metadata": {
        "id": "paBJT4Nz4Q1k"
      },
      "source": [
        "pred_joined = pred18.join(pred12).join(pred1)\n",
        "#pred_joined"
      ],
      "execution_count": null,
      "outputs": []
    },
    {
      "cell_type": "code",
      "metadata": {
        "id": "wsM3dg0K4Q1l"
      },
      "source": [
        "pred_joined['combined_pred'] = pred_joined.pred1.fillna(pred_joined.pred12).fillna(pred_joined.pred18)\n",
        "#pred_joined"
      ],
      "execution_count": null,
      "outputs": []
    },
    {
      "cell_type": "code",
      "metadata": {
        "id": "pUTsLl0U4Q1l",
        "colab": {
          "base_uri": "https://localhost:8080/",
          "height": 424
        },
        "outputId": "a7becd85-2859-4ca9-e227-52abc88ee528"
      },
      "source": [
        "from matplotlib.dates import DateFormatter\n",
        "import matplotlib.dates as mdates\n",
        "\n",
        "# plot inputs\n",
        "fig, ax = plt.subplots(figsize=(16, 6))\n",
        "ax.plot(df_18.index, df_18.Target, label = 'Actual')\n",
        "ax.plot(pred_joined.index, pred_joined.combined_pred, label='Prediction', alpha=.7)\n",
        "ax.axvline(df_18.dropna().index[-1], c = 'lightgrey', linestyle = '--')\n",
        "\n",
        "# format the axes\n",
        "ax.xaxis.set_major_formatter(DateFormatter(\"%Y\")) \n",
        "ax.xaxis.set_major_locator(mdates.MonthLocator(interval = 12))\n",
        "\n",
        "ax.yaxis.set_ticks_position('both')\n",
        "ax.tick_params(length = 5, axis = 'both', labelright = True, direction = 'out')\n",
        "\n",
        "ax.margins(x=0) # remove whitespace\n",
        "\n",
        "# labels\n",
        "ax.set(xlabel = 'Date', ylabel = 'Target variable', \n",
        "       title = 'Information Technology Sector\\n18-Month Forecast')\n",
        "\n",
        "plt.legend()\n",
        "plt.show()"
      ],
      "execution_count": null,
      "outputs": [
        {
          "output_type": "display_data",
          "data": {
            "image/png": "[encoded data removed]",
            "text/plain": [
              "<Figure size 1152x432 with 1 Axes>"
            ]
          },
          "metadata": {}
        }
      ]
    }
  ]
}