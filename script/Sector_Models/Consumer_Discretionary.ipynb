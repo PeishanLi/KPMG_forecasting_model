{
 "cells": [
  {
   "cell_type": "markdown",
   "metadata": {},
   "source": [
    "## Consumer Discretionary Model"
   ]
  },
  {
   "cell_type": "code",
   "execution_count": 49,
   "metadata": {},
   "outputs": [],
   "source": [
    "import pandas as pd\n",
    "from matplotlib import pyplot as plt\n",
    "import numpy as np\n",
    "import quandl\n",
    "from sklearn.metrics import mean_absolute_percentage_error as mape, mean_absolute_error as mae"
   ]
  },
  {
   "cell_type": "markdown",
   "metadata": {},
   "source": [
    "### Load target variable data"
   ]
  },
  {
   "cell_type": "code",
   "execution_count": 2,
   "metadata": {},
   "outputs": [
    {
     "data": {
      "text/html": [
       "<div>\n",
       "<style scoped>\n",
       "    .dataframe tbody tr th:only-of-type {\n",
       "        vertical-align: middle;\n",
       "    }\n",
       "\n",
       "    .dataframe tbody tr th {\n",
       "        vertical-align: top;\n",
       "    }\n",
       "\n",
       "    .dataframe thead th {\n",
       "        text-align: right;\n",
       "    }\n",
       "</style>\n",
       "<table border=\"1\" class=\"dataframe\">\n",
       "  <thead>\n",
       "    <tr style=\"text-align: right;\">\n",
       "      <th></th>\n",
       "      <th>Dates</th>\n",
       "      <th>S&amp;P 500 Consumer Discretionary (Sector) (^SP500-25) - P/Normalized EPS</th>\n",
       "    </tr>\n",
       "  </thead>\n",
       "  <tbody>\n",
       "    <tr>\n",
       "      <th>0</th>\n",
       "      <td>Aug-21-2001</td>\n",
       "      <td>31.70x</td>\n",
       "    </tr>\n",
       "    <tr>\n",
       "      <th>1</th>\n",
       "      <td>Aug-22-2001</td>\n",
       "      <td>31.80x</td>\n",
       "    </tr>\n",
       "    <tr>\n",
       "      <th>2</th>\n",
       "      <td>Aug-23-2001</td>\n",
       "      <td>31.69x</td>\n",
       "    </tr>\n",
       "    <tr>\n",
       "      <th>3</th>\n",
       "      <td>Aug-24-2001</td>\n",
       "      <td>32.48x</td>\n",
       "    </tr>\n",
       "    <tr>\n",
       "      <th>4</th>\n",
       "      <td>Aug-27-2001</td>\n",
       "      <td>32.17x</td>\n",
       "    </tr>\n",
       "  </tbody>\n",
       "</table>\n",
       "</div>"
      ],
      "text/plain": [
       "         Dates  \\\n",
       "0  Aug-21-2001   \n",
       "1  Aug-22-2001   \n",
       "2  Aug-23-2001   \n",
       "3  Aug-24-2001   \n",
       "4  Aug-27-2001   \n",
       "\n",
       "  S&P 500 Consumer Discretionary (Sector) (^SP500-25) - P/Normalized EPS  \n",
       "0                                             31.70x                      \n",
       "1                                             31.80x                      \n",
       "2                                             31.69x                      \n",
       "3                                             32.48x                      \n",
       "4                                             32.17x                      "
      ]
     },
     "execution_count": 2,
     "metadata": {},
     "output_type": "execute_result"
    }
   ],
   "source": [
    "# Load P/E ratio -- data manually downloaded from Capital IQ\n",
    "pe_ratio = pd.read_csv('../../data/raw/con_disc_pe_ratio.csv')\n",
    "pe_ratio.head()"
   ]
  },
  {
   "cell_type": "code",
   "execution_count": 3,
   "metadata": {},
   "outputs": [
    {
     "data": {
      "text/html": [
       "<div>\n",
       "<style scoped>\n",
       "    .dataframe tbody tr th:only-of-type {\n",
       "        vertical-align: middle;\n",
       "    }\n",
       "\n",
       "    .dataframe tbody tr th {\n",
       "        vertical-align: top;\n",
       "    }\n",
       "\n",
       "    .dataframe thead th {\n",
       "        text-align: right;\n",
       "    }\n",
       "</style>\n",
       "<table border=\"1\" class=\"dataframe\">\n",
       "  <thead>\n",
       "    <tr style=\"text-align: right;\">\n",
       "      <th></th>\n",
       "      <th>Dates</th>\n",
       "      <th>S&amp;P 500 Consumer Discretionary (Sector) (^SP500-25) - Index Value</th>\n",
       "    </tr>\n",
       "  </thead>\n",
       "  <tbody>\n",
       "    <tr>\n",
       "      <th>0</th>\n",
       "      <td>Sep-11-1989</td>\n",
       "      <td>77.33</td>\n",
       "    </tr>\n",
       "    <tr>\n",
       "      <th>1</th>\n",
       "      <td>Sep-12-1989</td>\n",
       "      <td>77.33</td>\n",
       "    </tr>\n",
       "    <tr>\n",
       "      <th>2</th>\n",
       "      <td>Sep-13-1989</td>\n",
       "      <td>76.32</td>\n",
       "    </tr>\n",
       "    <tr>\n",
       "      <th>3</th>\n",
       "      <td>Sep-14-1989</td>\n",
       "      <td>75.53</td>\n",
       "    </tr>\n",
       "    <tr>\n",
       "      <th>4</th>\n",
       "      <td>Sep-15-1989</td>\n",
       "      <td>75.66</td>\n",
       "    </tr>\n",
       "  </tbody>\n",
       "</table>\n",
       "</div>"
      ],
      "text/plain": [
       "         Dates  \\\n",
       "0  Sep-11-1989   \n",
       "1  Sep-12-1989   \n",
       "2  Sep-13-1989   \n",
       "3  Sep-14-1989   \n",
       "4  Sep-15-1989   \n",
       "\n",
       "   S&P 500 Consumer Discretionary (Sector) (^SP500-25) - Index Value  \n",
       "0                                              77.33                  \n",
       "1                                              77.33                  \n",
       "2                                              76.32                  \n",
       "3                                              75.53                  \n",
       "4                                              75.66                  "
      ]
     },
     "execution_count": 3,
     "metadata": {},
     "output_type": "execute_result"
    }
   ],
   "source": [
    "# load consumer discretionary index price -- also from Capital IQ\n",
    "price = pd.read_csv('../../data/raw/con_disc_price.csv')\n",
    "price.head()"
   ]
  },
  {
   "cell_type": "code",
   "execution_count": 4,
   "metadata": {},
   "outputs": [
    {
     "data": {
      "text/html": [
       "<div>\n",
       "<style scoped>\n",
       "    .dataframe tbody tr th:only-of-type {\n",
       "        vertical-align: middle;\n",
       "    }\n",
       "\n",
       "    .dataframe tbody tr th {\n",
       "        vertical-align: top;\n",
       "    }\n",
       "\n",
       "    .dataframe thead th {\n",
       "        text-align: right;\n",
       "    }\n",
       "</style>\n",
       "<table border=\"1\" class=\"dataframe\">\n",
       "  <thead>\n",
       "    <tr style=\"text-align: right;\">\n",
       "      <th></th>\n",
       "      <th>Value</th>\n",
       "    </tr>\n",
       "    <tr>\n",
       "      <th>Date</th>\n",
       "      <th></th>\n",
       "    </tr>\n",
       "  </thead>\n",
       "  <tbody>\n",
       "    <tr>\n",
       "      <th>1962-01-02</th>\n",
       "      <td>4.06</td>\n",
       "    </tr>\n",
       "    <tr>\n",
       "      <th>1962-01-03</th>\n",
       "      <td>4.03</td>\n",
       "    </tr>\n",
       "    <tr>\n",
       "      <th>1962-01-04</th>\n",
       "      <td>3.99</td>\n",
       "    </tr>\n",
       "    <tr>\n",
       "      <th>1962-01-05</th>\n",
       "      <td>4.02</td>\n",
       "    </tr>\n",
       "    <tr>\n",
       "      <th>1962-01-08</th>\n",
       "      <td>4.03</td>\n",
       "    </tr>\n",
       "  </tbody>\n",
       "</table>\n",
       "</div>"
      ],
      "text/plain": [
       "            Value\n",
       "Date             \n",
       "1962-01-02   4.06\n",
       "1962-01-03   4.03\n",
       "1962-01-04   3.99\n",
       "1962-01-05   4.02\n",
       "1962-01-08   4.03"
      ]
     },
     "execution_count": 4,
     "metadata": {},
     "output_type": "execute_result"
    }
   ],
   "source": [
    "# load 10 year treasury rate\n",
    "treasury = quandl.get(\"FRED/DGS10\")\n",
    "treasury.head()"
   ]
  },
  {
   "cell_type": "markdown",
   "metadata": {},
   "source": [
    "### Transform"
   ]
  },
  {
   "cell_type": "code",
   "execution_count": 5,
   "metadata": {},
   "outputs": [
    {
     "data": {
      "text/html": [
       "<div>\n",
       "<style scoped>\n",
       "    .dataframe tbody tr th:only-of-type {\n",
       "        vertical-align: middle;\n",
       "    }\n",
       "\n",
       "    .dataframe tbody tr th {\n",
       "        vertical-align: top;\n",
       "    }\n",
       "\n",
       "    .dataframe thead th {\n",
       "        text-align: right;\n",
       "    }\n",
       "</style>\n",
       "<table border=\"1\" class=\"dataframe\">\n",
       "  <thead>\n",
       "    <tr style=\"text-align: right;\">\n",
       "      <th></th>\n",
       "      <th>PE</th>\n",
       "    </tr>\n",
       "    <tr>\n",
       "      <th>Date</th>\n",
       "      <th></th>\n",
       "    </tr>\n",
       "  </thead>\n",
       "  <tbody>\n",
       "    <tr>\n",
       "      <th>2001-08-21</th>\n",
       "      <td>31.70</td>\n",
       "    </tr>\n",
       "    <tr>\n",
       "      <th>2001-08-22</th>\n",
       "      <td>31.80</td>\n",
       "    </tr>\n",
       "    <tr>\n",
       "      <th>2001-08-23</th>\n",
       "      <td>31.69</td>\n",
       "    </tr>\n",
       "    <tr>\n",
       "      <th>2001-08-24</th>\n",
       "      <td>32.48</td>\n",
       "    </tr>\n",
       "    <tr>\n",
       "      <th>2001-08-27</th>\n",
       "      <td>32.17</td>\n",
       "    </tr>\n",
       "  </tbody>\n",
       "</table>\n",
       "</div>"
      ],
      "text/plain": [
       "               PE\n",
       "Date             \n",
       "2001-08-21  31.70\n",
       "2001-08-22  31.80\n",
       "2001-08-23  31.69\n",
       "2001-08-24  32.48\n",
       "2001-08-27  32.17"
      ]
     },
     "execution_count": 5,
     "metadata": {},
     "output_type": "execute_result"
    }
   ],
   "source": [
    "# rename, change type\n",
    "pe_ratio = pe_ratio.rename(columns = {\"Dates\": \"Date\", \"S&P 500 Consumer Discretionary (Sector) (^SP500-25) - P/Normalized EPS\" : \"PE\"})\n",
    "pe_ratio['Date'] = pd.to_datetime(pe_ratio['Date'])\n",
    "pe_ratio = pe_ratio.set_index('Date')\n",
    "\n",
    "pe_ratio['PE'] = pe_ratio['PE'].str.rstrip('x')\n",
    "pe_ratio['PE'] = pd.to_numeric(pe_ratio['PE'])\n",
    "pe_ratio.head()"
   ]
  },
  {
   "cell_type": "code",
   "execution_count": 6,
   "metadata": {},
   "outputs": [
    {
     "data": {
      "text/plain": [
       "[<matplotlib.lines.Line2D at 0x2226b52ca90>]"
      ]
     },
     "execution_count": 6,
     "metadata": {},
     "output_type": "execute_result"
    },
    {
     "data": {
      "image/png": "[encoded data removed]",
      "text/plain": [
       "<Figure size 432x288 with 1 Axes>"
      ]
     },
     "metadata": {
      "needs_background": "light"
     },
     "output_type": "display_data"
    }
   ],
   "source": [
    "plt.plot(pe_ratio.PE)"
   ]
  },
  {
   "cell_type": "code",
   "execution_count": 7,
   "metadata": {},
   "outputs": [
    {
     "data": {
      "text/html": [
       "<div>\n",
       "<style scoped>\n",
       "    .dataframe tbody tr th:only-of-type {\n",
       "        vertical-align: middle;\n",
       "    }\n",
       "\n",
       "    .dataframe tbody tr th {\n",
       "        vertical-align: top;\n",
       "    }\n",
       "\n",
       "    .dataframe thead th {\n",
       "        text-align: right;\n",
       "    }\n",
       "</style>\n",
       "<table border=\"1\" class=\"dataframe\">\n",
       "  <thead>\n",
       "    <tr style=\"text-align: right;\">\n",
       "      <th></th>\n",
       "      <th>Price</th>\n",
       "    </tr>\n",
       "    <tr>\n",
       "      <th>Date</th>\n",
       "      <th></th>\n",
       "    </tr>\n",
       "  </thead>\n",
       "  <tbody>\n",
       "    <tr>\n",
       "      <th>1989-09-11</th>\n",
       "      <td>77.33</td>\n",
       "    </tr>\n",
       "    <tr>\n",
       "      <th>1989-09-12</th>\n",
       "      <td>77.33</td>\n",
       "    </tr>\n",
       "    <tr>\n",
       "      <th>1989-09-13</th>\n",
       "      <td>76.32</td>\n",
       "    </tr>\n",
       "    <tr>\n",
       "      <th>1989-09-14</th>\n",
       "      <td>75.53</td>\n",
       "    </tr>\n",
       "    <tr>\n",
       "      <th>1989-09-15</th>\n",
       "      <td>75.66</td>\n",
       "    </tr>\n",
       "  </tbody>\n",
       "</table>\n",
       "</div>"
      ],
      "text/plain": [
       "            Price\n",
       "Date             \n",
       "1989-09-11  77.33\n",
       "1989-09-12  77.33\n",
       "1989-09-13  76.32\n",
       "1989-09-14  75.53\n",
       "1989-09-15  75.66"
      ]
     },
     "execution_count": 7,
     "metadata": {},
     "output_type": "execute_result"
    }
   ],
   "source": [
    "# rename, change type\n",
    "price = price.rename(columns = {\"Dates\": \"Date\", \"S&P 500 Consumer Discretionary (Sector) (^SP500-25) - Index Value\" : \"Price\"})\n",
    "price['Date'] = pd.to_datetime(price['Date'])\n",
    "price = price.set_index('Date')\n",
    "\n",
    "price.head()"
   ]
  },
  {
   "cell_type": "code",
   "execution_count": 8,
   "metadata": {},
   "outputs": [
    {
     "data": {
      "text/plain": [
       "[<matplotlib.lines.Line2D at 0x2226b5bc6a0>]"
      ]
     },
     "execution_count": 8,
     "metadata": {},
     "output_type": "execute_result"
    },
    {
     "data": {
      "image/png": "[encoded data removed]",
      "text/plain": [
       "<Figure size 432x288 with 1 Axes>"
      ]
     },
     "metadata": {
      "needs_background": "light"
     },
     "output_type": "display_data"
    }
   ],
   "source": [
    "plt.plot(price.Price)"
   ]
  },
  {
   "cell_type": "code",
   "execution_count": 9,
   "metadata": {},
   "outputs": [
    {
     "data": {
      "text/html": [
       "<div>\n",
       "<style scoped>\n",
       "    .dataframe tbody tr th:only-of-type {\n",
       "        vertical-align: middle;\n",
       "    }\n",
       "\n",
       "    .dataframe tbody tr th {\n",
       "        vertical-align: top;\n",
       "    }\n",
       "\n",
       "    .dataframe thead th {\n",
       "        text-align: right;\n",
       "    }\n",
       "</style>\n",
       "<table border=\"1\" class=\"dataframe\">\n",
       "  <thead>\n",
       "    <tr style=\"text-align: right;\">\n",
       "      <th></th>\n",
       "      <th>treasury_rate</th>\n",
       "    </tr>\n",
       "    <tr>\n",
       "      <th>Date</th>\n",
       "      <th></th>\n",
       "    </tr>\n",
       "  </thead>\n",
       "  <tbody>\n",
       "    <tr>\n",
       "      <th>1962-01-02</th>\n",
       "      <td>4.06</td>\n",
       "    </tr>\n",
       "    <tr>\n",
       "      <th>1962-01-03</th>\n",
       "      <td>4.03</td>\n",
       "    </tr>\n",
       "    <tr>\n",
       "      <th>1962-01-04</th>\n",
       "      <td>3.99</td>\n",
       "    </tr>\n",
       "    <tr>\n",
       "      <th>1962-01-05</th>\n",
       "      <td>4.02</td>\n",
       "    </tr>\n",
       "    <tr>\n",
       "      <th>1962-01-08</th>\n",
       "      <td>4.03</td>\n",
       "    </tr>\n",
       "  </tbody>\n",
       "</table>\n",
       "</div>"
      ],
      "text/plain": [
       "            treasury_rate\n",
       "Date                     \n",
       "1962-01-02           4.06\n",
       "1962-01-03           4.03\n",
       "1962-01-04           3.99\n",
       "1962-01-05           4.02\n",
       "1962-01-08           4.03"
      ]
     },
     "execution_count": 9,
     "metadata": {},
     "output_type": "execute_result"
    }
   ],
   "source": [
    "treasury = treasury.rename(columns = {\"Value\" : \"treasury_rate\"})\n",
    "treasury.head()"
   ]
  },
  {
   "cell_type": "code",
   "execution_count": 10,
   "metadata": {},
   "outputs": [
    {
     "data": {
      "text/plain": [
       "[<matplotlib.lines.Line2D at 0x2226ba0a400>]"
      ]
     },
     "execution_count": 10,
     "metadata": {},
     "output_type": "execute_result"
    },
    {
     "data": {
      "image/png": "[encoded data removed]",
      "text/plain": [
       "<Figure size 432x288 with 1 Axes>"
      ]
     },
     "metadata": {
      "needs_background": "light"
     },
     "output_type": "display_data"
    }
   ],
   "source": [
    "plt.plot(treasury.treasury_rate)"
   ]
  },
  {
   "cell_type": "markdown",
   "metadata": {},
   "source": [
    "### Transform to monthly average"
   ]
  },
  {
   "cell_type": "code",
   "execution_count": 11,
   "metadata": {},
   "outputs": [
    {
     "data": {
      "text/html": [
       "<div>\n",
       "<style scoped>\n",
       "    .dataframe tbody tr th:only-of-type {\n",
       "        vertical-align: middle;\n",
       "    }\n",
       "\n",
       "    .dataframe tbody tr th {\n",
       "        vertical-align: top;\n",
       "    }\n",
       "\n",
       "    .dataframe thead th {\n",
       "        text-align: right;\n",
       "    }\n",
       "</style>\n",
       "<table border=\"1\" class=\"dataframe\">\n",
       "  <thead>\n",
       "    <tr style=\"text-align: right;\">\n",
       "      <th></th>\n",
       "      <th>PE</th>\n",
       "      <th>Price</th>\n",
       "      <th>treasury_rate</th>\n",
       "    </tr>\n",
       "    <tr>\n",
       "      <th>Date</th>\n",
       "      <th></th>\n",
       "      <th></th>\n",
       "      <th></th>\n",
       "    </tr>\n",
       "  </thead>\n",
       "  <tbody>\n",
       "    <tr>\n",
       "      <th>2001-08-21</th>\n",
       "      <td>31.70</td>\n",
       "      <td>241.08</td>\n",
       "      <td>4.87</td>\n",
       "    </tr>\n",
       "    <tr>\n",
       "      <th>2001-08-22</th>\n",
       "      <td>31.80</td>\n",
       "      <td>241.63</td>\n",
       "      <td>4.91</td>\n",
       "    </tr>\n",
       "    <tr>\n",
       "      <th>2001-08-23</th>\n",
       "      <td>31.69</td>\n",
       "      <td>240.75</td>\n",
       "      <td>4.89</td>\n",
       "    </tr>\n",
       "    <tr>\n",
       "      <th>2001-08-24</th>\n",
       "      <td>32.48</td>\n",
       "      <td>246.84</td>\n",
       "      <td>4.93</td>\n",
       "    </tr>\n",
       "    <tr>\n",
       "      <th>2001-08-27</th>\n",
       "      <td>32.17</td>\n",
       "      <td>245.02</td>\n",
       "      <td>4.94</td>\n",
       "    </tr>\n",
       "  </tbody>\n",
       "</table>\n",
       "</div>"
      ],
      "text/plain": [
       "               PE   Price  treasury_rate\n",
       "Date                                    \n",
       "2001-08-21  31.70  241.08           4.87\n",
       "2001-08-22  31.80  241.63           4.91\n",
       "2001-08-23  31.69  240.75           4.89\n",
       "2001-08-24  32.48  246.84           4.93\n",
       "2001-08-27  32.17  245.02           4.94"
      ]
     },
     "execution_count": 11,
     "metadata": {},
     "output_type": "execute_result"
    }
   ],
   "source": [
    "joined = pe_ratio.join(price).join(treasury)\n",
    "joined.head()"
   ]
  },
  {
   "cell_type": "code",
   "execution_count": 12,
   "metadata": {},
   "outputs": [
    {
     "data": {
      "text/html": [
       "<div>\n",
       "<style scoped>\n",
       "    .dataframe tbody tr th:only-of-type {\n",
       "        vertical-align: middle;\n",
       "    }\n",
       "\n",
       "    .dataframe tbody tr th {\n",
       "        vertical-align: top;\n",
       "    }\n",
       "\n",
       "    .dataframe thead th {\n",
       "        text-align: right;\n",
       "    }\n",
       "</style>\n",
       "<table border=\"1\" class=\"dataframe\">\n",
       "  <thead>\n",
       "    <tr style=\"text-align: right;\">\n",
       "      <th></th>\n",
       "      <th></th>\n",
       "      <th>PE</th>\n",
       "      <th>Price</th>\n",
       "      <th>treasury_rate</th>\n",
       "    </tr>\n",
       "    <tr>\n",
       "      <th>year</th>\n",
       "      <th>month</th>\n",
       "      <th></th>\n",
       "      <th></th>\n",
       "      <th></th>\n",
       "    </tr>\n",
       "  </thead>\n",
       "  <tbody>\n",
       "    <tr>\n",
       "      <th rowspan=\"5\" valign=\"top\">2001</th>\n",
       "      <th>8</th>\n",
       "      <td>31.516667</td>\n",
       "      <td>239.642222</td>\n",
       "      <td>4.867778</td>\n",
       "    </tr>\n",
       "    <tr>\n",
       "      <th>9</th>\n",
       "      <td>27.175333</td>\n",
       "      <td>204.901333</td>\n",
       "      <td>4.748667</td>\n",
       "    </tr>\n",
       "    <tr>\n",
       "      <th>10</th>\n",
       "      <td>28.268696</td>\n",
       "      <td>211.766087</td>\n",
       "      <td>4.566818</td>\n",
       "    </tr>\n",
       "    <tr>\n",
       "      <th>11</th>\n",
       "      <td>33.669524</td>\n",
       "      <td>230.619524</td>\n",
       "      <td>4.651500</td>\n",
       "    </tr>\n",
       "    <tr>\n",
       "      <th>12</th>\n",
       "      <td>36.054000</td>\n",
       "      <td>238.324500</td>\n",
       "      <td>5.087500</td>\n",
       "    </tr>\n",
       "  </tbody>\n",
       "</table>\n",
       "</div>"
      ],
      "text/plain": [
       "                   PE       Price  treasury_rate\n",
       "year month                                      \n",
       "2001 8      31.516667  239.642222       4.867778\n",
       "     9      27.175333  204.901333       4.748667\n",
       "     10     28.268696  211.766087       4.566818\n",
       "     11     33.669524  230.619524       4.651500\n",
       "     12     36.054000  238.324500       5.087500"
      ]
     },
     "execution_count": 12,
     "metadata": {},
     "output_type": "execute_result"
    }
   ],
   "source": [
    "joined['month'] = joined.index.month\n",
    "joined['year'] = joined.index.year\n",
    "\n",
    "joined = joined.groupby([joined.year, joined.month]).mean()\n",
    "joined.head()"
   ]
  },
  {
   "cell_type": "code",
   "execution_count": 13,
   "metadata": {},
   "outputs": [
    {
     "data": {
      "text/html": [
       "<div>\n",
       "<style scoped>\n",
       "    .dataframe tbody tr th:only-of-type {\n",
       "        vertical-align: middle;\n",
       "    }\n",
       "\n",
       "    .dataframe tbody tr th {\n",
       "        vertical-align: top;\n",
       "    }\n",
       "\n",
       "    .dataframe thead th {\n",
       "        text-align: right;\n",
       "    }\n",
       "</style>\n",
       "<table border=\"1\" class=\"dataframe\">\n",
       "  <thead>\n",
       "    <tr style=\"text-align: right;\">\n",
       "      <th></th>\n",
       "      <th>year</th>\n",
       "      <th>month</th>\n",
       "      <th>PE</th>\n",
       "      <th>Price</th>\n",
       "      <th>treasury_rate</th>\n",
       "    </tr>\n",
       "    <tr>\n",
       "      <th>date</th>\n",
       "      <th></th>\n",
       "      <th></th>\n",
       "      <th></th>\n",
       "      <th></th>\n",
       "      <th></th>\n",
       "    </tr>\n",
       "  </thead>\n",
       "  <tbody>\n",
       "    <tr>\n",
       "      <th>2001-08-01</th>\n",
       "      <td>2001</td>\n",
       "      <td>8</td>\n",
       "      <td>31.516667</td>\n",
       "      <td>239.642222</td>\n",
       "      <td>4.867778</td>\n",
       "    </tr>\n",
       "    <tr>\n",
       "      <th>2001-09-01</th>\n",
       "      <td>2001</td>\n",
       "      <td>9</td>\n",
       "      <td>27.175333</td>\n",
       "      <td>204.901333</td>\n",
       "      <td>4.748667</td>\n",
       "    </tr>\n",
       "    <tr>\n",
       "      <th>2001-10-01</th>\n",
       "      <td>2001</td>\n",
       "      <td>10</td>\n",
       "      <td>28.268696</td>\n",
       "      <td>211.766087</td>\n",
       "      <td>4.566818</td>\n",
       "    </tr>\n",
       "    <tr>\n",
       "      <th>2001-11-01</th>\n",
       "      <td>2001</td>\n",
       "      <td>11</td>\n",
       "      <td>33.669524</td>\n",
       "      <td>230.619524</td>\n",
       "      <td>4.651500</td>\n",
       "    </tr>\n",
       "    <tr>\n",
       "      <th>2001-12-01</th>\n",
       "      <td>2001</td>\n",
       "      <td>12</td>\n",
       "      <td>36.054000</td>\n",
       "      <td>238.324500</td>\n",
       "      <td>5.087500</td>\n",
       "    </tr>\n",
       "  </tbody>\n",
       "</table>\n",
       "</div>"
      ],
      "text/plain": [
       "            year  month         PE       Price  treasury_rate\n",
       "date                                                         \n",
       "2001-08-01  2001      8  31.516667  239.642222       4.867778\n",
       "2001-09-01  2001      9  27.175333  204.901333       4.748667\n",
       "2001-10-01  2001     10  28.268696  211.766087       4.566818\n",
       "2001-11-01  2001     11  33.669524  230.619524       4.651500\n",
       "2001-12-01  2001     12  36.054000  238.324500       5.087500"
      ]
     },
     "execution_count": 13,
     "metadata": {},
     "output_type": "execute_result"
    }
   ],
   "source": [
    "joined = joined.reset_index()\n",
    "joined['date'] = pd.to_datetime(joined[['year', 'month']].assign(DAY=1))\n",
    "joined = joined.set_index('date')\n",
    "joined.head()"
   ]
  },
  {
   "cell_type": "code",
   "execution_count": 14,
   "metadata": {},
   "outputs": [
    {
     "data": {
      "text/html": [
       "<div>\n",
       "<style scoped>\n",
       "    .dataframe tbody tr th:only-of-type {\n",
       "        vertical-align: middle;\n",
       "    }\n",
       "\n",
       "    .dataframe tbody tr th {\n",
       "        vertical-align: top;\n",
       "    }\n",
       "\n",
       "    .dataframe thead th {\n",
       "        text-align: right;\n",
       "    }\n",
       "</style>\n",
       "<table border=\"1\" class=\"dataframe\">\n",
       "  <thead>\n",
       "    <tr style=\"text-align: right;\">\n",
       "      <th></th>\n",
       "      <th>year</th>\n",
       "      <th>month</th>\n",
       "      <th>PE</th>\n",
       "      <th>Price</th>\n",
       "      <th>treasury_rate</th>\n",
       "      <th>earnings</th>\n",
       "    </tr>\n",
       "    <tr>\n",
       "      <th>date</th>\n",
       "      <th></th>\n",
       "      <th></th>\n",
       "      <th></th>\n",
       "      <th></th>\n",
       "      <th></th>\n",
       "      <th></th>\n",
       "    </tr>\n",
       "  </thead>\n",
       "  <tbody>\n",
       "    <tr>\n",
       "      <th>2001-08-01</th>\n",
       "      <td>2001</td>\n",
       "      <td>8</td>\n",
       "      <td>31.516667</td>\n",
       "      <td>239.642222</td>\n",
       "      <td>4.867778</td>\n",
       "      <td>7.603666</td>\n",
       "    </tr>\n",
       "    <tr>\n",
       "      <th>2001-09-01</th>\n",
       "      <td>2001</td>\n",
       "      <td>9</td>\n",
       "      <td>27.175333</td>\n",
       "      <td>204.901333</td>\n",
       "      <td>4.748667</td>\n",
       "      <td>7.539975</td>\n",
       "    </tr>\n",
       "    <tr>\n",
       "      <th>2001-10-01</th>\n",
       "      <td>2001</td>\n",
       "      <td>10</td>\n",
       "      <td>28.268696</td>\n",
       "      <td>211.766087</td>\n",
       "      <td>4.566818</td>\n",
       "      <td>7.491187</td>\n",
       "    </tr>\n",
       "    <tr>\n",
       "      <th>2001-11-01</th>\n",
       "      <td>2001</td>\n",
       "      <td>11</td>\n",
       "      <td>33.669524</td>\n",
       "      <td>230.619524</td>\n",
       "      <td>4.651500</td>\n",
       "      <td>6.849504</td>\n",
       "    </tr>\n",
       "    <tr>\n",
       "      <th>2001-12-01</th>\n",
       "      <td>2001</td>\n",
       "      <td>12</td>\n",
       "      <td>36.054000</td>\n",
       "      <td>238.324500</td>\n",
       "      <td>5.087500</td>\n",
       "      <td>6.610210</td>\n",
       "    </tr>\n",
       "  </tbody>\n",
       "</table>\n",
       "</div>"
      ],
      "text/plain": [
       "            year  month         PE       Price  treasury_rate  earnings\n",
       "date                                                                   \n",
       "2001-08-01  2001      8  31.516667  239.642222       4.867778  7.603666\n",
       "2001-09-01  2001      9  27.175333  204.901333       4.748667  7.539975\n",
       "2001-10-01  2001     10  28.268696  211.766087       4.566818  7.491187\n",
       "2001-11-01  2001     11  33.669524  230.619524       4.651500  6.849504\n",
       "2001-12-01  2001     12  36.054000  238.324500       5.087500  6.610210"
      ]
     },
     "execution_count": 14,
     "metadata": {},
     "output_type": "execute_result"
    }
   ],
   "source": [
    "joined['earnings'] = joined.Price / joined.PE\n",
    "joined.head()"
   ]
  },
  {
   "cell_type": "code",
   "execution_count": 15,
   "metadata": {},
   "outputs": [
    {
     "data": {
      "text/plain": [
       "[<matplotlib.lines.Line2D at 0x2226b3529d0>]"
      ]
     },
     "execution_count": 15,
     "metadata": {},
     "output_type": "execute_result"
    },
    {
     "data": {
      "image/png": "[encoded data removed]",
      "text/plain": [
       "<Figure size 432x288 with 1 Axes>"
      ]
     },
     "metadata": {
      "needs_background": "light"
     },
     "output_type": "display_data"
    }
   ],
   "source": [
    "plt.plot(joined.earnings)"
   ]
  },
  {
   "cell_type": "code",
   "execution_count": 16,
   "metadata": {},
   "outputs": [
    {
     "data": {
      "text/html": [
       "<div>\n",
       "<style scoped>\n",
       "    .dataframe tbody tr th:only-of-type {\n",
       "        vertical-align: middle;\n",
       "    }\n",
       "\n",
       "    .dataframe tbody tr th {\n",
       "        vertical-align: top;\n",
       "    }\n",
       "\n",
       "    .dataframe thead th {\n",
       "        text-align: right;\n",
       "    }\n",
       "</style>\n",
       "<table border=\"1\" class=\"dataframe\">\n",
       "  <thead>\n",
       "    <tr style=\"text-align: right;\">\n",
       "      <th></th>\n",
       "      <th>year</th>\n",
       "      <th>month</th>\n",
       "      <th>PE</th>\n",
       "      <th>Price</th>\n",
       "      <th>treasury_rate</th>\n",
       "      <th>earnings</th>\n",
       "      <th>earnings_change</th>\n",
       "      <th>ann_earnings_ch</th>\n",
       "    </tr>\n",
       "    <tr>\n",
       "      <th>date</th>\n",
       "      <th></th>\n",
       "      <th></th>\n",
       "      <th></th>\n",
       "      <th></th>\n",
       "      <th></th>\n",
       "      <th></th>\n",
       "      <th></th>\n",
       "      <th></th>\n",
       "    </tr>\n",
       "  </thead>\n",
       "  <tbody>\n",
       "    <tr>\n",
       "      <th>2001-08-01</th>\n",
       "      <td>2001</td>\n",
       "      <td>8</td>\n",
       "      <td>31.516667</td>\n",
       "      <td>239.642222</td>\n",
       "      <td>4.867778</td>\n",
       "      <td>7.603666</td>\n",
       "      <td>NaN</td>\n",
       "      <td>NaN</td>\n",
       "    </tr>\n",
       "    <tr>\n",
       "      <th>2001-09-01</th>\n",
       "      <td>2001</td>\n",
       "      <td>9</td>\n",
       "      <td>27.175333</td>\n",
       "      <td>204.901333</td>\n",
       "      <td>4.748667</td>\n",
       "      <td>7.539975</td>\n",
       "      <td>-0.063692</td>\n",
       "      <td>-5.460296e-01</td>\n",
       "    </tr>\n",
       "    <tr>\n",
       "      <th>2001-10-01</th>\n",
       "      <td>2001</td>\n",
       "      <td>10</td>\n",
       "      <td>28.268696</td>\n",
       "      <td>211.766087</td>\n",
       "      <td>4.566818</td>\n",
       "      <td>7.491187</td>\n",
       "      <td>-0.048788</td>\n",
       "      <td>-4.513084e-01</td>\n",
       "    </tr>\n",
       "    <tr>\n",
       "      <th>2001-11-01</th>\n",
       "      <td>2001</td>\n",
       "      <td>11</td>\n",
       "      <td>33.669524</td>\n",
       "      <td>230.619524</td>\n",
       "      <td>4.651500</td>\n",
       "      <td>6.849504</td>\n",
       "      <td>-0.641683</td>\n",
       "      <td>-9.999955e-01</td>\n",
       "    </tr>\n",
       "    <tr>\n",
       "      <th>2001-12-01</th>\n",
       "      <td>2001</td>\n",
       "      <td>12</td>\n",
       "      <td>36.054000</td>\n",
       "      <td>238.324500</td>\n",
       "      <td>5.087500</td>\n",
       "      <td>6.610210</td>\n",
       "      <td>-0.239294</td>\n",
       "      <td>-9.624506e-01</td>\n",
       "    </tr>\n",
       "    <tr>\n",
       "      <th>...</th>\n",
       "      <td>...</td>\n",
       "      <td>...</td>\n",
       "      <td>...</td>\n",
       "      <td>...</td>\n",
       "      <td>...</td>\n",
       "      <td>...</td>\n",
       "      <td>...</td>\n",
       "      <td>...</td>\n",
       "    </tr>\n",
       "    <tr>\n",
       "      <th>2021-04-01</th>\n",
       "      <td>2021</td>\n",
       "      <td>4</td>\n",
       "      <td>80.362500</td>\n",
       "      <td>1417.672000</td>\n",
       "      <td>1.628000</td>\n",
       "      <td>17.640964</td>\n",
       "      <td>0.217982</td>\n",
       "      <td>9.658360e+00</td>\n",
       "    </tr>\n",
       "    <tr>\n",
       "      <th>2021-05-01</th>\n",
       "      <td>2021</td>\n",
       "      <td>5</td>\n",
       "      <td>65.739500</td>\n",
       "      <td>1376.421500</td>\n",
       "      <td>1.621000</td>\n",
       "      <td>20.937511</td>\n",
       "      <td>3.296547</td>\n",
       "      <td>3.957621e+07</td>\n",
       "    </tr>\n",
       "    <tr>\n",
       "      <th>2021-06-01</th>\n",
       "      <td>2021</td>\n",
       "      <td>6</td>\n",
       "      <td>60.907368</td>\n",
       "      <td>1390.399474</td>\n",
       "      <td>1.524211</td>\n",
       "      <td>22.828100</td>\n",
       "      <td>1.890589</td>\n",
       "      <td>3.402783e+05</td>\n",
       "    </tr>\n",
       "    <tr>\n",
       "      <th>2021-07-01</th>\n",
       "      <td>2021</td>\n",
       "      <td>7</td>\n",
       "      <td>61.228750</td>\n",
       "      <td>1459.155625</td>\n",
       "      <td>1.314375</td>\n",
       "      <td>23.831217</td>\n",
       "      <td>1.003117</td>\n",
       "      <td>4.172272e+03</td>\n",
       "    </tr>\n",
       "    <tr>\n",
       "      <th>2021-08-01</th>\n",
       "      <td>2021</td>\n",
       "      <td>8</td>\n",
       "      <td>52.190000</td>\n",
       "      <td>1437.656364</td>\n",
       "      <td>1.274545</td>\n",
       "      <td>27.546587</td>\n",
       "      <td>3.715370</td>\n",
       "      <td>1.208340e+08</td>\n",
       "    </tr>\n",
       "  </tbody>\n",
       "</table>\n",
       "<p>241 rows × 8 columns</p>\n",
       "</div>"
      ],
      "text/plain": [
       "            year  month         PE        Price  treasury_rate   earnings  \\\n",
       "date                                                                        \n",
       "2001-08-01  2001      8  31.516667   239.642222       4.867778   7.603666   \n",
       "2001-09-01  2001      9  27.175333   204.901333       4.748667   7.539975   \n",
       "2001-10-01  2001     10  28.268696   211.766087       4.566818   7.491187   \n",
       "2001-11-01  2001     11  33.669524   230.619524       4.651500   6.849504   \n",
       "2001-12-01  2001     12  36.054000   238.324500       5.087500   6.610210   \n",
       "...          ...    ...        ...          ...            ...        ...   \n",
       "2021-04-01  2021      4  80.362500  1417.672000       1.628000  17.640964   \n",
       "2021-05-01  2021      5  65.739500  1376.421500       1.621000  20.937511   \n",
       "2021-06-01  2021      6  60.907368  1390.399474       1.524211  22.828100   \n",
       "2021-07-01  2021      7  61.228750  1459.155625       1.314375  23.831217   \n",
       "2021-08-01  2021      8  52.190000  1437.656364       1.274545  27.546587   \n",
       "\n",
       "            earnings_change  ann_earnings_ch  \n",
       "date                                          \n",
       "2001-08-01              NaN              NaN  \n",
       "2001-09-01        -0.063692    -5.460296e-01  \n",
       "2001-10-01        -0.048788    -4.513084e-01  \n",
       "2001-11-01        -0.641683    -9.999955e-01  \n",
       "2001-12-01        -0.239294    -9.624506e-01  \n",
       "...                     ...              ...  \n",
       "2021-04-01         0.217982     9.658360e+00  \n",
       "2021-05-01         3.296547     3.957621e+07  \n",
       "2021-06-01         1.890589     3.402783e+05  \n",
       "2021-07-01         1.003117     4.172272e+03  \n",
       "2021-08-01         3.715370     1.208340e+08  \n",
       "\n",
       "[241 rows x 8 columns]"
      ]
     },
     "metadata": {},
     "output_type": "display_data"
    }
   ],
   "source": [
    "joined['earnings_change'] = joined.earnings.diff(1)\n",
    "display(joined)"
   ]
  },
  {
   "cell_type": "code",
   "execution_count": 17,
   "metadata": {},
   "outputs": [
    {
     "data": {
      "text/plain": [
       "[<matplotlib.lines.Line2D at 0x2226b37bf70>]"
      ]
     },
     "execution_count": 17,
     "metadata": {},
     "output_type": "execute_result"
    },
    {
     "data": {
      "image/png": "[encoded data removed]",
      "text/plain": [
       "<Figure size 432x288 with 1 Axes>"
      ]
     },
     "metadata": {
      "needs_background": "light"
     },
     "output_type": "display_data"
    }
   ],
   "source": [
    "plt.plot(joined.earnings_change)"
   ]
  },
  {
   "cell_type": "code",
   "execution_count": 54,
   "metadata": {},
   "outputs": [
    {
     "data": {
      "text/html": [
       "<div>\n",
       "<style scoped>\n",
       "    .dataframe tbody tr th:only-of-type {\n",
       "        vertical-align: middle;\n",
       "    }\n",
       "\n",
       "    .dataframe tbody tr th {\n",
       "        vertical-align: top;\n",
       "    }\n",
       "\n",
       "    .dataframe thead th {\n",
       "        text-align: right;\n",
       "    }\n",
       "</style>\n",
       "<table border=\"1\" class=\"dataframe\">\n",
       "  <thead>\n",
       "    <tr style=\"text-align: right;\">\n",
       "      <th></th>\n",
       "      <th>year</th>\n",
       "      <th>month</th>\n",
       "      <th>PE</th>\n",
       "      <th>Price</th>\n",
       "      <th>treasury_rate</th>\n",
       "      <th>earnings</th>\n",
       "      <th>earnings_change</th>\n",
       "      <th>ann_earnings_ch</th>\n",
       "      <th>target</th>\n",
       "    </tr>\n",
       "    <tr>\n",
       "      <th>date</th>\n",
       "      <th></th>\n",
       "      <th></th>\n",
       "      <th></th>\n",
       "      <th></th>\n",
       "      <th></th>\n",
       "      <th></th>\n",
       "      <th></th>\n",
       "      <th></th>\n",
       "      <th></th>\n",
       "    </tr>\n",
       "  </thead>\n",
       "  <tbody>\n",
       "    <tr>\n",
       "      <th>2001-09-01</th>\n",
       "      <td>2001</td>\n",
       "      <td>9</td>\n",
       "      <td>27.175333</td>\n",
       "      <td>204.901333</td>\n",
       "      <td>4.748667</td>\n",
       "      <td>7.539975</td>\n",
       "      <td>-0.063692</td>\n",
       "      <td>-0.546030</td>\n",
       "      <td>-2.067565</td>\n",
       "    </tr>\n",
       "    <tr>\n",
       "      <th>2001-10-01</th>\n",
       "      <td>2001</td>\n",
       "      <td>10</td>\n",
       "      <td>28.268696</td>\n",
       "      <td>211.766087</td>\n",
       "      <td>4.566818</td>\n",
       "      <td>7.491187</td>\n",
       "      <td>-0.048788</td>\n",
       "      <td>-0.451308</td>\n",
       "      <td>-2.052516</td>\n",
       "    </tr>\n",
       "    <tr>\n",
       "      <th>2001-11-01</th>\n",
       "      <td>2001</td>\n",
       "      <td>11</td>\n",
       "      <td>33.669524</td>\n",
       "      <td>230.619524</td>\n",
       "      <td>4.651500</td>\n",
       "      <td>6.849504</td>\n",
       "      <td>-0.641683</td>\n",
       "      <td>-0.999996</td>\n",
       "      <td>-2.645479</td>\n",
       "    </tr>\n",
       "    <tr>\n",
       "      <th>2001-12-01</th>\n",
       "      <td>2001</td>\n",
       "      <td>12</td>\n",
       "      <td>36.054000</td>\n",
       "      <td>238.324500</td>\n",
       "      <td>5.087500</td>\n",
       "      <td>6.610210</td>\n",
       "      <td>-0.239294</td>\n",
       "      <td>-0.962451</td>\n",
       "      <td>-2.243438</td>\n",
       "    </tr>\n",
       "    <tr>\n",
       "      <th>2002-01-01</th>\n",
       "      <td>2002</td>\n",
       "      <td>1</td>\n",
       "      <td>36.128095</td>\n",
       "      <td>238.579524</td>\n",
       "      <td>5.035714</td>\n",
       "      <td>6.603712</td>\n",
       "      <td>-0.006498</td>\n",
       "      <td>-0.075249</td>\n",
       "      <td>-2.010601</td>\n",
       "    </tr>\n",
       "  </tbody>\n",
       "</table>\n",
       "</div>"
      ],
      "text/plain": [
       "            year  month         PE       Price  treasury_rate  earnings  \\\n",
       "date                                                                      \n",
       "2001-09-01  2001      9  27.175333  204.901333       4.748667  7.539975   \n",
       "2001-10-01  2001     10  28.268696  211.766087       4.566818  7.491187   \n",
       "2001-11-01  2001     11  33.669524  230.619524       4.651500  6.849504   \n",
       "2001-12-01  2001     12  36.054000  238.324500       5.087500  6.610210   \n",
       "2002-01-01  2002      1  36.128095  238.579524       5.035714  6.603712   \n",
       "\n",
       "            earnings_change  ann_earnings_ch    target  \n",
       "date                                                    \n",
       "2001-09-01        -0.063692        -0.546030 -2.067565  \n",
       "2001-10-01        -0.048788        -0.451308 -2.052516  \n",
       "2001-11-01        -0.641683        -0.999996 -2.645479  \n",
       "2001-12-01        -0.239294        -0.962451 -2.243438  \n",
       "2002-01-01        -0.006498        -0.075249 -2.010601  "
      ]
     },
     "execution_count": 54,
     "metadata": {},
     "output_type": "execute_result"
    }
   ],
   "source": [
    "joined['target'] = joined.earnings_change - (1 + joined.treasury_rate/100)**(1/12) - 1\n",
    "joined = joined.dropna()\n",
    "joined.head()"
   ]
  },
  {
   "cell_type": "code",
   "execution_count": 55,
   "metadata": {},
   "outputs": [
    {
     "data": {
      "text/plain": [
       "[<matplotlib.lines.Line2D at 0x22270713eb0>]"
      ]
     },
     "execution_count": 55,
     "metadata": {},
     "output_type": "execute_result"
    },
    {
     "data": {
      "image/png": "[encoded data removed]",
      "text/plain": [
       "<Figure size 432x288 with 1 Axes>"
      ]
     },
     "metadata": {
      "needs_background": "light"
     },
     "output_type": "display_data"
    }
   ],
   "source": [
    "plt.plot(joined.target)"
   ]
  },
  {
   "cell_type": "markdown",
   "metadata": {},
   "source": [
    "## SARIMA Model"
   ]
  },
  {
   "cell_type": "code",
   "execution_count": 20,
   "metadata": {},
   "outputs": [],
   "source": [
    "from statsmodels.tsa.seasonal import seasonal_decompose\n",
    "from statsmodels.tsa.statespace.sarimax import SARIMAX\n",
    "import warnings\n",
    "warnings.filterwarnings(\"ignore\")\n",
    "import pmdarima as pm"
   ]
  },
  {
   "cell_type": "code",
   "execution_count": 21,
   "metadata": {},
   "outputs": [
    {
     "data": {
      "image/png": "[encoded data removed]",
      "text/plain": [
       "<Figure size 432x288 with 4 Axes>"
      ]
     },
     "metadata": {
      "needs_background": "light"
     },
     "output_type": "display_data"
    }
   ],
   "source": [
    "# look at seasonality\n",
    "decomp_results = seasonal_decompose(joined['target'], period = 12)\n",
    "decomp_results.plot()\n",
    "plt.show()"
   ]
  },
  {
   "cell_type": "code",
   "execution_count": 22,
   "metadata": {},
   "outputs": [],
   "source": [
    "# train test split\n",
    "split_date = pd.Timestamp('2017-01-01')\n",
    "\n",
    "train = joined.loc[:split_date]\n",
    "y_train = train['target']\n",
    "\n",
    "test =  joined.loc[split_date:]\n",
    "y_test = test['target']"
   ]
  },
  {
   "cell_type": "code",
   "execution_count": 35,
   "metadata": {},
   "outputs": [
    {
     "name": "stdout",
     "output_type": "stream",
     "text": [
      "                                     SARIMAX Results                                      \n",
      "==========================================================================================\n",
      "Dep. Variable:                                  y   No. Observations:                  185\n",
      "Model:             SARIMAX(1, 0, 0)x(2, 1, 0, 12)   Log Likelihood                -142.103\n",
      "Date:                            Tue, 24 Aug 2021   AIC                            292.207\n",
      "Time:                                    23:01:55   BIC                            304.820\n",
      "Sample:                                         0   HQIC                           297.324\n",
      "                                            - 185                                         \n",
      "Covariance Type:                              opg                                         \n",
      "==============================================================================\n",
      "                 coef    std err          z      P>|z|      [0.025      0.975]\n",
      "------------------------------------------------------------------------------\n",
      "ar.L1         -0.1329      0.053     -2.529      0.011      -0.236      -0.030\n",
      "ar.S.L12      -0.6123      0.040    -15.472      0.000      -0.690      -0.535\n",
      "ar.S.L24      -0.3424      0.047     -7.340      0.000      -0.434      -0.251\n",
      "sigma2         0.2927      0.016     18.231      0.000       0.261       0.324\n",
      "===================================================================================\n",
      "Ljung-Box (Q):                       74.61   Jarque-Bera (JB):               503.26\n",
      "Prob(Q):                              0.00   Prob(JB):                         0.00\n",
      "Heteroskedasticity (H):               0.50   Skew:                             0.49\n",
      "Prob(H) (two-sided):                  0.01   Kurtosis:                        11.30\n",
      "===================================================================================\n",
      "\n",
      "Warnings:\n",
      "[1] Covariance matrix calculated using the outer product of gradients (complex-step).\n"
     ]
    }
   ],
   "source": [
    "results = pm.auto_arima(y_train, seasonal = True, m = 12, D = 1, information_criterion = 'aic',\n",
    "                      # trace = True, error_action = 'ignore', suppress_warnings = True\n",
    "                     )\n",
    "print(results.summary())"
   ]
  },
  {
   "cell_type": "code",
   "execution_count": 38,
   "metadata": {},
   "outputs": [],
   "source": [
    "model = SARIMAX(y_train, \n",
    "                order = (1,0,0), \n",
    "                seasonal_order = (2,1,0,12),\n",
    "                trend = 'c'\n",
    "                # , exog = x_train\n",
    "                )"
   ]
  },
  {
   "cell_type": "code",
   "execution_count": 53,
   "metadata": {},
   "outputs": [
    {
     "data": {
      "image/png": "[encoded data removed]",
      "text/plain": [
       "<Figure size 432x288 with 4 Axes>"
      ]
     },
     "execution_count": 53,
     "metadata": {},
     "output_type": "execute_result"
    },
    {
     "data": {
      "image/png": "[encoded data removed]",
      "text/plain": [
       "<Figure size 432x288 with 4 Axes>"
      ]
     },
     "metadata": {
      "needs_background": "light"
     },
     "output_type": "display_data"
    }
   ],
   "source": [
    "mod_fitted = model.fit()\n",
    "mod_fitted.plot_diagnostics()"
   ]
  },
  {
   "cell_type": "code",
   "execution_count": 50,
   "metadata": {},
   "outputs": [
    {
     "data": {
      "image/png": "[encoded data removed]",
      "text/plain": [
       "<Figure size 1008x288 with 1 Axes>"
      ]
     },
     "metadata": {
      "needs_background": "light"
     },
     "output_type": "display_data"
    }
   ],
   "source": [
    "pred = mod_fitted.get_prediction(start = y_test.index[0], end = y_test.index[-1], \n",
    "                                 #exog = x_test.iloc[:-1,:], dynamic=False\n",
    "                                )\n",
    "ts_pred = pred.predicted_mean\n",
    "pred_ci = pred.conf_int()\n",
    "ax = joined.target['2001-10-01':].plot(label='Actual Value')\n",
    "ts_pred.plot(ax=ax, label='One-step ahead Forecast', alpha=.7, figsize=(14, 4))\n",
    "# ax.fill_between(pred_ci.index,\n",
    "#                 pred_ci.iloc[:, 0],\n",
    "#                 pred_ci.iloc[:, 1], color='k', alpha=.2)\n",
    "ax.set_xlabel('Date')\n",
    "ax.set_ylabel('Target variable')\n",
    "plt.legend()\n",
    "plt.show()"
   ]
  },
  {
   "cell_type": "code",
   "execution_count": 52,
   "metadata": {},
   "outputs": [
    {
     "name": "stdout",
     "output_type": "stream",
     "text": [
      "MAPE: 9.622\n",
      "MAE: 0.605\n"
     ]
    }
   ],
   "source": [
    "print(\"MAPE:\", round(mape(y_test, ts_pred), 3))\n",
    "print(\"MAE:\", round(mae(y_test, ts_pred), 3))"
   ]
  },
  {
   "cell_type": "code",
   "execution_count": null,
   "metadata": {},
   "outputs": [],
   "source": []
  }
 ],
 "metadata": {
  "kernelspec": {
   "display_name": "Python 3",
   "language": "python",
   "name": "python3"
  },
  "language_info": {
   "codemirror_mode": {
    "name": "ipython",
    "version": 3
   },
   "file_extension": ".py",
   "mimetype": "text/x-python",
   "name": "python",
   "nbconvert_exporter": "python",
   "pygments_lexer": "ipython3",
   "version": "3.8.3"
  }
 },
 "nbformat": 4,
 "nbformat_minor": 4
}
