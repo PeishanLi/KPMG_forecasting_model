{
 "cells": [
  {
   "cell_type": "code",
   "execution_count": 1,
   "metadata": {},
   "outputs": [],
   "source": [
    "# KPMG Forecasting Project\n",
    "# LT Model\n",
    "# Author: Kushal Wijesundara"
   ]
  },
  {
   "cell_type": "code",
   "execution_count": 2,
   "metadata": {
    "id": "Rgw7PL1nkV75"
   },
   "outputs": [],
   "source": [
    "import numpy as np\n",
    "import pandas as pd\n",
    "import datetime\n",
    "import itertools\n",
    "import matplotlib.pyplot as plt\n",
    "from sklearn.model_selection import train_test_split\n",
    "from sklearn.metrics import mean_absolute_error, make_scorer\n",
    "from sklearn.ensemble import RandomForestRegressor\n",
    "from statsmodels.tsa.seasonal import seasonal_decompose\n",
    "from sktime.transformers.single_series.detrend import Deseasonalizer\n",
    "from sktime.forecasting.model_selection import temporal_train_test_split\n",
    "from sktime.forecasting.compose import ReducedRegressionForecaster\n",
    "from sklearn import preprocessing\n",
    "from reduce import order\n",
    "from sktime.forecasting.model_selection import SlidingWindowSplitter\n",
    "from sktime.forecasting.model_selection import ForecastingGridSearchCV\n",
    "from sktime.performance_metrics.forecasting._classes import MetricFunctionWrapper\n",
    "import warnings\n",
    "warnings.filterwarnings(\"ignore\")  "
   ]
  },
  {
   "cell_type": "code",
   "execution_count": 3,
   "metadata": {
    "id": "_VKAbn4JAvaY"
   },
   "outputs": [],
   "source": [
    "df = pd.read_csv('data.csv', index_col=0)\n",
    "df.index = pd.to_datetime(df.index)\n",
    "colist = list(df.columns.values)"
   ]
  },
  {
   "cell_type": "code",
   "execution_count": 4,
   "metadata": {
    "id": "p6LrfDYVPsOg"
   },
   "outputs": [],
   "source": [
    "window = 72\n",
    "steps = 18\n",
    "split_date = \"2018-06-01\""
   ]
  },
  {
   "cell_type": "code",
   "execution_count": 5,
   "metadata": {
    "id": "BsxPBzKf56jl"
   },
   "outputs": [],
   "source": [
    "def target_forecast(val,var):\n",
    "    reg_model = RandomForestRegressor(n_estimators=2*steps, max_depth=steps, random_state=2)\n",
    "    pred = order([(\"1\", Deseasonalizer(sp=len(fh), model=\"additive\")),(\"2\",ReducedRegressionForecaster(reg_model, \n",
    "                    strategy=\"recursive\",window_length=window))])\n",
    "    return pred"
   ]
  },
  {
   "cell_type": "code",
   "execution_count": 6,
   "metadata": {
    "id": "Gi5rUlKUdmi4"
   },
   "outputs": [],
   "source": [
    "split = len(df.loc[split_date:])/len(df)\n",
    "train, test = temporal_train_test_split(df.squeeze(), test_size=split)\n",
    "def get_gscv(train):\n",
    "    cv = SlidingWindowSplitter(\n",
    "        initial_window=int(len(train)),\n",
    "        start_with_window=True,\n",
    "    )\n",
    "    param_grid = {\n",
    "        \"n_estimators\": [0.5*steps, steps, 2*steps],\n",
    "        \"max_depth\": [0.5*steps, steps, 2*steps],\n",
    "    }\n",
    "    gscv = ForecastingGridSearchCV(pred, cv=cv, param_grid=param_grid, scoring=MetricFunctionWrapper(mean_absolute_error))\n",
    "    return gscv"
   ]
  },
  {
   "cell_type": "code",
   "execution_count": 7,
   "metadata": {
    "id": "MC8mW6IHBUNM"
   },
   "outputs": [],
   "source": [
    "forecasts = []\n",
    "for index, col in df.iteritems():\n",
    "    col.index = col.index.to_period('M') \n",
    "    train, test = temporal_train_test_split(col, test_size=split)\n",
    "    fh = list(range(1,1+steps))\n",
    "    var = {'param':'avg'}\n",
    "    avg = [.5] \n",
    "    for val in avg:\n",
    "        pred = target_forecast(val,var)\n",
    "        fh = fh\n",
    "        pred.fit(train)\n",
    "        pred = pred.predict(fh)\n",
    "        forecasts.append(pred)\n",
    "forecasts = pd.concat([pd.DataFrame(forecasts).T])\n",
    "forecasts = forecasts.rename(columns=dict(zip(forecasts.columns,colist)))\n",
    "forecasts.rename(columns={'EPS_10YR':'EPS_10YR_fore'}, inplace=True)\n",
    "forecasts = forecasts.reset_index()\n",
    "forecasts = forecasts.rename(columns={'index':'date'})\n",
    "forecasts = forecasts.set_index('date')"
   ]
  },
  {
   "cell_type": "code",
   "execution_count": 8,
   "metadata": {},
   "outputs": [],
   "source": [
    "y_ = forecasts.EPS_10YR_fore.values\n",
    "x_ = forecasts.drop(forecasts.iloc[:, np.r_[1, 3:]], axis = 1).assign(constant=1).values\n",
    "i = int(steps)\n",
    "reg = []\n",
    "for n in range(i,len(forecasts)):\n",
    "    y = y_[(n - i):n]\n",
    "    X = x_[(n - i):n]\n",
    "    reg.append(np.linalg.inv(X.T.dot(X)).dot(X.T).dot(y).dot(x_[n, :])) "
   ]
  },
  {
   "cell_type": "code",
   "execution_count": 9,
   "metadata": {},
   "outputs": [
    {
     "name": "stdout",
     "output_type": "stream",
     "text": [
      "         EPS_10YR_pred\n",
      "date                  \n",
      "2018-06       0.213364\n",
      "2018-07       0.222711\n",
      "2018-08       0.204850\n",
      "2018-09       0.163273\n",
      "2018-10       0.127553\n",
      "2018-11       0.098188\n",
      "2018-12       0.061230\n",
      "2019-01       0.121115\n",
      "2019-02       0.122816\n",
      "2019-03       0.117678\n",
      "2019-04       0.039379\n",
      "2019-05       0.036445\n",
      "2019-06       0.029382\n",
      "2019-07       0.013187\n",
      "2019-08       0.006856\n",
      "2019-09      -0.006658\n",
      "2019-10       0.084297\n",
      "2019-11       0.068049\n"
     ]
    }
   ],
   "source": [
    "y_reg=pd.concat([pd.DataFrame(reg, columns=['EPS_10YR_reg'])])\n",
    "fore_results = forecasts[['EPS_10YR_fore']].reset_index()\n",
    "reg_results = fore_results.merge(y_reg, left_index=True, right_index=True)\n",
    "reg_results = reg_results.set_index('date')\n",
    "reg_results = reg_results[['EPS_10YR_reg']]\n",
    "ensemble = pd.merge(forecasts,reg_results, how='outer', on='date').reset_index()\n",
    "ensemble = ensemble.assign(EPS_10YR_pred = ensemble.loc[:, [\"EPS_10YR_fore\", \"EPS_10YR_reg\"]].mean(axis=1)).set_index('date')\n",
    "LT_pred_results = ensemble[['EPS_10YR_pred']]\n",
    "print(LT_pred_results)"
   ]
  },
  {
   "cell_type": "code",
   "execution_count": 10,
   "metadata": {},
   "outputs": [
    {
     "data": {
      "image/png": "[encoded data removed]",
      "text/plain": [
       "<Figure size 576x288 with 1 Axes>"
      ]
     },
     "metadata": {
      "needs_background": "light"
     },
     "output_type": "display_data"
    }
   ],
   "source": [
    "plt.figure(figsize=(8,4))\n",
    "ax1 = df.EPS_10YR.plot(color='orange',label='True', marker = 'o')\n",
    "ax2 = LT_pred_results.EPS_10YR_pred.plot(color='blue', marker='o', label='Prediction')\n",
    "ax1.set_ylabel('Modified EPS')\n",
    "ax1.set_xlabel('Year')\n",
    "ax1.set_xlim([datetime.date(2012,1,1), datetime.date(2019,11,1)])\n",
    "ax1.set_ylim([-0.5, 0.5])\n",
    "plt.title('Actual Vs Prediction')\n",
    "plt.legend()\n",
    "plt.show()"
   ]
  },
  {
   "cell_type": "code",
   "execution_count": 11,
   "metadata": {},
   "outputs": [
    {
     "name": "stdout",
     "output_type": "stream",
     "text": [
      "      index         0\n",
      "0   2021-05  0.088524\n",
      "1   2021-06  0.091052\n",
      "2   2021-07  0.088682\n",
      "3   2021-08  0.069655\n",
      "4   2021-09  0.058871\n",
      "5   2021-10  0.044569\n",
      "6   2021-11  0.033887\n",
      "7   2021-12  0.029531\n",
      "8   2022-01  0.089406\n",
      "9   2022-02  0.085425\n",
      "10  2022-03  0.085302\n",
      "11  2022-04  0.015175\n",
      "12  2022-05  0.009364\n",
      "13  2022-06  0.014718\n",
      "14  2022-07  0.022776\n",
      "15  2022-08  0.018814\n",
      "16  2022-09  0.013780\n",
      "17  2022-10  0.107443\n"
     ]
    }
   ],
   "source": [
    "#future forecast\n",
    "df.index = pd.to_datetime(df.index).to_period('M')\n",
    "split = len(df.loc[split_date:])/len(df)\n",
    "train, test = temporal_train_test_split(df.iloc[:,-1], test_size=split)\n",
    "future_forecasts = []\n",
    "fh = list(range(1,1+steps))\n",
    "var = {'param':'avg'}\n",
    "avg = [.5] \n",
    "for val in avg:\n",
    "    pred = target_forecast(val,var)\n",
    "    fh = list(range(2*steps,3*steps))\n",
    "    pred.fit(train)\n",
    "    pred = pred.predict(fh)\n",
    "    future_forecasts.append(pred)\n",
    "f_forecasts = pd.concat([pd.DataFrame(future_forecasts)])\n",
    "print(f_forecasts.T.reset_index())"
   ]
  }
 ],
 "metadata": {
  "colab": {
   "collapsed_sections": [],
   "name": "RandomForest_new_EPS-10YR.ipynb",
   "provenance": []
  },
  "kernelspec": {
   "display_name": "Python 3",
   "language": "python",
   "name": "python3"
  },
  "language_info": {
   "codemirror_mode": {
    "name": "ipython",
    "version": 3
   },
   "file_extension": ".py",
   "mimetype": "text/x-python",
   "name": "python",
   "nbconvert_exporter": "python",
   "pygments_lexer": "ipython3",
   "version": "3.8.5"
  }
 },
 "nbformat": 4,
 "nbformat_minor": 1
}
