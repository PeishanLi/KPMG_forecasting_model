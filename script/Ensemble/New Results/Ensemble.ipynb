{
 "cells": [
  {
   "cell_type": "code",
   "execution_count": null,
   "metadata": {},
   "outputs": [],
   "source": [
    "# KPMG Forecasting Project\n",
    "# Ensemble Technique\n",
    "# Author: Kushal Wijesundara"
   ]
  },
  {
   "cell_type": "code",
   "execution_count": 1,
   "metadata": {
    "id": "Rgw7PL1nkV75"
   },
   "outputs": [],
   "source": [
    "import numpy as np\n",
    "import pandas as pd\n",
    "import datetime "
   ]
  },
  {
   "cell_type": "code",
   "execution_count": 2,
   "metadata": {},
   "outputs": [],
   "source": [
    "ST01 = pd.read_csv('one_month_prediction.csv',index_col=0)\n",
    "ST02 = pd.read_csv('two_month_prediction.csv',index_col=0)\n",
    "ST03 = pd.read_csv('three_month_prediction.csv',index_col=0)\n",
    "ST04 = pd.read_csv('four_month_prediction.csv',index_col=0)\n",
    "ST05 = pd.read_csv('five_month_prediction.csv',index_col=0)\n",
    "ST06 = pd.read_csv('six_month_prediction.csv',index_col=0)\n",
    "ST07 = pd.read_csv('seven_month_prediction.csv',index_col=0)\n",
    "ST08 = pd.read_csv('eight_month_prediction.csv',index_col=0)\n",
    "ST09 = pd.read_csv('nine_month_prediction.csv',index_col=0)\n",
    "ST10 = pd.read_csv('ten_month_prediction.csv',index_col=0)\n",
    "ST11 = pd.read_csv('eleven_month_prediction.csv',index_col=0)\n",
    "ST12 = pd.read_csv('twelve_month_prediction.csv',index_col=0)"
   ]
  },
  {
   "cell_type": "code",
   "execution_count": 3,
   "metadata": {
    "id": "vkd2u3HonNnn"
   },
   "outputs": [],
   "source": [
    "LT07 = pd.read_csv('LTresults_07months.csv', index_col=0)\n",
    "LT08 = pd.read_csv('LTresults_08months.csv', index_col=0)\n",
    "LT09 = pd.read_csv('LTresults_09months.csv', index_col=0)\n",
    "LT10 = pd.read_csv('LTresults_10months.csv', index_col=0)\n",
    "LT11 = pd.read_csv('LTresults_11months.csv', index_col=0)\n",
    "LT12 = pd.read_csv('LTresults_12months.csv', index_col=0)\n",
    "LT13 = pd.read_csv('LTresults_13months.csv', index_col=0)\n",
    "LT14 = pd.read_csv('LTresults_14months.csv', index_col=0)\n",
    "LT15 = pd.read_csv('LTresults_15months.csv', index_col=0)\n",
    "LT16 = pd.read_csv('LTresults_16months.csv', index_col=0)\n",
    "LT17 = pd.read_csv('LTresults_17months.csv', index_col=0)\n",
    "LT18 = pd.read_csv('LTresults_18months.csv', index_col=0)"
   ]
  },
  {
   "cell_type": "code",
   "execution_count": 4,
   "metadata": {},
   "outputs": [],
   "source": [
    "# n=1: only ST Model effect\n",
    "def generate_Ensemble(ST, n):\n",
    "  ST.index = pd.to_datetime(ST.index)\n",
    "  ST = ST.rename(columns={'yhat': 'ST_EPS_10YR_pred', 'y': 'EPS_10YR'})\n",
    "  Ensemble = ST.assign(Ensemble_pred=lambda x: ST['ST_EPS_10YR_pred']*n)\n",
    "  Ensemble = Ensemble[['EPS_10YR','Ensemble_pred']]\n",
    "  return Ensemble"
   ]
  },
  {
   "cell_type": "code",
   "execution_count": 5,
   "metadata": {},
   "outputs": [],
   "source": [
    "Ensemble_01months = generate_Ensemble(ST01, 1)\n",
    "Ensemble_02months = generate_Ensemble(ST02, 1)\n",
    "Ensemble_03months = generate_Ensemble(ST03, 1)\n",
    "Ensemble_04months = generate_Ensemble(ST04, 1)\n",
    "Ensemble_05months = generate_Ensemble(ST05, 1)\n",
    "Ensemble_06months = generate_Ensemble(ST06, 1)"
   ]
  },
  {
   "cell_type": "code",
   "execution_count": 6,
   "metadata": {
    "id": "a76jbDLZIbyD"
   },
   "outputs": [],
   "source": [
    "# n>0.5: more ST Model effect\n",
    "# n<0.5: more lT Model effect\n",
    "\n",
    "def generate_Ensemble(ST, LT, n):\n",
    "  ST.index = pd.to_datetime(ST.index)\n",
    "  LT.index = pd.to_datetime(LT.index)\n",
    "  STLT = pd.concat([ST, LT], axis=1)\n",
    "  STLT = STLT.rename(columns={'yhat': 'ST_EPS_10YR_pred', 'EPS_10YR_pred': 'LT_EPS_10YR_pred'})\n",
    "  Ensemble = STLT.assign(Ensemble_pred=lambda x: STLT['ST_EPS_10YR_pred']*n +  STLT['LT_EPS_10YR_pred']*(1-n))\n",
    "  Ensemble = Ensemble[['EPS_10YR','Ensemble_pred']].dropna()\n",
    "  return Ensemble"
   ]
  },
  {
   "cell_type": "code",
   "execution_count": 7,
   "metadata": {},
   "outputs": [],
   "source": [
    "Ensemble_07months = generate_Ensemble(ST07, LT07, 0.7)\n",
    "Ensemble_08months = generate_Ensemble(ST08, LT08, 0.6)\n",
    "Ensemble_09months = generate_Ensemble(ST09, LT09, 0.5)\n",
    "Ensemble_10months = generate_Ensemble(ST09, LT09, 0.5)\n",
    "Ensemble_11months = generate_Ensemble(ST11, LT11, 0.4)\n",
    "Ensemble_12months = generate_Ensemble(ST12, LT12, 0.3)"
   ]
  },
  {
   "cell_type": "code",
   "execution_count": 8,
   "metadata": {},
   "outputs": [],
   "source": [
    "# n=1: only lT Model effect\n",
    "def generate_Ensemble(LT, n):\n",
    "  LT.index = pd.to_datetime(LT.index)\n",
    "  LT = LT.rename(columns={'EPS_10YR_pred': 'LT_EPS_10YR_pred'})\n",
    "  Ensemble = LT.assign(Ensemble_pred=lambda x: LT['LT_EPS_10YR_pred']*n)\n",
    "  Ensemble = Ensemble[['EPS_10YR','Ensemble_pred']]\n",
    "  return Ensemble"
   ]
  },
  {
   "cell_type": "code",
   "execution_count": 9,
   "metadata": {},
   "outputs": [],
   "source": [
    "Ensemble_13months = generate_Ensemble(LT13, 1)\n",
    "Ensemble_14months = generate_Ensemble(LT14, 1)\n",
    "Ensemble_15months = generate_Ensemble(LT15, 1)\n",
    "Ensemble_16months = generate_Ensemble(LT16, 1)\n",
    "Ensemble_17months = generate_Ensemble(LT17, 1)\n",
    "Ensemble_17months = generate_Ensemble(LT18, 1)\n",
    "Ensemble_18months = generate_Ensemble(LT18, 1)"
   ]
  },
  {
   "cell_type": "code",
   "execution_count": 10,
   "metadata": {
    "colab": {
     "base_uri": "https://localhost:8080/",
     "height": 415
    },
    "id": "Dj-bMkn-vfPD",
    "outputId": "c4c5e7a6-b067-4b3c-c384-b118e3a6afc6"
   },
   "outputs": [],
   "source": [
    "Ensemble_01months.to_csv('Ensemble_01months.csv')\n",
    "Ensemble_02months.to_csv('Ensemble_02months.csv')\n",
    "Ensemble_03months.to_csv('Ensemble_03months.csv')\n",
    "Ensemble_04months.to_csv('Ensemble_04months.csv')\n",
    "Ensemble_05months.to_csv('Ensemble_05months.csv')\n",
    "Ensemble_06months.to_csv('Ensemble_06months.csv')"
   ]
  },
  {
   "cell_type": "code",
   "execution_count": 11,
   "metadata": {},
   "outputs": [],
   "source": [
    "Ensemble_07months.to_csv('Ensemble_07months.csv')\n",
    "Ensemble_08months.to_csv('Ensemble_08months.csv')\n",
    "Ensemble_09months.to_csv('Ensemble_09months.csv')\n",
    "Ensemble_10months.to_csv('Ensemble_10months.csv')\n",
    "Ensemble_11months.to_csv('Ensemble_11months.csv')\n",
    "Ensemble_12months.to_csv('Ensemble_12months.csv')"
   ]
  },
  {
   "cell_type": "code",
   "execution_count": 12,
   "metadata": {},
   "outputs": [],
   "source": [
    "Ensemble_13months.to_csv('Ensemble_13months.csv')\n",
    "Ensemble_14months.to_csv('Ensemble_14months.csv')\n",
    "Ensemble_15months.to_csv('Ensemble_15months.csv')\n",
    "Ensemble_16months.to_csv('Ensemble_16months.csv')\n",
    "Ensemble_17months.to_csv('Ensemble_17months.csv')\n",
    "Ensemble_18months.to_csv('Ensemble_18months.csv')"
   ]
  }
 ],
 "metadata": {
  "colab": {
   "collapsed_sections": [],
   "name": "Ensemble_Y10-6.ipynb",
   "provenance": []
  },
  "kernelspec": {
   "display_name": "Python 3",
   "language": "python",
   "name": "python3"
  },
  "language_info": {
   "codemirror_mode": {
    "name": "ipython",
    "version": 3
   },
   "file_extension": ".py",
   "mimetype": "text/x-python",
   "name": "python",
   "nbconvert_exporter": "python",
   "pygments_lexer": "ipython3",
   "version": "3.8.5"
  }
 },
 "nbformat": 4,
 "nbformat_minor": 1
}
